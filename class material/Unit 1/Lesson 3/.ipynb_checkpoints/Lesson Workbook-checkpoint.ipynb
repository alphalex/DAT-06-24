{
 "cells": [
  {
   "cell_type": "markdown",
   "metadata": {},
   "source": [
    "### Lesson 3 Workbook"
   ]
  },
  {
   "cell_type": "markdown",
   "metadata": {},
   "source": [
    "#### Exercise 1: Conditional Logic"
   ]
  },
  {
   "cell_type": "markdown",
   "metadata": {},
   "source": [
    "**Your Task:** Take a look at the following 3-4 control flow statements, and troubleshoot why they're getting error messages, and try to fix them."
   ]
  },
  {
   "cell_type": "code",
   "execution_count": 3,
   "metadata": {},
   "outputs": [],
   "source": [
    "# Remove the error messages\n",
    "var = 23\n",
    "\n",
    "if var <= 22:\n",
    "    print(\"It's true.\")"
   ]
  },
  {
   "cell_type": "code",
   "execution_count": 4,
   "metadata": {},
   "outputs": [
    {
     "name": "stdout",
     "output_type": "stream",
     "text": [
      "It's a string\n",
      "Goodbye.\n"
     ]
    }
   ],
   "source": [
    "var2 = 'A string'\n",
    "\n",
    "if type(var2) == str:\n",
    "    print(\"It's a string\")\n",
    "print(\"Goodbye.\")"
   ]
  },
  {
   "cell_type": "code",
   "execution_count": 9,
   "metadata": {},
   "outputs": [
    {
     "name": "stdout",
     "output_type": "stream",
     "text": [
      "They're something else.\n"
     ]
    }
   ],
   "source": [
    "var3 = 'Another string'\n",
    "var4 = True\n",
    "\n",
    "if type(var3) == str and type(var4) == str:\n",
    "    print(\"They're both strings.\")\n",
    "elif type(var3) == bool and type(var4) == bool:\n",
    "    print(\"They're booleans\")\n",
    "else:\n",
    "    print(\"They're something else.\")"
   ]
  },
  {
   "cell_type": "markdown",
   "metadata": {},
   "source": [
    "This comparison is meant to go through the following conditions:\n",
    " - Checks first to see if it's a number of any type (int or float), and prints a message confirming that it does\n",
    " - Checks second to see if it's a string, and then prints a message confirming as much\n",
    " - Checks to see if it's a boolean value, and then prints a message confirming as much\n",
    " - Finally, prints a message called 'None of the Above' if none of these are true.\n",
    " \n",
    "**The statement below is not correct**, but it does not give an error message.  Try different variable types to see how it doesn't progress the way it should.  \n",
    "\n",
    "See if you can catch the error."
   ]
  },
  {
   "cell_type": "code",
   "execution_count": 10,
   "metadata": {},
   "outputs": [
    {
     "name": "stdout",
     "output_type": "stream",
     "text": [
      "It's a string.\n"
     ]
    }
   ],
   "source": [
    "var5 = 'A string'\n",
    "\n",
    "if type(var5) == int or type(var5) == float:\n",
    "    print(\"It's a number.\")\n",
    "elif type(var5) == str:\n",
    "    print(\"It's a string.\")\n",
    "elif type(var5) == bool:\n",
    "    print(\"It's a boolean.\")\n",
    "else:\n",
    "    print(\"It's something else.\")"
   ]
  },
  {
   "cell_type": "markdown",
   "metadata": {},
   "source": [
    "To build on the last exercise, extend it in the following way:\n",
    " - If the variable is a number, then check to see if it's even or odd.\n",
    "  - If it's odd, print a statement saying as much.  Ditto if it's even.\n",
    " - If the variable is a string, check to see if it's at least 8 letters long.\n",
    "  - If it is, print a statement saying as such.\n",
    "  - If it's less than 8 letters long, print something else."
   ]
  },
  {
   "cell_type": "code",
   "execution_count": 22,
   "metadata": {},
   "outputs": [],
   "source": [
    "def ex1(x):\n",
    "    if type(x) == int or type(x) == float:\n",
    "        if (x % 2) != 0:\n",
    "            print(\"{} is an odd.\".format(x))\n",
    "    elif type(x) == str:\n",
    "        if (len(x) > 7):\n",
    "            print(\"'{}' is a string longer at least 8 letters\".format(x))\n",
    "        else:\n",
    "            print(\"'{}' is a string shorter than 8 letters\".format(x))"
   ]
  },
  {
   "cell_type": "code",
   "execution_count": 23,
   "metadata": {},
   "outputs": [
    {
     "name": "stdout",
     "output_type": "stream",
     "text": [
      "'hello' is a string shorter than 8 letters\n"
     ]
    }
   ],
   "source": [
    "ex1(\"hello\")"
   ]
  },
  {
   "cell_type": "code",
   "execution_count": 24,
   "metadata": {},
   "outputs": [
    {
     "name": "stdout",
     "output_type": "stream",
     "text": [
      "'hello world' is a string longer at least 8 letters\n"
     ]
    }
   ],
   "source": [
    "ex1(\"hello world\")"
   ]
  },
  {
   "cell_type": "code",
   "execution_count": 25,
   "metadata": {},
   "outputs": [
    {
     "name": "stdout",
     "output_type": "stream",
     "text": [
      "11 is an odd.\n"
     ]
    }
   ],
   "source": [
    "ex1(11)"
   ]
  },
  {
   "cell_type": "code",
   "execution_count": 26,
   "metadata": {},
   "outputs": [],
   "source": [
    "ex1(10)"
   ]
  },
  {
   "cell_type": "markdown",
   "metadata": {},
   "source": [
    "**Exercise 2: Final Comparison**\n",
    "\n",
    "Imagine you are writing conditional logic to verify password integrity, and a user provides you with a password to use, and repeats it for you again to verify its authenticity (a common practice).\n",
    "\n",
    "Implement an if/else statement that properly checks for password integrity in the following ways:\n",
    " - double checks to make sure the version of the passwords are equal to one another.  If not, provide an error message.\n",
    " - If they are equal, checks to make sure the password contains both numbers and letters (hint: look at the methods isalpha() and isnumeric() for this).  If not, display an error message.\n",
    " - If they contain both numbers and letters, make sure it's at least 8 letters long.  If not, display an error message.\n",
    " - If the password meets these criteria, create a variable called permanent password, and set it equal to the password provided by the user."
   ]
  },
  {
   "cell_type": "code",
   "execution_count": 41,
   "metadata": {},
   "outputs": [
    {
     "name": "stdout",
     "output_type": "stream",
     "text": [
      "1\n",
      "0\n",
      "a\n"
     ]
    }
   ],
   "source": [
    "xxxxxx = '10as10'\n",
    "\n",
    "for i in xxxxxx:\n",
    "    print(i)\n",
    "    if i.isalpha():\n",
    "        break\n",
    "    "
   ]
  },
  {
   "cell_type": "code",
   "execution_count": 82,
   "metadata": {},
   "outputs": [
    {
     "data": {
      "text/plain": [
       "True"
      ]
     },
     "execution_count": 82,
     "metadata": {},
     "output_type": "execute_result"
    }
   ],
   "source": [
    "jm = \"1a0a\"\n",
    "jm.isalnum()"
   ]
  },
  {
   "cell_type": "code",
   "execution_count": 89,
   "metadata": {},
   "outputs": [],
   "source": [
    "# Your Code Here\n",
    "def password_check(password1, password2):\n",
    "    password1 = str(password1)\n",
    "    password2 = str(password2)\n",
    "    is_alpha = False\n",
    "    is_numeric = False\n",
    "    if password1 != password2:\n",
    "        print(\"Two passwords do not match. Try again\")\n",
    "    else:\n",
    "        for i in password1:\n",
    "            #print(i)\n",
    "            if i.isalpha():\n",
    "                is_alpha = True\n",
    "            if i.isnumeric():\n",
    "                is_numeric = True\n",
    "            if is_alpha and is_numeric:\n",
    "                break\n",
    "        if not(is_alpha and is_numeric):\n",
    "#         if not(password1.isalnum()):\n",
    "            print(\"Password should contain both letters and numeric. Try again\")\n",
    "        else:\n",
    "            if(len(password1)<8):\n",
    "                print(\"It's too short. Make it 8 or longer\")\n",
    "            else:\n",
    "                print(\"It's a good one\")\n",
    "            "
   ]
  },
  {
   "cell_type": "code",
   "execution_count": 92,
   "metadata": {},
   "outputs": [
    {
     "name": "stdout",
     "output_type": "stream",
     "text": [
      "Two passwords do not match. Try again\n"
     ]
    }
   ],
   "source": [
    "password_check(10,110)"
   ]
  },
  {
   "cell_type": "code",
   "execution_count": 94,
   "metadata": {},
   "outputs": [
    {
     "name": "stdout",
     "output_type": "stream",
     "text": [
      "please input your passwordreally?\n"
     ]
    }
   ],
   "source": [
    "p = input(\"please input your password\")"
   ]
  },
  {
   "cell_type": "code",
   "execution_count": 95,
   "metadata": {
    "scrolled": true
   },
   "outputs": [
    {
     "data": {
      "text/plain": [
       "'really?'"
      ]
     },
     "execution_count": 95,
     "metadata": {},
     "output_type": "execute_result"
    }
   ],
   "source": [
    "p"
   ]
  },
  {
   "cell_type": "markdown",
   "metadata": {},
   "source": [
    "#### Exercise 4: Lists"
   ]
  },
  {
   "cell_type": "markdown",
   "metadata": {},
   "source": [
    "Take the following list, and use it to practice various types of slices and list operations:"
   ]
  },
  {
   "cell_type": "code",
   "execution_count": 76,
   "metadata": {},
   "outputs": [],
   "source": [
    "my_list = [1, 2, 3, 38, 49, 'a string', 'another string', 'some other string', True, False, 21.8, 'yet another strin', 'the last item']"
   ]
  },
  {
   "cell_type": "markdown",
   "metadata": {},
   "source": [
    "Grab the first 10 items in the list:"
   ]
  },
  {
   "cell_type": "code",
   "execution_count": 54,
   "metadata": {},
   "outputs": [
    {
     "data": {
      "text/plain": [
       "[1,\n",
       " 2,\n",
       " 3,\n",
       " 38,\n",
       " 49,\n",
       " 'a string',\n",
       " 'another string',\n",
       " 'some other string',\n",
       " True,\n",
       " False]"
      ]
     },
     "execution_count": 54,
     "metadata": {},
     "output_type": "execute_result"
    }
   ],
   "source": [
    "my_list[:10]"
   ]
  },
  {
   "cell_type": "markdown",
   "metadata": {},
   "source": [
    "Grab the last 10 items in the list:"
   ]
  },
  {
   "cell_type": "code",
   "execution_count": 77,
   "metadata": {},
   "outputs": [
    {
     "data": {
      "text/plain": [
       "['the last item',\n",
       " 'yet another strin',\n",
       " 21.8,\n",
       " False,\n",
       " True,\n",
       " 'some other string',\n",
       " 'another string',\n",
       " 'a string',\n",
       " 49,\n",
       " 38]"
      ]
     },
     "execution_count": 77,
     "metadata": {},
     "output_type": "execute_result"
    }
   ],
   "source": [
    "my_list.reverse()\n",
    "my_list[:10]"
   ]
  },
  {
   "cell_type": "code",
   "execution_count": 100,
   "metadata": {},
   "outputs": [
    {
     "data": {
      "text/plain": [
       "[38,\n",
       " 49,\n",
       " 'a string',\n",
       " 'another string',\n",
       " 'some other string',\n",
       " True,\n",
       " False,\n",
       " 21.8,\n",
       " 'yet another strin',\n",
       " 'the last item']"
      ]
     },
     "execution_count": 100,
     "metadata": {},
     "output_type": "execute_result"
    }
   ],
   "source": [
    "my_list.reverse()\n",
    "my_list[-10:]"
   ]
  },
  {
   "cell_type": "markdown",
   "metadata": {},
   "source": [
    "Grab the items at index positions 3-7 in the list."
   ]
  },
  {
   "cell_type": "code",
   "execution_count": 88,
   "metadata": {},
   "outputs": [
    {
     "data": {
      "text/plain": [
       "[False, True, 'some other string', 'another string', 'a string']"
      ]
     },
     "execution_count": 88,
     "metadata": {},
     "output_type": "execute_result"
    }
   ],
   "source": [
    "my_list[3:8]"
   ]
  },
  {
   "cell_type": "markdown",
   "metadata": {},
   "source": [
    "Grab every third item of the list:"
   ]
  },
  {
   "cell_type": "code",
   "execution_count": 99,
   "metadata": {},
   "outputs": [
    {
     "data": {
      "text/plain": [
       "['the last item',\n",
       " 'yet another strin',\n",
       " 21.8,\n",
       " False,\n",
       " True,\n",
       " 'some other string',\n",
       " 'another string',\n",
       " 'a string',\n",
       " 49,\n",
       " 38,\n",
       " 3,\n",
       " 2,\n",
       " 1]"
      ]
     },
     "execution_count": 99,
     "metadata": {},
     "output_type": "execute_result"
    }
   ],
   "source": [
    "my_list"
   ]
  },
  {
   "cell_type": "code",
   "execution_count": 104,
   "metadata": {},
   "outputs": [
    {
     "data": {
      "text/plain": [
       "[1, 38, 'another string', False, 'the last item']"
      ]
     },
     "execution_count": 104,
     "metadata": {},
     "output_type": "execute_result"
    }
   ],
   "source": [
    "my_list[::3]"
   ]
  },
  {
   "cell_type": "markdown",
   "metadata": {},
   "source": []
  },
  {
   "cell_type": "markdown",
   "metadata": {},
   "source": [
    "Now, let's take a look at negative step sizes.  Run the following two lines of code to see what they do."
   ]
  },
  {
   "cell_type": "code",
   "execution_count": 108,
   "metadata": {},
   "outputs": [
    {
     "data": {
      "text/plain": [
       "[1,\n",
       " 2,\n",
       " 3,\n",
       " 38,\n",
       " 49,\n",
       " 'a string',\n",
       " 'another string',\n",
       " 'some other string',\n",
       " True,\n",
       " False,\n",
       " 21.8,\n",
       " 'yet another strin',\n",
       " 'the last item']"
      ]
     },
     "execution_count": 108,
     "metadata": {},
     "output_type": "execute_result"
    }
   ],
   "source": [
    "my_list"
   ]
  },
  {
   "cell_type": "code",
   "execution_count": 106,
   "metadata": {},
   "outputs": [
    {
     "data": {
      "text/plain": [
       "[]"
      ]
     },
     "execution_count": 106,
     "metadata": {},
     "output_type": "execute_result"
    }
   ],
   "source": [
    "my_list[2:10:-1]"
   ]
  },
  {
   "cell_type": "code",
   "execution_count": 107,
   "metadata": {},
   "outputs": [
    {
     "data": {
      "text/plain": [
       "[21.8, False, True, 'some other string', 'another string', 'a string', 49, 38]"
      ]
     },
     "execution_count": 107,
     "metadata": {},
     "output_type": "execute_result"
    }
   ],
   "source": [
    "my_list[10:2:-1]"
   ]
  },
  {
   "cell_type": "markdown",
   "metadata": {},
   "source": [
    "Can you make sense of what's happening?\n",
    "\n",
    "How would you *reverse* a list using this method?"
   ]
  },
  {
   "cell_type": "code",
   "execution_count": 134,
   "metadata": {},
   "outputs": [
    {
     "data": {
      "text/plain": [
       "['the last item',\n",
       " 'yet another strin',\n",
       " 21.8,\n",
       " False,\n",
       " True,\n",
       " 'some other string',\n",
       " 'another string',\n",
       " 'a string',\n",
       " 49,\n",
       " 38,\n",
       " 3,\n",
       " 2,\n",
       " 1]"
      ]
     },
     "execution_count": 134,
     "metadata": {},
     "output_type": "execute_result"
    }
   ],
   "source": [
    "# Reverse the list here\n",
    "my_list[len(my_list)::-1]\n"
   ]
  },
  {
   "cell_type": "code",
   "execution_count": 133,
   "metadata": {},
   "outputs": [
    {
     "data": {
      "text/plain": [
       "['the last item',\n",
       " 'yet another strin',\n",
       " 21.8,\n",
       " False,\n",
       " True,\n",
       " 'some other string',\n",
       " 'another string',\n",
       " 'a string',\n",
       " 49,\n",
       " 38,\n",
       " 3,\n",
       " 2,\n",
       " 1]"
      ]
     },
     "execution_count": 133,
     "metadata": {},
     "output_type": "execute_result"
    }
   ],
   "source": [
    "my_list[::-1]"
   ]
  },
  {
   "cell_type": "markdown",
   "metadata": {},
   "source": [
    "**List Methods:** Now, let's take a look at different list methods that are commonly used:\n",
    " - append()\n",
    " - insert()\n",
    " - pop()\n",
    " - clear()\n",
    " - remove()\n",
    " \n",
    "Let's see if we can figure out what they do.\n",
    "\n",
    "The official documentation is here:  https://docs.python.org/3/tutorial/datastructures.html"
   ]
  },
  {
   "cell_type": "code",
   "execution_count": 131,
   "metadata": {},
   "outputs": [],
   "source": [
    "list_a = [1,2,3,4,5,6]\n",
    "list_b = ['a', 'b', 'c', 'd', 'd', 'e', 'f']"
   ]
  },
  {
   "cell_type": "code",
   "execution_count": 130,
   "metadata": {},
   "outputs": [
    {
     "name": "stdout",
     "output_type": "stream",
     "text": [
      "[1, 2, 3, 4, 5, 6, 'a', 'b', 'c', 'd', 'd', 'e', 'f']\n"
     ]
    }
   ],
   "source": [
    "list_a.extend(list_b)\n",
    "print(list_a)"
   ]
  },
  {
   "cell_type": "code",
   "execution_count": 132,
   "metadata": {},
   "outputs": [
    {
     "data": {
      "text/plain": [
       "[1, 2, 3, 4, 5, 6, ['a', 'b', 'c', 'd', 'd', 'e', 'f']]"
      ]
     },
     "execution_count": 132,
     "metadata": {},
     "output_type": "execute_result"
    }
   ],
   "source": [
    "list_a.append(list_b)\n",
    "list_a"
   ]
  },
  {
   "cell_type": "code",
   "execution_count": 120,
   "metadata": {},
   "outputs": [
    {
     "data": {
      "text/plain": [
       "[1, 2, 3, 'hello', 4, 5, 6, 10]"
      ]
     },
     "execution_count": 120,
     "metadata": {},
     "output_type": "execute_result"
    }
   ],
   "source": [
    "list_a.insert(3,\"hello\")\n",
    "list_a"
   ]
  },
  {
   "cell_type": "code",
   "execution_count": 122,
   "metadata": {},
   "outputs": [
    {
     "name": "stdout",
     "output_type": "stream",
     "text": [
      "6\n",
      "[1, 2, 3, 'hello', 4, 5]\n"
     ]
    }
   ],
   "source": [
    "print(list_a.pop())\n",
    "print(list_a)"
   ]
  },
  {
   "cell_type": "code",
   "execution_count": 124,
   "metadata": {},
   "outputs": [
    {
     "name": "stdout",
     "output_type": "stream",
     "text": [
      "None\n",
      "[1, 2, 'hello', 4, 5]\n"
     ]
    }
   ],
   "source": [
    "print(list_a.remove(3))\n",
    "print(list_a)"
   ]
  },
  {
   "cell_type": "code",
   "execution_count": 126,
   "metadata": {},
   "outputs": [
    {
     "name": "stdout",
     "output_type": "stream",
     "text": [
      "[1, 2, 'hello', 4, 5, ['a', 'b', 'c', 'd', 'd', 'e', 'f'], ['a', 'b', 'c', 'd', 'd', 'e', 'f']]\n"
     ]
    }
   ],
   "source": [
    "list_a.append(list_b)\n",
    "print(list_a)"
   ]
  },
  {
   "cell_type": "markdown",
   "metadata": {},
   "source": [
    "**Iterables:** Lists have index positions, but they're not the only data type that does this.  Broadly speaking, any data type that allows you to access its individual members by an index position is called an *iterable*, and these are fairly pervasive in python.\n",
    "\n",
    "To demonstrate what I mean, try the following:\n",
    " - assign a string to a variable name of your choice\n",
    " - using index notation try and grab the first and last letters, and various slices of the text."
   ]
  },
  {
   "cell_type": "code",
   "execution_count": 110,
   "metadata": {},
   "outputs": [
    {
     "name": "stdout",
     "output_type": "stream",
     "text": [
      "h\n",
      "d\n"
     ]
    }
   ],
   "source": [
    "# Your Code Here\n",
    "str1 = \"hello world\"\n",
    "print(str1[0])\n",
    "print(str1[-1])"
   ]
  },
  {
   "cell_type": "markdown",
   "metadata": {},
   "source": [
    "#### Loops"
   ]
  },
  {
   "cell_type": "markdown",
   "metadata": {},
   "source": [
    "We'll start with the list we had at the beginning of this workshop:"
   ]
  },
  {
   "cell_type": "code",
   "execution_count": 136,
   "metadata": {},
   "outputs": [],
   "source": [
    "my_list = [1, 2, 3, 38, 49, 'a string', 'another string', 'some other string', True, False, 21.8, 'yet another strin', 'the last item']"
   ]
  },
  {
   "cell_type": "markdown",
   "metadata": {},
   "source": [
    "**1).** Using a loop, print off every single item in the above list, as well as its data type.  You can do this using one or two print statements."
   ]
  },
  {
   "cell_type": "code",
   "execution_count": 192,
   "metadata": {},
   "outputs": [
    {
     "name": "stdout",
     "output_type": "stream",
     "text": [
      "1: <class 'int'>\n",
      "2: <class 'int'>\n",
      "3: <class 'int'>\n",
      "38: <class 'int'>\n",
      "49: <class 'int'>\n",
      "a string: <class 'str'>\n",
      "another string: <class 'str'>\n",
      "some other string: <class 'str'>\n",
      "True: <class 'bool'>\n",
      "False: <class 'bool'>\n",
      "21.8: <class 'float'>\n",
      "yet another strin: <class 'str'>\n",
      "the last item: <class 'str'>\n"
     ]
    }
   ],
   "source": [
    "# your code here\n",
    "for i in my_list:\n",
    "    print(\"{0}: {1}\".format(i, type(i)))"
   ]
  },
  {
   "cell_type": "markdown",
   "metadata": {},
   "source": [
    "**2).** Using a loop, print off every single item in the list *if it's a number of any sort*"
   ]
  },
  {
   "cell_type": "code",
   "execution_count": 140,
   "metadata": {},
   "outputs": [
    {
     "name": "stdout",
     "output_type": "stream",
     "text": [
      "1\n",
      "2\n",
      "3\n",
      "38\n",
      "49\n",
      "21.8\n"
     ]
    }
   ],
   "source": [
    "# your code here\n",
    "for i in my_list:\n",
    "    if type(i) == int or type(i) == float:\n",
    "        print(i)"
   ]
  },
  {
   "cell_type": "markdown",
   "metadata": {},
   "source": [
    "**3).** Create a variable called list_sum, and use a loop to sum up the values of all of the numeric data in your list.\n",
    "\n",
    "**hint:** remember the += notation"
   ]
  },
  {
   "cell_type": "code",
   "execution_count": 3,
   "metadata": {},
   "outputs": [
    {
     "name": "stdout",
     "output_type": "stream",
     "text": [
      "119.11\n"
     ]
    }
   ],
   "source": [
    "# your code here\n",
    "w_list = ['hello', 1, 10, \"world\", 100.11, \"this is an example\", \"longer than 8\", 8]\n",
    "list_sum = 0\n",
    "for i in w_list:\n",
    "    if type(i) == int or type(i) == float:\n",
    "        list_sum += i\n",
    "        \n",
    "print(list_sum)"
   ]
  },
  {
   "cell_type": "markdown",
   "metadata": {},
   "source": [
    "**4).** Using a loop, print off the first letter of every item in your list that's a string"
   ]
  },
  {
   "cell_type": "code",
   "execution_count": 149,
   "metadata": {},
   "outputs": [
    {
     "name": "stdout",
     "output_type": "stream",
     "text": [
      "h\n",
      "w\n",
      "t\n",
      "l\n"
     ]
    }
   ],
   "source": [
    "# your code here\n",
    "for i in w_list:\n",
    "    if type(i) == str:\n",
    "        print(i[0])"
   ]
  },
  {
   "cell_type": "markdown",
   "metadata": {},
   "source": [
    "**5).** Create a variable called string_list, and use a loop to add every item in my_list that's a string that's more than 8 characters."
   ]
  },
  {
   "cell_type": "code",
   "execution_count": 153,
   "metadata": {
    "scrolled": true
   },
   "outputs": [
    {
     "name": "stdout",
     "output_type": "stream",
     "text": [
      "['this is an example', 'longer than 8']\n"
     ]
    }
   ],
   "source": [
    "# your code here\n",
    "string_list = []\n",
    "for i in w_list:\n",
    "    if type(i) == str:\n",
    "        if len(i) >= 8:\n",
    "            string_list.append(i)\n",
    "print(string_list)"
   ]
  },
  {
   "cell_type": "markdown",
   "metadata": {},
   "source": [
    "#### List Comprehensions"
   ]
  },
  {
   "cell_type": "markdown",
   "metadata": {},
   "source": [
    "Use a list comprehension to recreate the results from 3 & 5 from above."
   ]
  },
  {
   "cell_type": "code",
   "execution_count": 4,
   "metadata": {},
   "outputs": [],
   "source": [
    "x_list = list(range(10))"
   ]
  },
  {
   "cell_type": "code",
   "execution_count": 7,
   "metadata": {},
   "outputs": [
    {
     "name": "stdout",
     "output_type": "stream",
     "text": [
      "119.11\n"
     ]
    }
   ],
   "source": [
    "a = 0\n",
    "list_sum = sum([i for i in w_list if type(i) == int or type(i) == float])\n",
    "print(list_sum)"
   ]
  },
  {
   "cell_type": "code",
   "execution_count": null,
   "metadata": {},
   "outputs": [],
   "source": []
  },
  {
   "cell_type": "code",
   "execution_count": null,
   "metadata": {},
   "outputs": [],
   "source": []
  }
 ],
 "metadata": {
  "kernelspec": {
   "display_name": "Python 3",
   "language": "python",
   "name": "python3"
  },
  "language_info": {
   "codemirror_mode": {
    "name": "ipython",
    "version": 3
   },
   "file_extension": ".py",
   "mimetype": "text/x-python",
   "name": "python",
   "nbconvert_exporter": "python",
   "pygments_lexer": "ipython3",
   "version": "3.7.3"
  }
 },
 "nbformat": 4,
 "nbformat_minor": 2
}
