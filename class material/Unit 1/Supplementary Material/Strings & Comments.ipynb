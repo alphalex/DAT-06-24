{
 "cells": [
  {
   "cell_type": "markdown",
   "metadata": {},
   "source": [
    "### Printing, Strings, Comments"
   ]
  },
  {
   "cell_type": "markdown",
   "metadata": {},
   "source": [
    "This notebook is meant to be a simple, straightforward introduction for students who want basic practice repeating different aspects taught in the first portion of the Python Fundamentals unit. \n",
    "\n",
    "About half of the material regurgitates what was covered in class, and the other builds on it slightly to introduce some new material."
   ]
  },
  {
   "cell_type": "markdown",
   "metadata": {},
   "source": [
    "### Part I:  Very Basic Practice"
   ]
  },
  {
   "cell_type": "markdown",
   "metadata": {},
   "source": [
    "**Cell 1 Instructions**:  Assign three values to variables, and print each of them separately, and then in one single statement."
   ]
  },
  {
   "cell_type": "code",
   "execution_count": 4,
   "metadata": {},
   "outputs": [
    {
     "name": "stdout",
     "output_type": "stream",
     "text": [
      "hello\n",
      "world\n",
      "!\n",
      "hello world !\n",
      "helloworld!\n",
      "hello world !\n"
     ]
    }
   ],
   "source": [
    "### Put In Your Code Here ###\n",
    "var1 = 'hello'\n",
    "var2 = 'world'\n",
    "var3 = '!'\n",
    "print(var1)\n",
    "print(var2)\n",
    "print(var3)\n",
    "print(var1, var2, var3)\n",
    "print(\"{}{}{}\".format(var1, var2, var3))\n",
    "print(\"{} {} {}\".format(var1, var2, var3))\n"
   ]
  },
  {
   "cell_type": "markdown",
   "metadata": {},
   "source": [
    "**Cell 2 Instructions**: Take the same three variables you created, and insert them into a string using the technique covered in class."
   ]
  },
  {
   "cell_type": "code",
   "execution_count": 13,
   "metadata": {},
   "outputs": [
    {
     "name": "stdout",
     "output_type": "stream",
     "text": [
      "values of the three variables are: \"hello\", \"world\" and \"!\"\n",
      "****************\n",
      "values of the three variables are: 'hello', 'world' and '!'\n"
     ]
    }
   ],
   "source": [
    "### Put In Your Code Here ###\n",
    "print('values of the three variables are: \"{}\", \"{}\" and \"{}\"'.format(var1, var2, var3))\n",
    "print(\"****************\")\n",
    "print(f\"values of the three variables are: '{var1}', '{var2}' and '{var3}'\")"
   ]
  },
  {
   "cell_type": "markdown",
   "metadata": {},
   "source": [
    "**Cell 3 Instructions**: Using the same three variables, insert them into a string, but perform a method on them -- it can either be a calculation or a method if it's a string.\n",
    "\n",
    "The following cell is an example.  Run it, observe the results, and then re-create it on your own."
   ]
  },
  {
   "cell_type": "code",
   "execution_count": 14,
   "metadata": {
    "scrolled": true
   },
   "outputs": [
    {
     "name": "stdout",
     "output_type": "stream",
     "text": [
      "The remainder of 5 going into a:  3 b, uppercased:  HELLO c, made into a title:  Another String\n"
     ]
    }
   ],
   "source": [
    "a = 23\n",
    "b = 'Hello'\n",
    "c = 'Another string'\n",
    "\n",
    "print(\"The remainder of 5 going into a: \", a%5, \"b, uppercased: \", b.upper(), \"c, made into a title: \", c.title())"
   ]
  },
  {
   "cell_type": "markdown",
   "metadata": {},
   "source": [
    "For your cell, you can choose whatever sorts of operations you'd like.  Try and find a new one you haven't used yet."
   ]
  },
  {
   "cell_type": "code",
   "execution_count": 26,
   "metadata": {},
   "outputs": [
    {
     "name": "stdout",
     "output_type": "stream",
     "text": [
      "var1 partition by 'l':  ('he', 'l', 'lo') \n",
      " var2 replace letter o with gigit 0 and swapcase:  w0rld \n",
      " var3 zfill:  0000000000000000000!\n"
     ]
    }
   ],
   "source": [
    "### Put In Your Code Here ###\n",
    "print(\"var1 partition by 'l': \", var1.partition(\"l\"),\"\\n\",\n",
    "     \"var2 replace letter o with gigit 0 and swapcase: \", var2.replace(\"o\",\"0\"),\"\\n\",\n",
    "     \"var3 zfill: \",var3.zfill(20))"
   ]
  },
  {
   "cell_type": "markdown",
   "metadata": {},
   "source": [
    "#### Using Variables With The Format Function ####\n",
    "\n",
    "We'll recreate similar variable insertions using the format() function.\n",
    "\n",
    "First, evaluate the following statement, and observe its results:"
   ]
  },
  {
   "cell_type": "code",
   "execution_count": 27,
   "metadata": {},
   "outputs": [
    {
     "data": {
      "text/plain": [
       "'The first variable: My first variable, the second variable: My second variable'"
      ]
     },
     "execution_count": 27,
     "metadata": {},
     "output_type": "execute_result"
    }
   ],
   "source": [
    "'The first variable: {0}, the second variable: {1}'.format('My first variable', 'My second variable')"
   ]
  },
  {
   "cell_type": "markdown",
   "metadata": {},
   "source": [
    "**Cell 4 Instructions**: Re-order the variables passed into the previous statement, and observe the change."
   ]
  },
  {
   "cell_type": "code",
   "execution_count": 29,
   "metadata": {},
   "outputs": [
    {
     "data": {
      "text/plain": [
       "'The first variable: My second variable, the second variable: My first variable'"
      ]
     },
     "execution_count": 29,
     "metadata": {},
     "output_type": "execute_result"
    }
   ],
   "source": [
    "### Your Code Here ###\n",
    "'The first variable: {1}, the second variable: {0}'.format('My first variable', 'My second variable')"
   ]
  },
  {
   "cell_type": "markdown",
   "metadata": {},
   "source": [
    "**Cell 5 Instructions:** Re-order the variables passed into the format function so the following sentence makes sense."
   ]
  },
  {
   "cell_type": "code",
   "execution_count": 30,
   "metadata": {},
   "outputs": [
    {
     "data": {
      "text/plain": [
       "'When I go to KitKat I get Key Foods from the dairy aisle, Butter in produce, Banana from the international aisle and if my willpower is weak, a Hummus at the checkout counter'"
      ]
     },
     "execution_count": 30,
     "metadata": {},
     "output_type": "execute_result"
    }
   ],
   "source": [
    "'When I go to {4} I get {0} from the dairy aisle, {1} in produce, {3} from the international aisle \\\n",
    "and if my willpower is weak, a {2} at the checkout counter'.format('Key Foods', 'Butter', 'Hummus', 'Banana', 'KitKat')"
   ]
  },
  {
   "cell_type": "code",
   "execution_count": 31,
   "metadata": {},
   "outputs": [
    {
     "data": {
      "text/plain": [
       "'When I go to Key Foods I get Butter from the dairy aisle, Hummus in produce, KitKat from the international aisle and if my willpower is weak, a Banana at the checkout counter'"
      ]
     },
     "execution_count": 31,
     "metadata": {},
     "output_type": "execute_result"
    }
   ],
   "source": [
    "### my code ###\n",
    "'When I go to {0} I get {1} from the dairy aisle, {2} in produce, {4} from the international aisle \\\n",
    "and if my willpower is weak, a {3} at the checkout counter'.format('Key Foods', 'Butter', 'Hummus', 'Banana', 'KitKat')"
   ]
  },
  {
   "cell_type": "markdown",
   "metadata": {},
   "source": [
    "**Key Idea**:  When you specify variable position using numbers (that begin with 0), the order matters.\n",
    "\n",
    "When you specify variables using *keywords*, they don't.\n",
    "\n",
    "Evaluate the following cell to see an example:"
   ]
  },
  {
   "cell_type": "code",
   "execution_count": 32,
   "metadata": {
    "scrolled": true
   },
   "outputs": [
    {
     "data": {
      "text/plain": [
       "'My first name: Aubrey, My last name: Benson'"
      ]
     },
     "execution_count": 32,
     "metadata": {},
     "output_type": "execute_result"
    }
   ],
   "source": [
    "'My first name: {lastname}, My last name: {firstname}'.format(firstname='Benson', lastname='Aubrey')"
   ]
  },
  {
   "cell_type": "markdown",
   "metadata": {},
   "source": [
    "**Cell 6 Instructions**: Create your own string, using keyword arguments instead."
   ]
  },
  {
   "cell_type": "code",
   "execution_count": 33,
   "metadata": {},
   "outputs": [
    {
     "data": {
      "text/plain": [
       "'Today is Sunday, tomorrow is Monday'"
      ]
     },
     "execution_count": 33,
     "metadata": {},
     "output_type": "execute_result"
    }
   ],
   "source": [
    "### Your Code Goes Here ###\n",
    "\"Today is {td}, tomorrow is {tm}\".format(td = 'Sunday', tm = 'Monday')"
   ]
  },
  {
   "cell_type": "markdown",
   "metadata": {},
   "source": [
    "**Formatting Variables With the Format Function**: Take a look at the following output, and notice its results."
   ]
  },
  {
   "cell_type": "code",
   "execution_count": 34,
   "metadata": {},
   "outputs": [
    {
     "data": {
      "text/plain": [
       "'My current bank balance: $567.00'"
      ]
     },
     "execution_count": 34,
     "metadata": {},
     "output_type": "execute_result"
    }
   ],
   "source": [
    "'My current bank balance: ${balance:.2f}'.format(balance=567)"
   ]
  },
  {
   "cell_type": "markdown",
   "metadata": {},
   "source": [
    "**Cell 7 Instructions**: Recreate the following result, try changing the number of decimal places used."
   ]
  },
  {
   "cell_type": "code",
   "execution_count": 35,
   "metadata": {},
   "outputs": [
    {
     "data": {
      "text/plain": [
       "'My current bank balance: $567.00'"
      ]
     },
     "execution_count": 35,
     "metadata": {},
     "output_type": "execute_result"
    }
   ],
   "source": [
    "### Your Code Here ###\n",
    "'My current bank balance: ${balance:.002f}'.format(balance=567)"
   ]
  },
  {
   "cell_type": "markdown",
   "metadata": {},
   "source": [
    "### Part II: Working With Comments, Escape Characters\n",
    "\n",
    "For the rest of this notebook, we'll have a little bit of fun using comments and escape characters.\n",
    "\n",
    "You've probably noticed that '#' symbols don't show up in code, like below:"
   ]
  },
  {
   "cell_type": "code",
   "execution_count": 36,
   "metadata": {},
   "outputs": [
    {
     "name": "stdout",
     "output_type": "stream",
     "text": [
      "The above line doesn't show up.\n"
     ]
    }
   ],
   "source": [
    "# My Comments, Which Don't Appear\n",
    "print(\"The above line doesn't show up.\")"
   ]
  },
  {
   "cell_type": "markdown",
   "metadata": {},
   "source": [
    "**Cell 8 Instructions**: If you haven't already, print out some sort of code block that uses comments."
   ]
  },
  {
   "cell_type": "code",
   "execution_count": 37,
   "metadata": {},
   "outputs": [
    {
     "name": "stdout",
     "output_type": "stream",
     "text": [
      "this is a sample\n"
     ]
    }
   ],
   "source": [
    "### Your Code Here ###\n",
    "## Code Start\n",
    "print('this is a sample')\n",
    "## Code End "
   ]
  },
  {
   "cell_type": "markdown",
   "metadata": {},
   "source": [
    "You can also add multiline quotes, using triple quotes, like below:"
   ]
  },
  {
   "cell_type": "code",
   "execution_count": 38,
   "metadata": {},
   "outputs": [
    {
     "name": "stdout",
     "output_type": "stream",
     "text": [
      "The above does not show up.\n"
     ]
    }
   ],
   "source": [
    "\"\"\"\n",
    "A multiline comment, \n",
    "Which allows us\n",
    "To make longer form comments\n",
    "\"\"\"\n",
    "print(\"The above does not show up.\")"
   ]
  },
  {
   "cell_type": "markdown",
   "metadata": {},
   "source": [
    "**Cell 9 Instructions**: Execute a code block, adding in your own multiline comment to demonstrate that it doesn't show up."
   ]
  },
  {
   "cell_type": "code",
   "execution_count": 39,
   "metadata": {},
   "outputs": [
    {
     "name": "stdout",
     "output_type": "stream",
     "text": [
      "really?\n"
     ]
    }
   ],
   "source": [
    "### Your Code Here ###\n",
    "\"\"\"\n",
    "This block\n",
    "does not\n",
    "show in the results\n",
    "\"\"\"\n",
    "print(\"really?\")"
   ]
  },
  {
   "cell_type": "markdown",
   "metadata": {},
   "source": [
    "#### Escape Characters\n",
    "Observe the following lines, and what output they create:"
   ]
  },
  {
   "cell_type": "code",
   "execution_count": 40,
   "metadata": {},
   "outputs": [
    {
     "name": "stdout",
     "output_type": "stream",
     "text": [
      "This word will show up in 'quotes'\n"
     ]
    }
   ],
   "source": [
    "print(\"This word will show up in 'quotes'\")"
   ]
  },
  {
   "cell_type": "code",
   "execution_count": 41,
   "metadata": {},
   "outputs": [
    {
     "name": "stdout",
     "output_type": "stream",
     "text": [
      "This word will also show up in \"quotes\", but in a different way.\n"
     ]
    }
   ],
   "source": [
    "print('This word will also show up in \"quotes\", but in a different way.')"
   ]
  },
  {
   "cell_type": "code",
   "execution_count": 42,
   "metadata": {},
   "outputs": [
    {
     "ename": "SyntaxError",
     "evalue": "invalid syntax (<ipython-input-42-6519b88504df>, line 1)",
     "output_type": "error",
     "traceback": [
      "\u001b[1;36m  File \u001b[1;32m\"<ipython-input-42-6519b88504df>\"\u001b[1;36m, line \u001b[1;32m1\u001b[0m\n\u001b[1;33m    print('This line, if not modified, produces an 'error' message')\u001b[0m\n\u001b[1;37m                                                        ^\u001b[0m\n\u001b[1;31mSyntaxError\u001b[0m\u001b[1;31m:\u001b[0m invalid syntax\n"
     ]
    }
   ],
   "source": [
    "print('This line, if not modified, produces an 'error' message')"
   ]
  },
  {
   "cell_type": "markdown",
   "metadata": {},
   "source": [
    "**Cell 10 Instructions**: Re-write the above code block so there are no error messages."
   ]
  },
  {
   "cell_type": "code",
   "execution_count": 44,
   "metadata": {},
   "outputs": [
    {
     "name": "stdout",
     "output_type": "stream",
     "text": [
      "This line, if not modified, produces an \"error\" message\n",
      "This line, if not modified, produces an 'error' message\n",
      "This line, if not modified, produces an 'error' message\n"
     ]
    }
   ],
   "source": [
    "### Your Code Here ###\n",
    "print('This line, if not modified, produces an \"error\" message')\n",
    "print(\"This line, if not modified, produces an 'error' message\")\n",
    "print(\"\"\"This line, if not modified, produces an 'error' message\"\"\")"
   ]
  },
  {
   "cell_type": "markdown",
   "metadata": {},
   "source": [
    "Now, look at the following block:"
   ]
  },
  {
   "cell_type": "code",
   "execution_count": 45,
   "metadata": {},
   "outputs": [
    {
     "name": "stdout",
     "output_type": "stream",
     "text": [
      "This will \n",
      "not appear on the same line.\n"
     ]
    }
   ],
   "source": [
    "print(\"This will \\nnot appear on the same line.\")"
   ]
  },
  {
   "cell_type": "markdown",
   "metadata": {},
   "source": [
    "**Key Idea**:  The \\ character has special powers within a string, and backslashes followed by certain characters cause strings to format in particular ways.\n",
    "\n",
    "Here are a few more examples:"
   ]
  },
  {
   "cell_type": "code",
   "execution_count": 46,
   "metadata": {},
   "outputs": [
    {
     "name": "stdout",
     "output_type": "stream",
     "text": [
      "This will erase\r",
      "the part of the line preceeding this.\n"
     ]
    }
   ],
   "source": [
    "print(\"This will erase\\rthe part of the line preceeding this.\")"
   ]
  },
  {
   "cell_type": "code",
   "execution_count": 47,
   "metadata": {},
   "outputs": [
    {
     "name": "stdout",
     "output_type": "stream",
     "text": [
      "The following quote does not cause an error message: \"\n"
     ]
    }
   ],
   "source": [
    "print(\"The following quote does not cause an error message: \\\"\")"
   ]
  },
  {
   "cell_type": "markdown",
   "metadata": {},
   "source": [
    "**Cell 11 Instructions**:  Use the '\\' character to print out the following statement as it appears:\n",
    "\n",
    "This is the first line\n",
    "\n",
    "The second one has this: \"\n",
    "\n",
    "The third one 'this'\n",
    "\n",
    "And yet there are no error message."
   ]
  },
  {
   "cell_type": "code",
   "execution_count": 49,
   "metadata": {},
   "outputs": [
    {
     "name": "stdout",
     "output_type": "stream",
     "text": [
      "\n",
      "This is the first line\n",
      "\n",
      "The second one has this: \"\n",
      "\n",
      "The third one 'this'\n",
      "\n",
      "And yet there are no error message.\n",
      "\n",
      "\n"
     ]
    }
   ],
   "source": [
    "### Your Code Here ###\n",
    "print(\"\"\"\n",
    "This is the first line\\n\n",
    "The second one has this: \"\\n\n",
    "The third one 'this'\\n\n",
    "And yet there are no error message.\\n\n",
    "\"\"\")\n"
   ]
  },
  {
   "cell_type": "markdown",
   "metadata": {},
   "source": [
    "You can also use the '\\' to escape a backslash.  Observe the following line:"
   ]
  },
  {
   "cell_type": "code",
   "execution_count": 50,
   "metadata": {},
   "outputs": [
    {
     "name": "stdout",
     "output_type": "stream",
     "text": [
      "This line would \\n normally cause a new line, but it doesn't because of the backslash.\n"
     ]
    }
   ],
   "source": [
    "print(\"This line would \\\\n normally cause a new line, but it doesn't because of the backslash.\")"
   ]
  },
  {
   "cell_type": "markdown",
   "metadata": {},
   "source": [
    "**Cell 12 Instructions**: Recreate the previous statement so it forms a new line."
   ]
  },
  {
   "cell_type": "code",
   "execution_count": 51,
   "metadata": {},
   "outputs": [
    {
     "name": "stdout",
     "output_type": "stream",
     "text": [
      "This line would \n",
      " normally cause a new line, but it doesn't because of the backslash.\n"
     ]
    }
   ],
   "source": [
    "### Your Code Here ###\n",
    "print(\"This line would \\n normally cause a new line, but it doesn't because of the backslash.\")"
   ]
  },
  {
   "cell_type": "markdown",
   "metadata": {},
   "source": [
    "**Cell 13 Instructions**: Modify the following string so that it prints out correctly, like a normal file path."
   ]
  },
  {
   "cell_type": "code",
   "execution_count": 54,
   "metadata": {},
   "outputs": [
    {
     "name": "stdout",
     "output_type": "stream",
     "text": [
      "C:\\Users\\Jonat\\OneDrive\\General Assembly\\Data-Science\\Machine Learning Bootcamp\\Data\n"
     ]
    }
   ],
   "source": [
    "print('C:\\\\Users\\\\Jonat\\\\OneDrive\\\\General Assembly\\\\Data-Science\\\\Machine Learning Bootcamp\\\\Data')"
   ]
  }
 ],
 "metadata": {
  "kernelspec": {
   "display_name": "Python 3",
   "language": "python",
   "name": "python3"
  },
  "language_info": {
   "codemirror_mode": {
    "name": "ipython",
    "version": 3
   },
   "file_extension": ".py",
   "mimetype": "text/x-python",
   "name": "python",
   "nbconvert_exporter": "python",
   "pygments_lexer": "ipython3",
   "version": "3.7.3"
  }
 },
 "nbformat": 4,
 "nbformat_minor": 2
}
