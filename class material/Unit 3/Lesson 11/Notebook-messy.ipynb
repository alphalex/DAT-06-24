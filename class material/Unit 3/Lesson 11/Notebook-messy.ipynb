{
 "cells": [
  {
   "cell_type": "code",
   "execution_count": 2,
   "metadata": {},
   "outputs": [],
   "source": [
    "import numpy as np\n",
    "import pandas as pd\n",
    "import seaborn as sns\n",
    "import matplotlib.pyplot as plt\n",
    "plt.style.use('fivethirtyeight')"
   ]
  },
  {
   "cell_type": "code",
   "execution_count": 1,
   "metadata": {},
   "outputs": [],
   "source": [
    "from sklearn.linear_model import LinearRegression\n",
    "lr = LinearRegression()"
   ]
  },
  {
   "cell_type": "code",
   "execution_count": 5,
   "metadata": {},
   "outputs": [],
   "source": [
    "bikes = pd.read_csv('../data/bikeshare.csv', index_col='datetime', parse_dates=True)"
   ]
  },
  {
   "cell_type": "code",
   "execution_count": 6,
   "metadata": {},
   "outputs": [
    {
     "data": {
      "text/html": [
       "<div>\n",
       "<style scoped>\n",
       "    .dataframe tbody tr th:only-of-type {\n",
       "        vertical-align: middle;\n",
       "    }\n",
       "\n",
       "    .dataframe tbody tr th {\n",
       "        vertical-align: top;\n",
       "    }\n",
       "\n",
       "    .dataframe thead th {\n",
       "        text-align: right;\n",
       "    }\n",
       "</style>\n",
       "<table border=\"1\" class=\"dataframe\">\n",
       "  <thead>\n",
       "    <tr style=\"text-align: right;\">\n",
       "      <th></th>\n",
       "      <th>season</th>\n",
       "      <th>holiday</th>\n",
       "      <th>workingday</th>\n",
       "      <th>weather</th>\n",
       "      <th>temp</th>\n",
       "      <th>atemp</th>\n",
       "      <th>humidity</th>\n",
       "      <th>windspeed</th>\n",
       "      <th>casual</th>\n",
       "      <th>registered</th>\n",
       "      <th>count</th>\n",
       "    </tr>\n",
       "    <tr>\n",
       "      <th>datetime</th>\n",
       "      <th></th>\n",
       "      <th></th>\n",
       "      <th></th>\n",
       "      <th></th>\n",
       "      <th></th>\n",
       "      <th></th>\n",
       "      <th></th>\n",
       "      <th></th>\n",
       "      <th></th>\n",
       "      <th></th>\n",
       "      <th></th>\n",
       "    </tr>\n",
       "  </thead>\n",
       "  <tbody>\n",
       "    <tr>\n",
       "      <th>2011-01-01 00:00:00</th>\n",
       "      <td>1</td>\n",
       "      <td>0</td>\n",
       "      <td>0</td>\n",
       "      <td>1</td>\n",
       "      <td>9.84</td>\n",
       "      <td>14.395</td>\n",
       "      <td>81</td>\n",
       "      <td>0.0</td>\n",
       "      <td>3</td>\n",
       "      <td>13</td>\n",
       "      <td>16</td>\n",
       "    </tr>\n",
       "    <tr>\n",
       "      <th>2011-01-01 01:00:00</th>\n",
       "      <td>1</td>\n",
       "      <td>0</td>\n",
       "      <td>0</td>\n",
       "      <td>1</td>\n",
       "      <td>9.02</td>\n",
       "      <td>13.635</td>\n",
       "      <td>80</td>\n",
       "      <td>0.0</td>\n",
       "      <td>8</td>\n",
       "      <td>32</td>\n",
       "      <td>40</td>\n",
       "    </tr>\n",
       "    <tr>\n",
       "      <th>2011-01-01 02:00:00</th>\n",
       "      <td>1</td>\n",
       "      <td>0</td>\n",
       "      <td>0</td>\n",
       "      <td>1</td>\n",
       "      <td>9.02</td>\n",
       "      <td>13.635</td>\n",
       "      <td>80</td>\n",
       "      <td>0.0</td>\n",
       "      <td>5</td>\n",
       "      <td>27</td>\n",
       "      <td>32</td>\n",
       "    </tr>\n",
       "    <tr>\n",
       "      <th>2011-01-01 03:00:00</th>\n",
       "      <td>1</td>\n",
       "      <td>0</td>\n",
       "      <td>0</td>\n",
       "      <td>1</td>\n",
       "      <td>9.84</td>\n",
       "      <td>14.395</td>\n",
       "      <td>75</td>\n",
       "      <td>0.0</td>\n",
       "      <td>3</td>\n",
       "      <td>10</td>\n",
       "      <td>13</td>\n",
       "    </tr>\n",
       "    <tr>\n",
       "      <th>2011-01-01 04:00:00</th>\n",
       "      <td>1</td>\n",
       "      <td>0</td>\n",
       "      <td>0</td>\n",
       "      <td>1</td>\n",
       "      <td>9.84</td>\n",
       "      <td>14.395</td>\n",
       "      <td>75</td>\n",
       "      <td>0.0</td>\n",
       "      <td>0</td>\n",
       "      <td>1</td>\n",
       "      <td>1</td>\n",
       "    </tr>\n",
       "  </tbody>\n",
       "</table>\n",
       "</div>"
      ],
      "text/plain": [
       "                     season  holiday  workingday  weather  temp   atemp  \\\n",
       "datetime                                                                  \n",
       "2011-01-01 00:00:00       1        0           0        1  9.84  14.395   \n",
       "2011-01-01 01:00:00       1        0           0        1  9.02  13.635   \n",
       "2011-01-01 02:00:00       1        0           0        1  9.02  13.635   \n",
       "2011-01-01 03:00:00       1        0           0        1  9.84  14.395   \n",
       "2011-01-01 04:00:00       1        0           0        1  9.84  14.395   \n",
       "\n",
       "                     humidity  windspeed  casual  registered  count  \n",
       "datetime                                                             \n",
       "2011-01-01 00:00:00        81        0.0       3          13     16  \n",
       "2011-01-01 01:00:00        80        0.0       8          32     40  \n",
       "2011-01-01 02:00:00        80        0.0       5          27     32  \n",
       "2011-01-01 03:00:00        75        0.0       3          10     13  \n",
       "2011-01-01 04:00:00        75        0.0       0           1      1  "
      ]
     },
     "execution_count": 6,
     "metadata": {},
     "output_type": "execute_result"
    }
   ],
   "source": [
    "bikes.head()"
   ]
  },
  {
   "cell_type": "code",
   "execution_count": 11,
   "metadata": {},
   "outputs": [],
   "source": [
    "bikes.rename({'count': 'total_rentals'}, axis=1, inplace=True)"
   ]
  },
  {
   "cell_type": "code",
   "execution_count": 19,
   "metadata": {},
   "outputs": [],
   "source": [
    "X = bikes[['temp']]\n",
    "y = bikes.total_rentals"
   ]
  },
  {
   "cell_type": "code",
   "execution_count": 20,
   "metadata": {},
   "outputs": [
    {
     "data": {
      "text/plain": [
       "LinearRegression(copy_X=True, fit_intercept=True, n_jobs=None,\n",
       "         normalize=False)"
      ]
     },
     "execution_count": 20,
     "metadata": {},
     "output_type": "execute_result"
    }
   ],
   "source": [
    "lr.fit(X, y)"
   ]
  },
  {
   "cell_type": "code",
   "execution_count": 21,
   "metadata": {},
   "outputs": [
    {
     "data": {
      "text/plain": [
       "6.04621295961681"
      ]
     },
     "execution_count": 21,
     "metadata": {},
     "output_type": "execute_result"
    }
   ],
   "source": [
    "lr.intercept_"
   ]
  },
  {
   "cell_type": "code",
   "execution_count": 22,
   "metadata": {},
   "outputs": [
    {
     "data": {
      "text/plain": [
       "array([9.17054048])"
      ]
     },
     "execution_count": 22,
     "metadata": {},
     "output_type": "execute_result"
    }
   ],
   "source": [
    "lr.coef_"
   ]
  },
  {
   "cell_type": "code",
   "execution_count": 30,
   "metadata": {},
   "outputs": [
    {
     "data": {
      "text/plain": [
       "array([235.309725])"
      ]
     },
     "execution_count": 30,
     "metadata": {},
     "output_type": "execute_result"
    }
   ],
   "source": [
    "lr.predict(np.array([25]).reshape(-1, 1))"
   ]
  },
  {
   "cell_type": "code",
   "execution_count": 28,
   "metadata": {},
   "outputs": [
    {
     "data": {
      "text/plain": [
       "array([51.89891537, 61.06945585, 97.75161777])"
      ]
     },
     "execution_count": 28,
     "metadata": {},
     "output_type": "execute_result"
    }
   ],
   "source": [
    "temps = np.array([[5], [6], [10]])\n",
    "lr.predict(temps)"
   ]
  },
  {
   "cell_type": "code",
   "execution_count": 31,
   "metadata": {},
   "outputs": [],
   "source": [
    "bikes['temp_f'] = bikes['temp'] * 1.8 + 32"
   ]
  },
  {
   "cell_type": "code",
   "execution_count": 34,
   "metadata": {},
   "outputs": [
    {
     "data": {
      "text/plain": [
       "LinearRegression(copy_X=True, fit_intercept=True, n_jobs=None,\n",
       "         normalize=False)"
      ]
     },
     "execution_count": 34,
     "metadata": {},
     "output_type": "execute_result"
    }
   ],
   "source": [
    "X = bikes[['temp_f']]\n",
    "y = bikes['total_rentals']\n",
    "lr.fit(X, y)"
   ]
  },
  {
   "cell_type": "code",
   "execution_count": 37,
   "metadata": {},
   "outputs": [
    {
     "data": {
      "text/plain": [
       "array([235.309725])"
      ]
     },
     "execution_count": 37,
     "metadata": {},
     "output_type": "execute_result"
    }
   ],
   "source": [
    "lr.predict(np.array([77]).reshape(-1, 1))"
   ]
  },
  {
   "cell_type": "code",
   "execution_count": 39,
   "metadata": {},
   "outputs": [],
   "source": [
    "bikes['temp_f_squared'] = bikes['temp_f']**2"
   ]
  },
  {
   "cell_type": "code",
   "execution_count": 40,
   "metadata": {},
   "outputs": [],
   "source": [
    "bikes.drop(['temp_f', 'temp_f_squared'], axis=1, inplace=True)"
   ]
  },
  {
   "cell_type": "code",
   "execution_count": 41,
   "metadata": {},
   "outputs": [
    {
     "data": {
      "text/html": [
       "<div>\n",
       "<style scoped>\n",
       "    .dataframe tbody tr th:only-of-type {\n",
       "        vertical-align: middle;\n",
       "    }\n",
       "\n",
       "    .dataframe tbody tr th {\n",
       "        vertical-align: top;\n",
       "    }\n",
       "\n",
       "    .dataframe thead th {\n",
       "        text-align: right;\n",
       "    }\n",
       "</style>\n",
       "<table border=\"1\" class=\"dataframe\">\n",
       "  <thead>\n",
       "    <tr style=\"text-align: right;\">\n",
       "      <th></th>\n",
       "      <th>season</th>\n",
       "      <th>holiday</th>\n",
       "      <th>workingday</th>\n",
       "      <th>weather</th>\n",
       "      <th>temp</th>\n",
       "      <th>atemp</th>\n",
       "      <th>humidity</th>\n",
       "      <th>windspeed</th>\n",
       "      <th>casual</th>\n",
       "      <th>registered</th>\n",
       "      <th>total_rentals</th>\n",
       "    </tr>\n",
       "    <tr>\n",
       "      <th>datetime</th>\n",
       "      <th></th>\n",
       "      <th></th>\n",
       "      <th></th>\n",
       "      <th></th>\n",
       "      <th></th>\n",
       "      <th></th>\n",
       "      <th></th>\n",
       "      <th></th>\n",
       "      <th></th>\n",
       "      <th></th>\n",
       "      <th></th>\n",
       "    </tr>\n",
       "  </thead>\n",
       "  <tbody>\n",
       "    <tr>\n",
       "      <th>2011-01-01 00:00:00</th>\n",
       "      <td>1</td>\n",
       "      <td>0</td>\n",
       "      <td>0</td>\n",
       "      <td>1</td>\n",
       "      <td>9.84</td>\n",
       "      <td>14.395</td>\n",
       "      <td>81</td>\n",
       "      <td>0.0</td>\n",
       "      <td>3</td>\n",
       "      <td>13</td>\n",
       "      <td>16</td>\n",
       "    </tr>\n",
       "    <tr>\n",
       "      <th>2011-01-01 01:00:00</th>\n",
       "      <td>1</td>\n",
       "      <td>0</td>\n",
       "      <td>0</td>\n",
       "      <td>1</td>\n",
       "      <td>9.02</td>\n",
       "      <td>13.635</td>\n",
       "      <td>80</td>\n",
       "      <td>0.0</td>\n",
       "      <td>8</td>\n",
       "      <td>32</td>\n",
       "      <td>40</td>\n",
       "    </tr>\n",
       "    <tr>\n",
       "      <th>2011-01-01 02:00:00</th>\n",
       "      <td>1</td>\n",
       "      <td>0</td>\n",
       "      <td>0</td>\n",
       "      <td>1</td>\n",
       "      <td>9.02</td>\n",
       "      <td>13.635</td>\n",
       "      <td>80</td>\n",
       "      <td>0.0</td>\n",
       "      <td>5</td>\n",
       "      <td>27</td>\n",
       "      <td>32</td>\n",
       "    </tr>\n",
       "    <tr>\n",
       "      <th>2011-01-01 03:00:00</th>\n",
       "      <td>1</td>\n",
       "      <td>0</td>\n",
       "      <td>0</td>\n",
       "      <td>1</td>\n",
       "      <td>9.84</td>\n",
       "      <td>14.395</td>\n",
       "      <td>75</td>\n",
       "      <td>0.0</td>\n",
       "      <td>3</td>\n",
       "      <td>10</td>\n",
       "      <td>13</td>\n",
       "    </tr>\n",
       "    <tr>\n",
       "      <th>2011-01-01 04:00:00</th>\n",
       "      <td>1</td>\n",
       "      <td>0</td>\n",
       "      <td>0</td>\n",
       "      <td>1</td>\n",
       "      <td>9.84</td>\n",
       "      <td>14.395</td>\n",
       "      <td>75</td>\n",
       "      <td>0.0</td>\n",
       "      <td>0</td>\n",
       "      <td>1</td>\n",
       "      <td>1</td>\n",
       "    </tr>\n",
       "  </tbody>\n",
       "</table>\n",
       "</div>"
      ],
      "text/plain": [
       "                     season  holiday  workingday  weather  temp   atemp  \\\n",
       "datetime                                                                  \n",
       "2011-01-01 00:00:00       1        0           0        1  9.84  14.395   \n",
       "2011-01-01 01:00:00       1        0           0        1  9.02  13.635   \n",
       "2011-01-01 02:00:00       1        0           0        1  9.02  13.635   \n",
       "2011-01-01 03:00:00       1        0           0        1  9.84  14.395   \n",
       "2011-01-01 04:00:00       1        0           0        1  9.84  14.395   \n",
       "\n",
       "                     humidity  windspeed  casual  registered  total_rentals  \n",
       "datetime                                                                     \n",
       "2011-01-01 00:00:00        81        0.0       3          13             16  \n",
       "2011-01-01 01:00:00        80        0.0       8          32             40  \n",
       "2011-01-01 02:00:00        80        0.0       5          27             32  \n",
       "2011-01-01 03:00:00        75        0.0       3          10             13  \n",
       "2011-01-01 04:00:00        75        0.0       0           1              1  "
      ]
     },
     "execution_count": 41,
     "metadata": {},
     "output_type": "execute_result"
    }
   ],
   "source": [
    "bikes.head()"
   ]
  },
  {
   "cell_type": "code",
   "execution_count": 42,
   "metadata": {},
   "outputs": [
    {
     "data": {
      "text/plain": [
       "LinearRegression(copy_X=True, fit_intercept=True, n_jobs=None,\n",
       "         normalize=False)"
      ]
     },
     "execution_count": 42,
     "metadata": {},
     "output_type": "execute_result"
    }
   ],
   "source": [
    "feature_cols = ['temp', 'season', 'humidity', 'weather']\n",
    "X = bikes[feature_cols]\n",
    "y = bikes.total_rentals\n",
    "\n",
    "lr.fit(X, y)"
   ]
  },
  {
   "cell_type": "code",
   "execution_count": 44,
   "metadata": {},
   "outputs": [
    {
     "data": {
      "text/plain": [
       "159.52068786129786"
      ]
     },
     "execution_count": 44,
     "metadata": {},
     "output_type": "execute_result"
    }
   ],
   "source": [
    "lr.intercept_"
   ]
  },
  {
   "cell_type": "code",
   "execution_count": 45,
   "metadata": {},
   "outputs": [
    {
     "data": {
      "text/plain": [
       "array([ 7.86482499, 22.53875753, -3.11887338,  6.67030204])"
      ]
     },
     "execution_count": 45,
     "metadata": {},
     "output_type": "execute_result"
    }
   ],
   "source": [
    "lr.coef_"
   ]
  },
  {
   "cell_type": "code",
   "execution_count": 46,
   "metadata": {},
   "outputs": [
    {
     "data": {
      "text/plain": [
       "0.25829758327282126"
      ]
     },
     "execution_count": 46,
     "metadata": {},
     "output_type": "execute_result"
    }
   ],
   "source": [
    "lr.score(X, y)"
   ]
  },
  {
   "cell_type": "code",
   "execution_count": 48,
   "metadata": {},
   "outputs": [
    {
     "data": {
      "text/plain": [
       "array([159.52068786])"
      ]
     },
     "execution_count": 48,
     "metadata": {},
     "output_type": "execute_result"
    }
   ],
   "source": [
    "lr.predict(np.array([0, 0, 0, 0]).reshape(1, -1))"
   ]
  },
  {
   "cell_type": "code",
   "execution_count": 51,
   "metadata": {},
   "outputs": [
    {
     "data": {
      "text/html": [
       "<div>\n",
       "<style scoped>\n",
       "    .dataframe tbody tr th:only-of-type {\n",
       "        vertical-align: middle;\n",
       "    }\n",
       "\n",
       "    .dataframe tbody tr th {\n",
       "        vertical-align: top;\n",
       "    }\n",
       "\n",
       "    .dataframe thead th {\n",
       "        text-align: right;\n",
       "    }\n",
       "</style>\n",
       "<table border=\"1\" class=\"dataframe\">\n",
       "  <thead>\n",
       "    <tr style=\"text-align: right;\">\n",
       "      <th></th>\n",
       "      <th>temp</th>\n",
       "      <th>season</th>\n",
       "      <th>humidity</th>\n",
       "      <th>weather</th>\n",
       "    </tr>\n",
       "    <tr>\n",
       "      <th>datetime</th>\n",
       "      <th></th>\n",
       "      <th></th>\n",
       "      <th></th>\n",
       "      <th></th>\n",
       "    </tr>\n",
       "  </thead>\n",
       "  <tbody>\n",
       "    <tr>\n",
       "      <th>2011-01-01 00:00:00</th>\n",
       "      <td>-1.333599</td>\n",
       "      <td>-1.349802</td>\n",
       "      <td>0.993167</td>\n",
       "      <td>-0.660148</td>\n",
       "    </tr>\n",
       "    <tr>\n",
       "      <th>2011-01-01 01:00:00</th>\n",
       "      <td>-1.438841</td>\n",
       "      <td>-1.349802</td>\n",
       "      <td>0.941206</td>\n",
       "      <td>-0.660148</td>\n",
       "    </tr>\n",
       "    <tr>\n",
       "      <th>2011-01-01 02:00:00</th>\n",
       "      <td>-1.438841</td>\n",
       "      <td>-1.349802</td>\n",
       "      <td>0.941206</td>\n",
       "      <td>-0.660148</td>\n",
       "    </tr>\n",
       "    <tr>\n",
       "      <th>2011-01-01 03:00:00</th>\n",
       "      <td>-1.333599</td>\n",
       "      <td>-1.349802</td>\n",
       "      <td>0.681399</td>\n",
       "      <td>-0.660148</td>\n",
       "    </tr>\n",
       "    <tr>\n",
       "      <th>2011-01-01 04:00:00</th>\n",
       "      <td>-1.333599</td>\n",
       "      <td>-1.349802</td>\n",
       "      <td>0.681399</td>\n",
       "      <td>-0.660148</td>\n",
       "    </tr>\n",
       "    <tr>\n",
       "      <th>2011-01-01 05:00:00</th>\n",
       "      <td>-1.333599</td>\n",
       "      <td>-1.349802</td>\n",
       "      <td>0.681399</td>\n",
       "      <td>0.917541</td>\n",
       "    </tr>\n",
       "    <tr>\n",
       "      <th>2011-01-01 06:00:00</th>\n",
       "      <td>-1.438841</td>\n",
       "      <td>-1.349802</td>\n",
       "      <td>0.941206</td>\n",
       "      <td>-0.660148</td>\n",
       "    </tr>\n",
       "    <tr>\n",
       "      <th>2011-01-01 07:00:00</th>\n",
       "      <td>-1.544083</td>\n",
       "      <td>-1.349802</td>\n",
       "      <td>1.252975</td>\n",
       "      <td>-0.660148</td>\n",
       "    </tr>\n",
       "    <tr>\n",
       "      <th>2011-01-01 08:00:00</th>\n",
       "      <td>-1.333599</td>\n",
       "      <td>-1.349802</td>\n",
       "      <td>0.681399</td>\n",
       "      <td>-0.660148</td>\n",
       "    </tr>\n",
       "    <tr>\n",
       "      <th>2011-01-01 09:00:00</th>\n",
       "      <td>-0.912633</td>\n",
       "      <td>-1.349802</td>\n",
       "      <td>0.733360</td>\n",
       "      <td>-0.660148</td>\n",
       "    </tr>\n",
       "    <tr>\n",
       "      <th>2011-01-01 10:00:00</th>\n",
       "      <td>-0.596908</td>\n",
       "      <td>-1.349802</td>\n",
       "      <td>0.733360</td>\n",
       "      <td>-0.660148</td>\n",
       "    </tr>\n",
       "    <tr>\n",
       "      <th>2011-01-01 11:00:00</th>\n",
       "      <td>-0.702149</td>\n",
       "      <td>-1.349802</td>\n",
       "      <td>0.993167</td>\n",
       "      <td>-0.660148</td>\n",
       "    </tr>\n",
       "    <tr>\n",
       "      <th>2011-01-01 12:00:00</th>\n",
       "      <td>-0.386424</td>\n",
       "      <td>-1.349802</td>\n",
       "      <td>0.785322</td>\n",
       "      <td>-0.660148</td>\n",
       "    </tr>\n",
       "    <tr>\n",
       "      <th>2011-01-01 13:00:00</th>\n",
       "      <td>-0.175941</td>\n",
       "      <td>-1.349802</td>\n",
       "      <td>0.525514</td>\n",
       "      <td>0.917541</td>\n",
       "    </tr>\n",
       "    <tr>\n",
       "      <th>2011-01-01 14:00:00</th>\n",
       "      <td>-0.175941</td>\n",
       "      <td>-1.349802</td>\n",
       "      <td>0.525514</td>\n",
       "      <td>0.917541</td>\n",
       "    </tr>\n",
       "    <tr>\n",
       "      <th>2011-01-01 15:00:00</th>\n",
       "      <td>-0.281183</td>\n",
       "      <td>-1.349802</td>\n",
       "      <td>0.785322</td>\n",
       "      <td>0.917541</td>\n",
       "    </tr>\n",
       "    <tr>\n",
       "      <th>2011-01-01 16:00:00</th>\n",
       "      <td>-0.386424</td>\n",
       "      <td>-1.349802</td>\n",
       "      <td>1.045129</td>\n",
       "      <td>0.917541</td>\n",
       "    </tr>\n",
       "    <tr>\n",
       "      <th>2011-01-01 17:00:00</th>\n",
       "      <td>-0.281183</td>\n",
       "      <td>-1.349802</td>\n",
       "      <td>1.045129</td>\n",
       "      <td>0.917541</td>\n",
       "    </tr>\n",
       "    <tr>\n",
       "      <th>2011-01-01 18:00:00</th>\n",
       "      <td>-0.386424</td>\n",
       "      <td>-1.349802</td>\n",
       "      <td>1.356898</td>\n",
       "      <td>2.495229</td>\n",
       "    </tr>\n",
       "    <tr>\n",
       "      <th>2011-01-01 19:00:00</th>\n",
       "      <td>-0.386424</td>\n",
       "      <td>-1.349802</td>\n",
       "      <td>1.356898</td>\n",
       "      <td>2.495229</td>\n",
       "    </tr>\n",
       "    <tr>\n",
       "      <th>2011-01-01 20:00:00</th>\n",
       "      <td>-0.491666</td>\n",
       "      <td>-1.349802</td>\n",
       "      <td>1.304936</td>\n",
       "      <td>0.917541</td>\n",
       "    </tr>\n",
       "    <tr>\n",
       "      <th>2011-01-01 21:00:00</th>\n",
       "      <td>-0.491666</td>\n",
       "      <td>-1.349802</td>\n",
       "      <td>1.304936</td>\n",
       "      <td>0.917541</td>\n",
       "    </tr>\n",
       "    <tr>\n",
       "      <th>2011-01-01 22:00:00</th>\n",
       "      <td>-0.491666</td>\n",
       "      <td>-1.349802</td>\n",
       "      <td>1.668666</td>\n",
       "      <td>0.917541</td>\n",
       "    </tr>\n",
       "    <tr>\n",
       "      <th>2011-01-01 23:00:00</th>\n",
       "      <td>-0.175941</td>\n",
       "      <td>-1.349802</td>\n",
       "      <td>1.356898</td>\n",
       "      <td>0.917541</td>\n",
       "    </tr>\n",
       "    <tr>\n",
       "      <th>2011-01-02 00:00:00</th>\n",
       "      <td>-0.175941</td>\n",
       "      <td>-1.349802</td>\n",
       "      <td>1.356898</td>\n",
       "      <td>0.917541</td>\n",
       "    </tr>\n",
       "    <tr>\n",
       "      <th>2011-01-02 01:00:00</th>\n",
       "      <td>-0.281183</td>\n",
       "      <td>-1.349802</td>\n",
       "      <td>1.668666</td>\n",
       "      <td>0.917541</td>\n",
       "    </tr>\n",
       "    <tr>\n",
       "      <th>2011-01-02 02:00:00</th>\n",
       "      <td>-0.386424</td>\n",
       "      <td>-1.349802</td>\n",
       "      <td>1.980435</td>\n",
       "      <td>0.917541</td>\n",
       "    </tr>\n",
       "    <tr>\n",
       "      <th>2011-01-02 03:00:00</th>\n",
       "      <td>-0.175941</td>\n",
       "      <td>-1.349802</td>\n",
       "      <td>1.668666</td>\n",
       "      <td>0.917541</td>\n",
       "    </tr>\n",
       "    <tr>\n",
       "      <th>2011-01-02 04:00:00</th>\n",
       "      <td>-0.175941</td>\n",
       "      <td>-1.349802</td>\n",
       "      <td>1.668666</td>\n",
       "      <td>0.917541</td>\n",
       "    </tr>\n",
       "    <tr>\n",
       "      <th>2011-01-02 06:00:00</th>\n",
       "      <td>-0.386424</td>\n",
       "      <td>-1.349802</td>\n",
       "      <td>0.785322</td>\n",
       "      <td>2.495229</td>\n",
       "    </tr>\n",
       "    <tr>\n",
       "      <th>...</th>\n",
       "      <td>...</td>\n",
       "      <td>...</td>\n",
       "      <td>...</td>\n",
       "      <td>...</td>\n",
       "    </tr>\n",
       "    <tr>\n",
       "      <th>2012-12-18 18:00:00</th>\n",
       "      <td>-0.596908</td>\n",
       "      <td>1.337951</td>\n",
       "      <td>-0.825484</td>\n",
       "      <td>-0.660148</td>\n",
       "    </tr>\n",
       "    <tr>\n",
       "      <th>2012-12-18 19:00:00</th>\n",
       "      <td>-0.596908</td>\n",
       "      <td>1.337951</td>\n",
       "      <td>-0.825484</td>\n",
       "      <td>-0.660148</td>\n",
       "    </tr>\n",
       "    <tr>\n",
       "      <th>2012-12-18 20:00:00</th>\n",
       "      <td>-0.702149</td>\n",
       "      <td>1.337951</td>\n",
       "      <td>-0.617638</td>\n",
       "      <td>-0.660148</td>\n",
       "    </tr>\n",
       "    <tr>\n",
       "      <th>2012-12-18 21:00:00</th>\n",
       "      <td>-0.702149</td>\n",
       "      <td>1.337951</td>\n",
       "      <td>-0.617638</td>\n",
       "      <td>-0.660148</td>\n",
       "    </tr>\n",
       "    <tr>\n",
       "      <th>2012-12-18 22:00:00</th>\n",
       "      <td>-0.807391</td>\n",
       "      <td>1.337951</td>\n",
       "      <td>-0.669599</td>\n",
       "      <td>-0.660148</td>\n",
       "    </tr>\n",
       "    <tr>\n",
       "      <th>2012-12-18 23:00:00</th>\n",
       "      <td>-0.807391</td>\n",
       "      <td>1.337951</td>\n",
       "      <td>-0.669599</td>\n",
       "      <td>-0.660148</td>\n",
       "    </tr>\n",
       "    <tr>\n",
       "      <th>2012-12-19 00:00:00</th>\n",
       "      <td>-1.017874</td>\n",
       "      <td>1.337951</td>\n",
       "      <td>-0.046062</td>\n",
       "      <td>-0.660148</td>\n",
       "    </tr>\n",
       "    <tr>\n",
       "      <th>2012-12-19 01:00:00</th>\n",
       "      <td>-1.017874</td>\n",
       "      <td>1.337951</td>\n",
       "      <td>0.161784</td>\n",
       "      <td>-0.660148</td>\n",
       "    </tr>\n",
       "    <tr>\n",
       "      <th>2012-12-19 02:00:00</th>\n",
       "      <td>-1.123116</td>\n",
       "      <td>1.337951</td>\n",
       "      <td>0.161784</td>\n",
       "      <td>-0.660148</td>\n",
       "    </tr>\n",
       "    <tr>\n",
       "      <th>2012-12-19 03:00:00</th>\n",
       "      <td>-1.228358</td>\n",
       "      <td>1.337951</td>\n",
       "      <td>0.681399</td>\n",
       "      <td>-0.660148</td>\n",
       "    </tr>\n",
       "    <tr>\n",
       "      <th>2012-12-19 04:00:00</th>\n",
       "      <td>-1.333599</td>\n",
       "      <td>1.337951</td>\n",
       "      <td>0.681399</td>\n",
       "      <td>-0.660148</td>\n",
       "    </tr>\n",
       "    <tr>\n",
       "      <th>2012-12-19 05:00:00</th>\n",
       "      <td>-1.228358</td>\n",
       "      <td>1.337951</td>\n",
       "      <td>0.681399</td>\n",
       "      <td>-0.660148</td>\n",
       "    </tr>\n",
       "    <tr>\n",
       "      <th>2012-12-19 06:00:00</th>\n",
       "      <td>-1.333599</td>\n",
       "      <td>1.337951</td>\n",
       "      <td>0.681399</td>\n",
       "      <td>-0.660148</td>\n",
       "    </tr>\n",
       "    <tr>\n",
       "      <th>2012-12-19 07:00:00</th>\n",
       "      <td>-1.228358</td>\n",
       "      <td>1.337951</td>\n",
       "      <td>0.681399</td>\n",
       "      <td>-0.660148</td>\n",
       "    </tr>\n",
       "    <tr>\n",
       "      <th>2012-12-19 08:00:00</th>\n",
       "      <td>-1.333599</td>\n",
       "      <td>1.337951</td>\n",
       "      <td>1.304936</td>\n",
       "      <td>-0.660148</td>\n",
       "    </tr>\n",
       "    <tr>\n",
       "      <th>2012-12-19 09:00:00</th>\n",
       "      <td>-1.123116</td>\n",
       "      <td>1.337951</td>\n",
       "      <td>0.681399</td>\n",
       "      <td>-0.660148</td>\n",
       "    </tr>\n",
       "    <tr>\n",
       "      <th>2012-12-19 10:00:00</th>\n",
       "      <td>-0.912633</td>\n",
       "      <td>1.337951</td>\n",
       "      <td>0.421591</td>\n",
       "      <td>-0.660148</td>\n",
       "    </tr>\n",
       "    <tr>\n",
       "      <th>2012-12-19 11:00:00</th>\n",
       "      <td>-0.491666</td>\n",
       "      <td>1.337951</td>\n",
       "      <td>-0.409792</td>\n",
       "      <td>-0.660148</td>\n",
       "    </tr>\n",
       "    <tr>\n",
       "      <th>2012-12-19 12:00:00</th>\n",
       "      <td>-0.491666</td>\n",
       "      <td>1.337951</td>\n",
       "      <td>-0.409792</td>\n",
       "      <td>-0.660148</td>\n",
       "    </tr>\n",
       "    <tr>\n",
       "      <th>2012-12-19 13:00:00</th>\n",
       "      <td>-0.386424</td>\n",
       "      <td>1.337951</td>\n",
       "      <td>-0.617638</td>\n",
       "      <td>-0.660148</td>\n",
       "    </tr>\n",
       "    <tr>\n",
       "      <th>2012-12-19 14:00:00</th>\n",
       "      <td>-0.386424</td>\n",
       "      <td>1.337951</td>\n",
       "      <td>-0.617638</td>\n",
       "      <td>-0.660148</td>\n",
       "    </tr>\n",
       "    <tr>\n",
       "      <th>2012-12-19 15:00:00</th>\n",
       "      <td>-0.386424</td>\n",
       "      <td>1.337951</td>\n",
       "      <td>-0.617638</td>\n",
       "      <td>-0.660148</td>\n",
       "    </tr>\n",
       "    <tr>\n",
       "      <th>2012-12-19 16:00:00</th>\n",
       "      <td>-0.386424</td>\n",
       "      <td>1.337951</td>\n",
       "      <td>-0.617638</td>\n",
       "      <td>-0.660148</td>\n",
       "    </tr>\n",
       "    <tr>\n",
       "      <th>2012-12-19 17:00:00</th>\n",
       "      <td>-0.491666</td>\n",
       "      <td>1.337951</td>\n",
       "      <td>-0.617638</td>\n",
       "      <td>-0.660148</td>\n",
       "    </tr>\n",
       "    <tr>\n",
       "      <th>2012-12-19 18:00:00</th>\n",
       "      <td>-0.596908</td>\n",
       "      <td>1.337951</td>\n",
       "      <td>-0.617638</td>\n",
       "      <td>-0.660148</td>\n",
       "    </tr>\n",
       "    <tr>\n",
       "      <th>2012-12-19 19:00:00</th>\n",
       "      <td>-0.596908</td>\n",
       "      <td>1.337951</td>\n",
       "      <td>-0.617638</td>\n",
       "      <td>-0.660148</td>\n",
       "    </tr>\n",
       "    <tr>\n",
       "      <th>2012-12-19 20:00:00</th>\n",
       "      <td>-0.702149</td>\n",
       "      <td>1.337951</td>\n",
       "      <td>-0.253908</td>\n",
       "      <td>-0.660148</td>\n",
       "    </tr>\n",
       "    <tr>\n",
       "      <th>2012-12-19 21:00:00</th>\n",
       "      <td>-0.807391</td>\n",
       "      <td>1.337951</td>\n",
       "      <td>-0.046062</td>\n",
       "      <td>-0.660148</td>\n",
       "    </tr>\n",
       "    <tr>\n",
       "      <th>2012-12-19 22:00:00</th>\n",
       "      <td>-0.807391</td>\n",
       "      <td>1.337951</td>\n",
       "      <td>-0.046062</td>\n",
       "      <td>-0.660148</td>\n",
       "    </tr>\n",
       "    <tr>\n",
       "      <th>2012-12-19 23:00:00</th>\n",
       "      <td>-0.912633</td>\n",
       "      <td>1.337951</td>\n",
       "      <td>0.213746</td>\n",
       "      <td>-0.660148</td>\n",
       "    </tr>\n",
       "  </tbody>\n",
       "</table>\n",
       "<p>10886 rows × 4 columns</p>\n",
       "</div>"
      ],
      "text/plain": [
       "                         temp    season  humidity   weather\n",
       "datetime                                                   \n",
       "2011-01-01 00:00:00 -1.333599 -1.349802  0.993167 -0.660148\n",
       "2011-01-01 01:00:00 -1.438841 -1.349802  0.941206 -0.660148\n",
       "2011-01-01 02:00:00 -1.438841 -1.349802  0.941206 -0.660148\n",
       "2011-01-01 03:00:00 -1.333599 -1.349802  0.681399 -0.660148\n",
       "2011-01-01 04:00:00 -1.333599 -1.349802  0.681399 -0.660148\n",
       "2011-01-01 05:00:00 -1.333599 -1.349802  0.681399  0.917541\n",
       "2011-01-01 06:00:00 -1.438841 -1.349802  0.941206 -0.660148\n",
       "2011-01-01 07:00:00 -1.544083 -1.349802  1.252975 -0.660148\n",
       "2011-01-01 08:00:00 -1.333599 -1.349802  0.681399 -0.660148\n",
       "2011-01-01 09:00:00 -0.912633 -1.349802  0.733360 -0.660148\n",
       "2011-01-01 10:00:00 -0.596908 -1.349802  0.733360 -0.660148\n",
       "2011-01-01 11:00:00 -0.702149 -1.349802  0.993167 -0.660148\n",
       "2011-01-01 12:00:00 -0.386424 -1.349802  0.785322 -0.660148\n",
       "2011-01-01 13:00:00 -0.175941 -1.349802  0.525514  0.917541\n",
       "2011-01-01 14:00:00 -0.175941 -1.349802  0.525514  0.917541\n",
       "2011-01-01 15:00:00 -0.281183 -1.349802  0.785322  0.917541\n",
       "2011-01-01 16:00:00 -0.386424 -1.349802  1.045129  0.917541\n",
       "2011-01-01 17:00:00 -0.281183 -1.349802  1.045129  0.917541\n",
       "2011-01-01 18:00:00 -0.386424 -1.349802  1.356898  2.495229\n",
       "2011-01-01 19:00:00 -0.386424 -1.349802  1.356898  2.495229\n",
       "2011-01-01 20:00:00 -0.491666 -1.349802  1.304936  0.917541\n",
       "2011-01-01 21:00:00 -0.491666 -1.349802  1.304936  0.917541\n",
       "2011-01-01 22:00:00 -0.491666 -1.349802  1.668666  0.917541\n",
       "2011-01-01 23:00:00 -0.175941 -1.349802  1.356898  0.917541\n",
       "2011-01-02 00:00:00 -0.175941 -1.349802  1.356898  0.917541\n",
       "2011-01-02 01:00:00 -0.281183 -1.349802  1.668666  0.917541\n",
       "2011-01-02 02:00:00 -0.386424 -1.349802  1.980435  0.917541\n",
       "2011-01-02 03:00:00 -0.175941 -1.349802  1.668666  0.917541\n",
       "2011-01-02 04:00:00 -0.175941 -1.349802  1.668666  0.917541\n",
       "2011-01-02 06:00:00 -0.386424 -1.349802  0.785322  2.495229\n",
       "...                       ...       ...       ...       ...\n",
       "2012-12-18 18:00:00 -0.596908  1.337951 -0.825484 -0.660148\n",
       "2012-12-18 19:00:00 -0.596908  1.337951 -0.825484 -0.660148\n",
       "2012-12-18 20:00:00 -0.702149  1.337951 -0.617638 -0.660148\n",
       "2012-12-18 21:00:00 -0.702149  1.337951 -0.617638 -0.660148\n",
       "2012-12-18 22:00:00 -0.807391  1.337951 -0.669599 -0.660148\n",
       "2012-12-18 23:00:00 -0.807391  1.337951 -0.669599 -0.660148\n",
       "2012-12-19 00:00:00 -1.017874  1.337951 -0.046062 -0.660148\n",
       "2012-12-19 01:00:00 -1.017874  1.337951  0.161784 -0.660148\n",
       "2012-12-19 02:00:00 -1.123116  1.337951  0.161784 -0.660148\n",
       "2012-12-19 03:00:00 -1.228358  1.337951  0.681399 -0.660148\n",
       "2012-12-19 04:00:00 -1.333599  1.337951  0.681399 -0.660148\n",
       "2012-12-19 05:00:00 -1.228358  1.337951  0.681399 -0.660148\n",
       "2012-12-19 06:00:00 -1.333599  1.337951  0.681399 -0.660148\n",
       "2012-12-19 07:00:00 -1.228358  1.337951  0.681399 -0.660148\n",
       "2012-12-19 08:00:00 -1.333599  1.337951  1.304936 -0.660148\n",
       "2012-12-19 09:00:00 -1.123116  1.337951  0.681399 -0.660148\n",
       "2012-12-19 10:00:00 -0.912633  1.337951  0.421591 -0.660148\n",
       "2012-12-19 11:00:00 -0.491666  1.337951 -0.409792 -0.660148\n",
       "2012-12-19 12:00:00 -0.491666  1.337951 -0.409792 -0.660148\n",
       "2012-12-19 13:00:00 -0.386424  1.337951 -0.617638 -0.660148\n",
       "2012-12-19 14:00:00 -0.386424  1.337951 -0.617638 -0.660148\n",
       "2012-12-19 15:00:00 -0.386424  1.337951 -0.617638 -0.660148\n",
       "2012-12-19 16:00:00 -0.386424  1.337951 -0.617638 -0.660148\n",
       "2012-12-19 17:00:00 -0.491666  1.337951 -0.617638 -0.660148\n",
       "2012-12-19 18:00:00 -0.596908  1.337951 -0.617638 -0.660148\n",
       "2012-12-19 19:00:00 -0.596908  1.337951 -0.617638 -0.660148\n",
       "2012-12-19 20:00:00 -0.702149  1.337951 -0.253908 -0.660148\n",
       "2012-12-19 21:00:00 -0.807391  1.337951 -0.046062 -0.660148\n",
       "2012-12-19 22:00:00 -0.807391  1.337951 -0.046062 -0.660148\n",
       "2012-12-19 23:00:00 -0.912633  1.337951  0.213746 -0.660148\n",
       "\n",
       "[10886 rows x 4 columns]"
      ]
     },
     "execution_count": 51,
     "metadata": {},
     "output_type": "execute_result"
    }
   ],
   "source": [
    "(X - X.mean()) / X.std()"
   ]
  },
  {
   "cell_type": "code",
   "execution_count": 56,
   "metadata": {},
   "outputs": [
    {
     "name": "stderr",
     "output_type": "stream",
     "text": [
      "C:\\Users\\Jonat\\Anaconda\\lib\\site-packages\\dateutil\\parser\\_parser.py:1204: UnknownTimezoneWarning: tzname EDT identified but not understood.  Pass `tzinfos` argument in order to correctly return a timezone-aware datetime.  In a future version, this will raise an exception.\n",
      "  category=UnknownTimezoneWarning)\n"
     ]
    }
   ],
   "source": [
    "prices = pd.read_csv('../data/sacramento_real_estate_transactions.csv', index_col='sale_date', parse_dates=True)"
   ]
  },
  {
   "cell_type": "code",
   "execution_count": 57,
   "metadata": {},
   "outputs": [
    {
     "data": {
      "text/html": [
       "<div>\n",
       "<style scoped>\n",
       "    .dataframe tbody tr th:only-of-type {\n",
       "        vertical-align: middle;\n",
       "    }\n",
       "\n",
       "    .dataframe tbody tr th {\n",
       "        vertical-align: top;\n",
       "    }\n",
       "\n",
       "    .dataframe thead th {\n",
       "        text-align: right;\n",
       "    }\n",
       "</style>\n",
       "<table border=\"1\" class=\"dataframe\">\n",
       "  <thead>\n",
       "    <tr style=\"text-align: right;\">\n",
       "      <th></th>\n",
       "      <th>beds</th>\n",
       "      <th>baths</th>\n",
       "      <th>sq__ft</th>\n",
       "      <th>price</th>\n",
       "    </tr>\n",
       "    <tr>\n",
       "      <th>sale_date</th>\n",
       "      <th></th>\n",
       "      <th></th>\n",
       "      <th></th>\n",
       "      <th></th>\n",
       "    </tr>\n",
       "  </thead>\n",
       "  <tbody>\n",
       "    <tr>\n",
       "      <th>2008-05-21</th>\n",
       "      <td>2</td>\n",
       "      <td>1</td>\n",
       "      <td>836</td>\n",
       "      <td>59222</td>\n",
       "    </tr>\n",
       "    <tr>\n",
       "      <th>2008-05-21</th>\n",
       "      <td>3</td>\n",
       "      <td>1</td>\n",
       "      <td>1167</td>\n",
       "      <td>68212</td>\n",
       "    </tr>\n",
       "    <tr>\n",
       "      <th>2008-05-21</th>\n",
       "      <td>2</td>\n",
       "      <td>1</td>\n",
       "      <td>796</td>\n",
       "      <td>68880</td>\n",
       "    </tr>\n",
       "    <tr>\n",
       "      <th>2008-05-21</th>\n",
       "      <td>2</td>\n",
       "      <td>1</td>\n",
       "      <td>852</td>\n",
       "      <td>69307</td>\n",
       "    </tr>\n",
       "    <tr>\n",
       "      <th>2008-05-21</th>\n",
       "      <td>2</td>\n",
       "      <td>1</td>\n",
       "      <td>797</td>\n",
       "      <td>81900</td>\n",
       "    </tr>\n",
       "  </tbody>\n",
       "</table>\n",
       "</div>"
      ],
      "text/plain": [
       "            beds  baths  sq__ft  price\n",
       "sale_date                             \n",
       "2008-05-21     2      1     836  59222\n",
       "2008-05-21     3      1    1167  68212\n",
       "2008-05-21     2      1     796  68880\n",
       "2008-05-21     2      1     852  69307\n",
       "2008-05-21     2      1     797  81900"
      ]
     },
     "execution_count": 57,
     "metadata": {},
     "output_type": "execute_result"
    }
   ],
   "source": [
    "prices.head()"
   ]
  },
  {
   "cell_type": "code",
   "execution_count": 59,
   "metadata": {},
   "outputs": [
    {
     "data": {
      "image/png": "[encoded data removed]",
      "text/plain": [
       "<Figure size 432x288 with 2 Axes>"
      ]
     },
     "metadata": {
      "needs_background": "light"
     },
     "output_type": "display_data"
    }
   ],
   "source": [
    "sns.heatmap(prices.corr());"
   ]
  },
  {
   "cell_type": "code",
   "execution_count": 60,
   "metadata": {},
   "outputs": [
    {
     "data": {
      "text/html": [
       "<div>\n",
       "<style scoped>\n",
       "    .dataframe tbody tr th:only-of-type {\n",
       "        vertical-align: middle;\n",
       "    }\n",
       "\n",
       "    .dataframe tbody tr th {\n",
       "        vertical-align: top;\n",
       "    }\n",
       "\n",
       "    .dataframe thead th {\n",
       "        text-align: right;\n",
       "    }\n",
       "</style>\n",
       "<table border=\"1\" class=\"dataframe\">\n",
       "  <thead>\n",
       "    <tr style=\"text-align: right;\">\n",
       "      <th></th>\n",
       "      <th>beds</th>\n",
       "      <th>baths</th>\n",
       "      <th>sq__ft</th>\n",
       "      <th>price</th>\n",
       "    </tr>\n",
       "  </thead>\n",
       "  <tbody>\n",
       "    <tr>\n",
       "      <th>beds</th>\n",
       "      <td>1.000000</td>\n",
       "      <td>0.839650</td>\n",
       "      <td>0.684999</td>\n",
       "      <td>0.344752</td>\n",
       "    </tr>\n",
       "    <tr>\n",
       "      <th>baths</th>\n",
       "      <td>0.839650</td>\n",
       "      <td>1.000000</td>\n",
       "      <td>0.665326</td>\n",
       "      <td>0.416718</td>\n",
       "    </tr>\n",
       "    <tr>\n",
       "      <th>sq__ft</th>\n",
       "      <td>0.684999</td>\n",
       "      <td>0.665326</td>\n",
       "      <td>1.000000</td>\n",
       "      <td>0.339628</td>\n",
       "    </tr>\n",
       "    <tr>\n",
       "      <th>price</th>\n",
       "      <td>0.344752</td>\n",
       "      <td>0.416718</td>\n",
       "      <td>0.339628</td>\n",
       "      <td>1.000000</td>\n",
       "    </tr>\n",
       "  </tbody>\n",
       "</table>\n",
       "</div>"
      ],
      "text/plain": [
       "            beds     baths    sq__ft     price\n",
       "beds    1.000000  0.839650  0.684999  0.344752\n",
       "baths   0.839650  1.000000  0.665326  0.416718\n",
       "sq__ft  0.684999  0.665326  1.000000  0.339628\n",
       "price   0.344752  0.416718  0.339628  1.000000"
      ]
     },
     "execution_count": 60,
     "metadata": {},
     "output_type": "execute_result"
    }
   ],
   "source": [
    "prices.corr()"
   ]
  },
  {
   "cell_type": "code",
   "execution_count": 61,
   "metadata": {},
   "outputs": [],
   "source": [
    "from sklearn.linear_model import LinearRegression\n",
    "lreg = LinearRegression()\n",
    "X = prices.loc[:, prices.columns != 'price']\n",
    "y = prices['price']"
   ]
  },
  {
   "cell_type": "code",
   "execution_count": 62,
   "metadata": {},
   "outputs": [
    {
     "data": {
      "text/plain": [
       "LinearRegression(copy_X=True, fit_intercept=True, n_jobs=None,\n",
       "         normalize=False)"
      ]
     },
     "execution_count": 62,
     "metadata": {},
     "output_type": "execute_result"
    }
   ],
   "source": [
    "lreg.fit(X, y)"
   ]
  },
  {
   "cell_type": "code",
   "execution_count": 63,
   "metadata": {},
   "outputs": [
    {
     "data": {
      "text/plain": [
       "120538.95054891512"
      ]
     },
     "execution_count": 63,
     "metadata": {},
     "output_type": "execute_result"
    }
   ],
   "source": [
    "lreg.intercept_"
   ]
  },
  {
   "cell_type": "code",
   "execution_count": 96,
   "metadata": {},
   "outputs": [
    {
     "data": {
      "text/plain": [
       "array([-10072.20660484,  54542.18571659,  17849.63081076])"
      ]
     },
     "execution_count": 96,
     "metadata": {},
     "output_type": "execute_result"
    }
   ],
   "source": [
    "lreg.coef_"
   ]
  },
  {
   "cell_type": "code",
   "execution_count": 67,
   "metadata": {},
   "outputs": [
    {
     "name": "stdout",
     "output_type": "stream",
     "text": [
      "[(-7700.862749680072, 'beds'), (60915.70979040685, 'baths'), (20.84937110107603, 'sq__ft')]\n"
     ]
    }
   ],
   "source": [
    "print(list(zip(lreg.coef_, X.columns)))"
   ]
  },
  {
   "cell_type": "code",
   "execution_count": 68,
   "metadata": {
    "scrolled": true
   },
   "outputs": [
    {
     "data": {
      "text/plain": [
       "0.18203162472419276"
      ]
     },
     "execution_count": 68,
     "metadata": {},
     "output_type": "execute_result"
    }
   ],
   "source": [
    "lreg.score(X, y)"
   ]
  },
  {
   "cell_type": "code",
   "execution_count": 69,
   "metadata": {},
   "outputs": [],
   "source": [
    "X_std = (X - X.mean()) / X.std()"
   ]
  },
  {
   "cell_type": "code",
   "execution_count": 70,
   "metadata": {},
   "outputs": [
    {
     "data": {
      "text/html": [
       "<div>\n",
       "<style scoped>\n",
       "    .dataframe tbody tr th:only-of-type {\n",
       "        vertical-align: middle;\n",
       "    }\n",
       "\n",
       "    .dataframe tbody tr th {\n",
       "        vertical-align: top;\n",
       "    }\n",
       "\n",
       "    .dataframe thead th {\n",
       "        text-align: right;\n",
       "    }\n",
       "</style>\n",
       "<table border=\"1\" class=\"dataframe\">\n",
       "  <thead>\n",
       "    <tr style=\"text-align: right;\">\n",
       "      <th></th>\n",
       "      <th>beds</th>\n",
       "      <th>baths</th>\n",
       "      <th>sq__ft</th>\n",
       "    </tr>\n",
       "  </thead>\n",
       "  <tbody>\n",
       "    <tr>\n",
       "      <th>count</th>\n",
       "      <td>9.850000e+02</td>\n",
       "      <td>9.850000e+02</td>\n",
       "      <td>9.850000e+02</td>\n",
       "    </tr>\n",
       "    <tr>\n",
       "      <th>mean</th>\n",
       "      <td>6.572999e-16</td>\n",
       "      <td>6.989897e-16</td>\n",
       "      <td>2.123583e-16</td>\n",
       "    </tr>\n",
       "    <tr>\n",
       "      <th>std</th>\n",
       "      <td>1.000000e+00</td>\n",
       "      <td>1.000000e+00</td>\n",
       "      <td>1.000000e+00</td>\n",
       "    </tr>\n",
       "    <tr>\n",
       "      <th>min</th>\n",
       "      <td>-2.226167e+00</td>\n",
       "      <td>-1.984260e+00</td>\n",
       "      <td>-2.682930e+00</td>\n",
       "    </tr>\n",
       "    <tr>\n",
       "      <th>25%</th>\n",
       "      <td>-6.970354e-01</td>\n",
       "      <td>-8.674051e-01</td>\n",
       "      <td>-4.239095e-01</td>\n",
       "    </tr>\n",
       "    <tr>\n",
       "      <th>50%</th>\n",
       "      <td>6.753016e-02</td>\n",
       "      <td>2.494498e-01</td>\n",
       "      <td>-1.041764e-02</td>\n",
       "    </tr>\n",
       "    <tr>\n",
       "      <th>75%</th>\n",
       "      <td>8.320958e-01</td>\n",
       "      <td>2.494498e-01</td>\n",
       "      <td>4.731576e-01</td>\n",
       "    </tr>\n",
       "    <tr>\n",
       "      <th>max</th>\n",
       "      <td>3.890358e+00</td>\n",
       "      <td>3.600015e+00</td>\n",
       "      <td>5.266860e+00</td>\n",
       "    </tr>\n",
       "  </tbody>\n",
       "</table>\n",
       "</div>"
      ],
      "text/plain": [
       "               beds         baths        sq__ft\n",
       "count  9.850000e+02  9.850000e+02  9.850000e+02\n",
       "mean   6.572999e-16  6.989897e-16  2.123583e-16\n",
       "std    1.000000e+00  1.000000e+00  1.000000e+00\n",
       "min   -2.226167e+00 -1.984260e+00 -2.682930e+00\n",
       "25%   -6.970354e-01 -8.674051e-01 -4.239095e-01\n",
       "50%    6.753016e-02  2.494498e-01 -1.041764e-02\n",
       "75%    8.320958e-01  2.494498e-01  4.731576e-01\n",
       "max    3.890358e+00  3.600015e+00  5.266860e+00"
      ]
     },
     "execution_count": 70,
     "metadata": {},
     "output_type": "execute_result"
    }
   ],
   "source": [
    "X_std.describe()"
   ]
  },
  {
   "cell_type": "code",
   "execution_count": 71,
   "metadata": {},
   "outputs": [
    {
     "data": {
      "text/plain": [
       "LinearRegression(copy_X=True, fit_intercept=True, n_jobs=None,\n",
       "         normalize=False)"
      ]
     },
     "execution_count": 71,
     "metadata": {},
     "output_type": "execute_result"
    }
   ],
   "source": [
    "lreg.fit(X_std, y)"
   ]
  },
  {
   "cell_type": "code",
   "execution_count": 72,
   "metadata": {},
   "outputs": [
    {
     "data": {
      "text/plain": [
       "0.18203162472419276"
      ]
     },
     "execution_count": 72,
     "metadata": {},
     "output_type": "execute_result"
    }
   ],
   "source": [
    "lreg.score(X_std, y)"
   ]
  },
  {
   "cell_type": "code",
   "execution_count": 73,
   "metadata": {},
   "outputs": [
    {
     "data": {
      "text/plain": [
       "array([-10072.20660484,  54542.18571659,  17849.63081076])"
      ]
     },
     "execution_count": 73,
     "metadata": {},
     "output_type": "execute_result"
    }
   ],
   "source": [
    "lreg.coef_"
   ]
  },
  {
   "cell_type": "code",
   "execution_count": 74,
   "metadata": {},
   "outputs": [
    {
     "data": {
      "text/plain": [
       "233715.95126903552"
      ]
     },
     "execution_count": 74,
     "metadata": {},
     "output_type": "execute_result"
    }
   ],
   "source": [
    "lreg.intercept_"
   ]
  },
  {
   "cell_type": "code",
   "execution_count": 76,
   "metadata": {},
   "outputs": [],
   "source": [
    "prices['prediction'] = lreg.predict(X_std)"
   ]
  },
  {
   "cell_type": "code",
   "execution_count": 83,
   "metadata": {},
   "outputs": [
    {
     "data": {
      "text/html": [
       "<div>\n",
       "<style scoped>\n",
       "    .dataframe tbody tr th:only-of-type {\n",
       "        vertical-align: middle;\n",
       "    }\n",
       "\n",
       "    .dataframe tbody tr th {\n",
       "        vertical-align: top;\n",
       "    }\n",
       "\n",
       "    .dataframe thead th {\n",
       "        text-align: right;\n",
       "    }\n",
       "</style>\n",
       "<table border=\"1\" class=\"dataframe\">\n",
       "  <thead>\n",
       "    <tr style=\"text-align: right;\">\n",
       "      <th></th>\n",
       "      <th>beds</th>\n",
       "      <th>baths</th>\n",
       "      <th>sq__ft</th>\n",
       "      <th>price</th>\n",
       "      <th>prediction</th>\n",
       "      <th>residuals</th>\n",
       "    </tr>\n",
       "    <tr>\n",
       "      <th>sale_date</th>\n",
       "      <th></th>\n",
       "      <th></th>\n",
       "      <th></th>\n",
       "      <th></th>\n",
       "      <th></th>\n",
       "      <th></th>\n",
       "    </tr>\n",
       "  </thead>\n",
       "  <tbody>\n",
       "    <tr>\n",
       "      <th>2008-05-21</th>\n",
       "      <td>2</td>\n",
       "      <td>1</td>\n",
       "      <td>836</td>\n",
       "      <td>59222</td>\n",
       "      <td>183483.009080</td>\n",
       "      <td>-124261.009080</td>\n",
       "    </tr>\n",
       "    <tr>\n",
       "      <th>2008-05-21</th>\n",
       "      <td>3</td>\n",
       "      <td>1</td>\n",
       "      <td>1167</td>\n",
       "      <td>68212</td>\n",
       "      <td>182683.288165</td>\n",
       "      <td>-114471.288165</td>\n",
       "    </tr>\n",
       "    <tr>\n",
       "      <th>2008-05-21</th>\n",
       "      <td>2</td>\n",
       "      <td>1</td>\n",
       "      <td>796</td>\n",
       "      <td>68880</td>\n",
       "      <td>182649.034236</td>\n",
       "      <td>-113769.034236</td>\n",
       "    </tr>\n",
       "    <tr>\n",
       "      <th>2008-05-21</th>\n",
       "      <td>2</td>\n",
       "      <td>1</td>\n",
       "      <td>852</td>\n",
       "      <td>69307</td>\n",
       "      <td>183816.599018</td>\n",
       "      <td>-114509.599018</td>\n",
       "    </tr>\n",
       "    <tr>\n",
       "      <th>2008-05-21</th>\n",
       "      <td>2</td>\n",
       "      <td>1</td>\n",
       "      <td>797</td>\n",
       "      <td>81900</td>\n",
       "      <td>182669.883607</td>\n",
       "      <td>-100769.883607</td>\n",
       "    </tr>\n",
       "  </tbody>\n",
       "</table>\n",
       "</div>"
      ],
      "text/plain": [
       "            beds  baths  sq__ft  price     prediction      residuals\n",
       "sale_date                                                           \n",
       "2008-05-21     2      1     836  59222  183483.009080 -124261.009080\n",
       "2008-05-21     3      1    1167  68212  182683.288165 -114471.288165\n",
       "2008-05-21     2      1     796  68880  182649.034236 -113769.034236\n",
       "2008-05-21     2      1     852  69307  183816.599018 -114509.599018\n",
       "2008-05-21     2      1     797  81900  182669.883607 -100769.883607"
      ]
     },
     "execution_count": 83,
     "metadata": {},
     "output_type": "execute_result"
    }
   ],
   "source": [
    "prices.head()"
   ]
  },
  {
   "cell_type": "code",
   "execution_count": 82,
   "metadata": {},
   "outputs": [
    {
     "data": {
      "text/plain": [
       "array([183483.00908041, 182683.28816523, 182649.03423636, 183816.59901803,\n",
       "       182669.88360747, 181745.06646567, 242285.48757626, 182891.78187624,\n",
       "       246587.90283644, 243161.16116251, 238219.86021153, 246142.62122997,\n",
       "       191913.59981862, 179618.43061336, 248276.70189563, 250611.83145896,\n",
       "       183649.80404922, 182628.18486526, 178312.36504732, 247539.52909375,\n",
       "       242577.37877168, 239275.73332435, 237420.13929635, 252647.62501354,\n",
       "       238053.06524272, 241951.89763864, 178430.01646059, 242598.22814278,\n",
       "       240339.05125051, 245287.79701483, 248631.14120435, 243286.25738912,\n",
       "       248039.91400018, 242535.68002947, 248631.14120435, 248832.19010202,\n",
       "       241826.80141203, 242257.19339182, 235460.29841284, 189599.31962639,\n",
       "       254156.22454616, 244432.97279968, 241284.7177634 , 248714.53868876,\n",
       "       244654.87106845, 174002.5049738 , 244508.92547074, 191411.72984327,\n",
       "       246093.47767443, 250062.30299699, 244036.83474876, 244717.41918176,\n",
       "       249770.41180158, 247302.7411983 , 243974.28663545, 248581.99764881,\n",
       "       252077.24718046, 243703.24481114, 182370.54759871, 311074.81482956,\n",
       "       244599.76776849, 242827.57122489, 244988.46100607, 189188.29194879,\n",
       "       248873.88884423, 245954.97689006, 252334.88444702, 247664.62532036,\n",
       "       378474.67903243, 245663.08569465, 247323.5905694 , 257213.63728469,\n",
       "       177867.08344086, 120538.95054877, 250771.18161443, 244717.41918176,\n",
       "       244842.51540836, 254927.6512769 , 309316.02284373, 245259.50283039,\n",
       "       250083.15236809, 246100.92248777, 238191.56602709, 241756.80848539,\n",
       "       319080.97333241, 262905.51559531, 244141.08160426, 264364.97157239,\n",
       "       245725.63380795, 120538.95054877, 178325.76960508, 317071.98889336,\n",
       "       246476.21116759, 244738.26855286, 254614.91071039, 257693.17282002,\n",
       "       251618.56101624, 322951.51154389, 251396.66274747, 179576.73187115,\n",
       "       120538.95054877, 254127.93036172, 248039.91400018, 178680.2089138 ,\n",
       "       321937.33717327, 249415.97249286, 253739.23712414, 335218.38656471,\n",
       "       377902.81613044, 254433.2261149 , 253119.71573552, 257985.06401543,\n",
       "       189529.32669975, 379537.99695859, 316780.09769794, 257693.17282002,\n",
       "       258659.68870401, 323160.0052549 , 259708.11700349, 314132.2275681 ,\n",
       "       399003.86475374, 120538.95054877, 312388.32520894, 201288.3720008 ,\n",
       "       336998.02792165, 321562.04849345, 120538.95054877, 264823.65773661,\n",
       "       249116.6364841 , 321069.10840036, 276908.84816195, 312409.17458004,\n",
       "       219267.78188058, 120538.95054877, 329484.80951189, 263259.95490403,\n",
       "       330749.17633572, 339818.65276473, 254391.52737269, 249721.26824603,\n",
       "       314105.41845257, 344204.46550931, 278605.09203448, 321666.29534895,\n",
       "       322966.40117057, 336357.65716193, 340152.24270234, 120538.95054877,\n",
       "       320804.02632047, 329276.31580088, 344204.46550931, 398837.06978493,\n",
       "       262898.07078197, 120538.95054877, 272482.62892132, 272482.62892132,\n",
       "       328658.27948118, 378912.32300279, 182628.18486526, 234480.37797109,\n",
       "       183566.40656482, 182732.43172077, 181606.56568131, 180598.35105511,\n",
       "       239004.69150004, 186227.68125242, 184150.18895565, 177616.89098764,\n",
       "       178771.05121155, 120538.95054877, 191489.16758326, 188807.04352455,\n",
       "       192607.58880938, 188807.04352455, 180869.39287943, 180014.56866428,\n",
       "       180264.76111749, 247129.98648507, 181244.68155925, 180243.91174639,\n",
       "       242410.58380287, 176866.313628  , 242619.07751388, 241785.10266983,\n",
       "       178304.92023398, 185901.53612815, 244516.37028408, 245621.38695245,\n",
       "       180869.39287943, 245663.08569465, 247692.9195048 , 244328.72594417,\n",
       "       120538.95054877, 181106.18077488, 241756.80848539, 244036.83474876,\n",
       "       236231.72514358, 185873.2419437 , 242556.52940057, 247706.32406256,\n",
       "       238879.59527343, 247943.11195801, 242285.48757626, 182940.92543178,\n",
       "       250382.48837685, 184900.76631529, 243369.65487352, 193594.95406447,\n",
       "       248290.10645339, 249270.02689515, 243432.20298682, 254107.08099062,\n",
       "       255545.6875966 , 245642.23632355, 247963.96132912, 255045.30269017,\n",
       "       246698.10943637, 249700.41887493, 251688.55394288, 234918.21476421,\n",
       "       242973.5168226 , 182829.23376293, 248310.9558245 , 158352.07209017,\n",
       "       211566.91913091, 246142.62122997, 249074.9377419 , 219267.78188058,\n",
       "       313201.45068188, 181127.03014598, 226968.64463025, 185818.13864374,\n",
       "       244467.22672854, 246726.40362081, 120538.95054877, 186707.21678775,\n",
       "       120538.95054877, 251000.52469655, 248074.16792904, 249812.11054378,\n",
       "       245030.15974827, 242319.74150512, 183704.90734918, 254385.56762827,\n",
       "       251938.7463961 , 256296.26495624, 264865.35647882, 185268.61018177,\n",
       "       120538.95054877, 120538.95054877, 250604.38664562, 324418.41233431,\n",
       "       192510.78676721, 120538.95054877, 243786.64229554, 241923.6034542 ,\n",
       "       250500.13979012, 252084.69199381, 369168.41470797, 264510.9171701 ,\n",
       "       244821.66603726, 251938.7463961 , 211566.91913091, 237691.18112066,\n",
       "       309344.31702817, 120538.95054877, 314806.85225667, 251188.16903646,\n",
       "       120538.95054877, 306946.63935154, 254433.2261149 , 324480.96044761,\n",
       "       249499.36997726, 256789.20504933, 249290.87626625, 251104.77155205,\n",
       "       248477.7507933 , 248686.24450432, 333398.33871172, 120538.95054877,\n",
       "       185122.66458406, 320582.12805169, 246976.59607402, 251389.21793413,\n",
       "       260570.38603198, 120538.95054877, 120538.95054877, 264781.76617165,\n",
       "       257539.78240897, 257179.38335583, 245496.29072584, 272954.91246607,\n",
       "       177290.74586337, 318518.04031268, 181453.17527026, 244821.66603726,\n",
       "       256580.71133832, 320331.93559848, 257588.92596451, 251180.72422312,\n",
       "       247386.1386827 , 335440.28483348, 211566.91913091, 393666.42575184,\n",
       "       261300.11402052, 265921.22959164, 329276.31580088, 403799.220107  ,\n",
       "       120538.95054877, 278118.11168581, 120538.95054877, 272482.62892132,\n",
       "       264781.76617165, 192052.10060299, 265379.14594301, 201468.57152737,\n",
       "       219267.78188058, 355713.31835715, 404223.65234237, 345698.17541525,\n",
       "       264781.76617165, 260285.9396499 , 312701.06577546, 336490.19820188,\n",
       "       120538.95054877, 280183.49167099, 120538.95054877, 120538.95054877,\n",
       "       347845.66063867, 257894.22171769, 352502.51520757, 211566.91913091,\n",
       "       445950.49590636, 255655.89419652, 367257.71738001, 183566.40656482,\n",
       "       183844.89320247, 178575.9620583 , 179042.09303586, 185484.54870612,\n",
       "       182649.03423636, 183441.31033821, 183441.31033821, 185317.75373731,\n",
       "       182628.18486526, 184413.78596662, 186568.71600338, 179472.48501565,\n",
       "       179451.63564455, 182628.18486526, 246108.36730111, 180911.09162163,\n",
       "       186151.72858136, 240839.43615694, 186784.65452773, 184567.17637767,\n",
       "       234918.21476421, 186102.58502582, 179493.33438675, 241756.80848539,\n",
       "       178492.56457389, 182294.59492764, 244398.71887082, 249902.95284152,\n",
       "       182829.23376293, 244432.97279968, 374992.83405854, 182815.82920517,\n",
       "       246942.34214516, 247748.02280476, 245753.92799239, 172863.23437658,\n",
       "       241785.10266983, 242285.48757626, 186318.52355017, 240547.54496152,\n",
       "       239796.96760188, 182628.18486526, 182315.44429875, 244654.87106845,\n",
       "       244474.67154188, 189800.36852406, 262204.08179121, 245225.24890152,\n",
       "       248790.49135982, 246371.96431209, 242619.07751388, 244717.41918176,\n",
       "       248602.84701991, 235473.7029706 , 226968.64463025, 253585.84671309,\n",
       "       254211.32784612, 247831.42028917, 247831.42028917, 239734.41948858,\n",
       "       243286.25738912, 249541.06871946, 186693.81222999, 251195.6138498 ,\n",
       "       243911.73852215, 250153.14529474, 242202.09009186, 238254.1141404 ,\n",
       "       238254.1141404 , 180014.56866428, 243432.20298682, 251535.16353183,\n",
       "       250958.82595434, 244370.42468638, 242619.07751388, 249207.47878185,\n",
       "       249520.21934836, 245718.18899461, 247818.01573141, 182370.54759871,\n",
       "       243327.95613132, 247476.98098045, 246976.59607402, 186623.81930335,\n",
       "       250646.08538783, 179389.08753124, 243119.46242031, 185442.84996392,\n",
       "       248386.90849556, 312930.40885757, 248595.40220657, 184580.58093543,\n",
       "       250596.94183228, 250153.14529474, 250263.35189466, 312909.55948647,\n",
       "       179159.74444913, 255920.97627642, 263927.13477926, 185859.83738594,\n",
       "       308739.68526623, 250875.42846994, 178951.25073812, 243987.69119321,\n",
       "       244537.21965519, 250576.09246118, 246413.66305429, 181815.05939232,\n",
       "       314723.45477227, 247935.66714467, 253030.3585067 , 180410.7067152 ,\n",
       "       244015.98537766, 254573.21196818, 312847.01137316, 375360.67792502,\n",
       "       249019.83444193, 254253.02658833, 249054.0883708 , 327775.16108159,\n",
       "       249429.37705062, 328914.43167882, 250013.15944145, 246497.06053869,\n",
       "       323501.04000586, 236085.77954587, 236210.87577248, 182537.34256752,\n",
       "       248957.28632863, 244383.82924414, 257422.1309957 , 247511.23490931,\n",
       "       253134.6053622 , 120538.95054877, 317830.01106634, 251264.12170752,\n",
       "       249262.58208181, 268089.56418616, 194067.04478646, 249645.31557497,\n",
       "       329276.31580088, 120538.95054877, 249874.65865708, 325648.52522928,\n",
       "       251764.50661395, 320255.98292742, 247268.48726944, 250750.33224333,\n",
       "       246984.04088736, 244071.08867762, 253127.16054886, 327163.08450632,\n",
       "       255538.24278326, 243341.36068908, 245287.79701483, 250680.33931669,\n",
       "       264781.76617165, 311074.81482956, 120538.95054877, 257810.82423328,\n",
       "       248331.8051956 , 248665.39513322, 337087.38515047, 313694.39077497,\n",
       "       313715.24014607, 246156.02578774, 331097.65590002, 120538.95054877,\n",
       "       256497.31385391, 120538.95054877, 257005.14357368, 269715.81513205,\n",
       "       245051.00911937, 120538.95054877, 256726.65693602, 120538.95054877,\n",
       "       250576.09246118, 256796.64986267, 193441.56365343, 219267.78188058,\n",
       "       120538.95054877, 260244.2409077 , 211566.91913091, 243849.19040885,\n",
       "       120538.95054877, 192524.19132497, 333188.55275456, 254649.16463925,\n",
       "       219267.78188058, 315953.56766724, 120538.95054877, 247928.22233133,\n",
       "       272482.62892132, 312909.55948647, 211566.91913091, 325163.02994953,\n",
       "       254524.06841264, 253307.36007543, 423113.18256002, 353308.19586718,\n",
       "       266679.25176462, 272482.62892132, 397114.01679687, 332369.46753719,\n",
       "       264781.76617165, 280183.49167099, 258985.83382829, 246788.95173411,\n",
       "       226968.64463025, 264781.76617165, 274886.45916513, 281863.55367068,\n",
       "       327941.9560504 , 342473.96770791, 325161.54488061, 261487.75836043,\n",
       "       343759.18390284, 341298.95811291, 120538.95054877, 120538.95054877,\n",
       "       120538.95054877, 120538.95054877, 120538.95054877, 120538.95054877,\n",
       "       120538.95054877, 120538.95054877, 120538.95054877, 120538.95054877,\n",
       "       120538.95054877, 120538.95054877, 120538.95054877, 120538.95054877,\n",
       "       120538.95054877, 120538.95054877, 120538.95054877, 120538.95054877,\n",
       "       120538.95054877, 120538.95054877, 120538.95054877, 120538.95054877,\n",
       "       120538.95054877, 120538.95054877, 120538.95054877, 211566.91913091,\n",
       "       219267.78188058, 219267.78188058, 120538.95054877, 120538.95054877,\n",
       "       120538.95054877, 120538.95054877, 120538.95054877, 120538.95054877,\n",
       "       120538.95054877, 120538.95054877, 120538.95054877, 120538.95054877,\n",
       "       120538.95054877, 120538.95054877, 120538.95054877, 120538.95054877,\n",
       "       120538.95054877, 120538.95054877, 120538.95054877, 120538.95054877,\n",
       "       120538.95054877, 120538.95054877, 120538.95054877, 243578.14858453,\n",
       "       120538.95054877, 183524.70782261, 184900.76631529, 187569.48581624,\n",
       "       184900.76631529, 188570.25562909, 247609.5220204 , 184817.36883089,\n",
       "       184004.24335794, 184942.46505749, 187131.64902311, 241972.74700974,\n",
       "       183399.61159601, 182732.43172077, 238504.30659361, 182940.92543178,\n",
       "       233750.64998254, 185046.711913  , 191392.36554109, 246788.95173411,\n",
       "       248665.39513322, 242514.83065837, 243640.69669784, 243536.44984233,\n",
       "       239525.92577757, 244683.16525289, 235064.16036192, 245788.18192125,\n",
       "       237691.18112066, 242619.07751388, 250278.24152134, 311887.94030251,\n",
       "       245537.98946804, 248456.9014222 , 184705.67716204, 180452.4054574 ,\n",
       "       250570.13271676, 249832.95991488, 242035.29512305, 245509.6952836 ,\n",
       "       239283.17813769, 241680.85581433, 249040.68381304, 239880.36508629,\n",
       "       369598.80668776, 248665.39513322, 254941.05583466, 242486.53647393,\n",
       "       243036.0649359 , 243862.59496661, 248665.39513322, 245121.00204602,\n",
       "       239560.17970643, 244508.92547074, 254065.38224842, 179806.07495327,\n",
       "       181348.92841475, 264323.27283019, 253669.24419749, 185873.2419437 ,\n",
       "       244287.02720197, 243661.54606894, 244266.17783087, 246906.60314738,\n",
       "       243390.50424462, 248665.39513322, 243744.94355334, 252480.83004473,\n",
       "       242056.14449415, 256171.16872963, 241506.61603218, 242702.47499828,\n",
       "       235314.35281513, 253419.05174428, 246955.74670292, 245809.03129236,\n",
       "       180911.09162163, 244467.22672854, 182649.03423636, 248165.01022679,\n",
       "       249541.06871946, 250812.88035663, 120538.95054877, 244467.22672854,\n",
       "       308677.13715293, 226968.64463025, 189063.19572218, 182328.84885651,\n",
       "       242765.02311159, 182203.7526299 , 178617.6608005 , 259645.56889019,\n",
       "       250104.0017392 , 187736.28078505, 249082.38255524, 249095.787113  ,\n",
       "       252285.74089148, 242619.07751388, 244954.20707721, 153238.01642597,\n",
       "       219267.78188058, 260125.10442551, 247435.28223825, 226968.64463025,\n",
       "       179339.9439757 , 246371.96431209, 244217.03427533, 189299.98361763,\n",
       "       187569.48581624, 241152.17672346, 245558.83883914, 261099.06512285,\n",
       "       248595.40220657, 247164.24041393, 120538.95054877, 250860.53884326,\n",
       "       249311.72563735, 253078.01699332, 316808.39188238, 242076.99386525,\n",
       "       249749.56243048, 311859.64611807, 241660.00644323, 255579.94152546,\n",
       "       254419.82155714, 312409.17458004, 260917.38052736, 260174.24798106,\n",
       "       256282.86039848, 256567.30678055, 250680.33931669, 245016.75519051,\n",
       "       263773.74436822, 120538.95054877, 254211.32784612, 247768.87217587,\n",
       "       312075.58464242, 253377.35300208, 257380.4322535 , 120538.95054877,\n",
       "       241548.31477438, 249520.21934836, 190043.11616394, 250666.93475893,\n",
       "       265879.53084943, 244203.62971757, 253064.61243556, 257025.99294478,\n",
       "       251375.81337637, 211566.91913091, 120538.95054877, 120538.95054877,\n",
       "       211566.91913091, 120538.95054877, 251438.36148967, 316780.09769794,\n",
       "       253669.24419749, 318643.13653929, 312318.33228229, 249353.42437955,\n",
       "       244550.62421295, 257985.06401543, 255441.44074109, 316182.91074935,\n",
       "       255128.70017457, 256601.56070942, 240380.74999271, 219267.78188058,\n",
       "       247448.68679601, 239254.88395325, 120538.95054877, 252890.37265341,\n",
       "       189904.61537957, 260807.17392743, 249645.31557497, 310351.04658544,\n",
       "       252147.24010711, 318823.33606586, 248477.7507933 , 211566.91913091,\n",
       "       250583.53727452, 246934.89733182, 310011.49690341, 256789.20504933,\n",
       "       316008.6709672 , 120538.95054877, 253349.05881764, 318601.43779708,\n",
       "       330123.69520269, 247622.92657816, 211566.91913091, 245871.57940566,\n",
       "       334238.46612295, 250930.5317699 , 120538.95054877, 219267.78188058,\n",
       "       251542.60834518, 226968.64463025, 316453.95257366, 263356.75694619,\n",
       "       319560.50886774, 326302.30054675, 252960.36558005, 261021.62738286,\n",
       "       319115.22726127, 264781.76617165, 324765.40682969, 280981.92034001,\n",
       "       226968.64463025, 264552.6159123 , 263051.46119302, 256692.40300716,\n",
       "       219267.78188058, 259416.22580807, 326211.45824901, 120538.95054877,\n",
       "       194358.93598188, 250229.0979658 , 253773.491053  , 120538.95054877,\n",
       "       120538.95054877, 261988.14326686, 120538.95054877, 324723.70808748,\n",
       "       120538.95054877, 257414.68618236, 272482.62892132, 193240.51475575,\n",
       "       267930.21403069, 319977.49628976, 189480.1831442 , 219267.78188058,\n",
       "       120538.95054877, 264781.76617165, 322888.96343058, 323660.39016133,\n",
       "       340472.4280822 , 254370.67800159, 322083.28277098, 219267.78188058,\n",
       "       219267.78188058, 219267.78188058, 211566.91913091, 325697.47596205,\n",
       "       120538.95054877, 285422.83638456, 272482.62892132, 186457.02433454,\n",
       "       272482.62892132, 192156.34745849, 339805.24820696, 406238.59652584,\n",
       "       264781.76617165, 272482.62892132, 321603.74723565, 120538.95054877,\n",
       "       339401.6653427 , 120538.95054877, 120538.95054877, 272482.62892132,\n",
       "       364219.86176642, 280183.49167099, 462484.24001235, 243091.16823586,\n",
       "       186492.76333232, 184316.98392446, 185505.39807722, 184066.79147124,\n",
       "       187131.64902311, 235710.49086605, 242035.29512305, 185984.93361255,\n",
       "       250716.07831447, 180410.7067152 , 240951.12782579, 247497.83035155,\n",
       "       180264.76111749, 187973.0686805 , 182558.19193862, 179284.84067574,\n",
       "       183975.9491735 , 245308.64638593, 243473.90172903, 179409.93690234,\n",
       "       120538.95054877, 242048.69968081, 245725.63380795, 251737.69749843,\n",
       "       244300.43175973, 242056.14449415, 178409.16708949, 241972.74700974,\n",
       "       242765.02311159, 238858.74590233, 186276.82480797, 243119.46242031,\n",
       "       179201.44319133, 120538.95054877, 244412.12342858, 185143.51395516,\n",
       "       251438.36148967, 184483.77889327, 179597.58124225, 240589.24370373,\n",
       "       185317.75373731, 244641.46651069, 254086.23161952, 246413.66305429,\n",
       "       250291.64607911, 247893.96840247, 240359.90062161, 245642.23632355,\n",
       "       184421.23077996, 120538.95054877, 245092.70786158, 186373.62685013,\n",
       "       244328.72594417, 242285.48757626, 226968.64463025, 250325.90000797,\n",
       "       244954.20707721, 192503.34195387, 251508.35441631, 252251.48696261,\n",
       "       245816.4761057 , 247205.93915613, 244370.42468638, 242361.44024732,\n",
       "       242778.42766935, 178367.46834729, 120538.95054877, 249040.68381304,\n",
       "       180014.56866428, 190230.76050385, 311929.63904471, 250909.6823988 ,\n",
       "       246246.86808548, 253419.05174428, 254232.17721722, 180723.44728172,\n",
       "       244933.35770611, 243765.79292444, 248790.49135982, 120538.95054877,\n",
       "       247581.22783595, 245113.55723268, 313514.1912484 , 249673.60975941,\n",
       "       246288.56682768, 251758.54686953, 182628.18486526, 247852.26966027,\n",
       "       185664.74823269, 245579.68821024, 247844.82484693, 250896.27784104,\n",
       "       249499.36997726, 248790.49135982, 176866.313628  , 258506.29829296,\n",
       "       246413.66305429, 248832.19010202, 219267.78188058, 239067.23961334,\n",
       "       248470.30597996, 245488.8459125 , 120538.95054877, 180035.41803538,\n",
       "       178367.46834729, 219267.78188058, 188708.75641346, 249499.36997726,\n",
       "       247581.22783595, 239275.73332435, 247323.5905694 , 245579.68821024,\n",
       "       320019.19503196, 250062.30299699, 244620.61713959, 246698.10943637,\n",
       "       247664.62532036])"
      ]
     },
     "execution_count": 82,
     "metadata": {},
     "output_type": "execute_result"
    }
   ],
   "source": [
    "lreg.predict(X_std)"
   ]
  },
  {
   "cell_type": "code",
   "execution_count": 77,
   "metadata": {},
   "outputs": [],
   "source": [
    "prices['residuals'] = prices.price - prices.prediction"
   ]
  },
  {
   "cell_type": "code",
   "execution_count": 78,
   "metadata": {},
   "outputs": [
    {
     "data": {
      "text/html": [
       "<div>\n",
       "<style scoped>\n",
       "    .dataframe tbody tr th:only-of-type {\n",
       "        vertical-align: middle;\n",
       "    }\n",
       "\n",
       "    .dataframe tbody tr th {\n",
       "        vertical-align: top;\n",
       "    }\n",
       "\n",
       "    .dataframe thead th {\n",
       "        text-align: right;\n",
       "    }\n",
       "</style>\n",
       "<table border=\"1\" class=\"dataframe\">\n",
       "  <thead>\n",
       "    <tr style=\"text-align: right;\">\n",
       "      <th></th>\n",
       "      <th>beds</th>\n",
       "      <th>baths</th>\n",
       "      <th>sq__ft</th>\n",
       "      <th>price</th>\n",
       "      <th>prediction</th>\n",
       "      <th>residuals</th>\n",
       "    </tr>\n",
       "    <tr>\n",
       "      <th>sale_date</th>\n",
       "      <th></th>\n",
       "      <th></th>\n",
       "      <th></th>\n",
       "      <th></th>\n",
       "      <th></th>\n",
       "      <th></th>\n",
       "    </tr>\n",
       "  </thead>\n",
       "  <tbody>\n",
       "    <tr>\n",
       "      <th>2008-05-21</th>\n",
       "      <td>2</td>\n",
       "      <td>1</td>\n",
       "      <td>836</td>\n",
       "      <td>59222</td>\n",
       "      <td>183483.009080</td>\n",
       "      <td>-124261.009080</td>\n",
       "    </tr>\n",
       "    <tr>\n",
       "      <th>2008-05-21</th>\n",
       "      <td>3</td>\n",
       "      <td>1</td>\n",
       "      <td>1167</td>\n",
       "      <td>68212</td>\n",
       "      <td>182683.288165</td>\n",
       "      <td>-114471.288165</td>\n",
       "    </tr>\n",
       "    <tr>\n",
       "      <th>2008-05-21</th>\n",
       "      <td>2</td>\n",
       "      <td>1</td>\n",
       "      <td>796</td>\n",
       "      <td>68880</td>\n",
       "      <td>182649.034236</td>\n",
       "      <td>-113769.034236</td>\n",
       "    </tr>\n",
       "    <tr>\n",
       "      <th>2008-05-21</th>\n",
       "      <td>2</td>\n",
       "      <td>1</td>\n",
       "      <td>852</td>\n",
       "      <td>69307</td>\n",
       "      <td>183816.599018</td>\n",
       "      <td>-114509.599018</td>\n",
       "    </tr>\n",
       "    <tr>\n",
       "      <th>2008-05-21</th>\n",
       "      <td>2</td>\n",
       "      <td>1</td>\n",
       "      <td>797</td>\n",
       "      <td>81900</td>\n",
       "      <td>182669.883607</td>\n",
       "      <td>-100769.883607</td>\n",
       "    </tr>\n",
       "  </tbody>\n",
       "</table>\n",
       "</div>"
      ],
      "text/plain": [
       "            beds  baths  sq__ft  price     prediction      residuals\n",
       "sale_date                                                           \n",
       "2008-05-21     2      1     836  59222  183483.009080 -124261.009080\n",
       "2008-05-21     3      1    1167  68212  182683.288165 -114471.288165\n",
       "2008-05-21     2      1     796  68880  182649.034236 -113769.034236\n",
       "2008-05-21     2      1     852  69307  183816.599018 -114509.599018\n",
       "2008-05-21     2      1     797  81900  182669.883607 -100769.883607"
      ]
     },
     "execution_count": 78,
     "metadata": {},
     "output_type": "execute_result"
    }
   ],
   "source": [
    "prices.head()"
   ]
  },
  {
   "cell_type": "code",
   "execution_count": 81,
   "metadata": {},
   "outputs": [
    {
     "data": {
      "image/png": "[encoded data removed]",
      "text/plain": [
       "<Figure size 432x288 with 1 Axes>"
      ]
     },
     "metadata": {
      "needs_background": "light"
     },
     "output_type": "display_data"
    }
   ],
   "source": [
    "prices.residuals.hist();"
   ]
  },
  {
   "cell_type": "code",
   "execution_count": 80,
   "metadata": {},
   "outputs": [
    {
     "data": {
      "text/plain": [
       "count    9.850000e+02\n",
       "mean     3.598829e-11\n",
       "std      1.257942e+05\n",
       "min     -4.604842e+05\n",
       "25%     -8.759420e+04\n",
       "50%     -2.883219e+04\n",
       "75%      5.023308e+04\n",
       "max      6.065174e+05\n",
       "Name: residuals, dtype: float64"
      ]
     },
     "execution_count": 80,
     "metadata": {},
     "output_type": "execute_result"
    }
   ],
   "source": [
    "prices.residuals.describe()"
   ]
  },
  {
   "cell_type": "code",
   "execution_count": 84,
   "metadata": {},
   "outputs": [
    {
     "data": {
      "text/plain": [
       "0.18203162472419276"
      ]
     },
     "execution_count": 84,
     "metadata": {},
     "output_type": "execute_result"
    }
   ],
   "source": [
    "lreg.score(X_std, y)"
   ]
  },
  {
   "cell_type": "code",
   "execution_count": 89,
   "metadata": {},
   "outputs": [],
   "source": [
    "SStot = sum((prices.price - prices.price.mean())**2)"
   ]
  },
  {
   "cell_type": "code",
   "execution_count": 90,
   "metadata": {},
   "outputs": [
    {
     "data": {
      "text/plain": [
       "19036168349347.656"
      ]
     },
     "execution_count": 90,
     "metadata": {},
     "output_type": "execute_result"
    }
   ],
   "source": [
    "SStot"
   ]
  },
  {
   "cell_type": "code",
   "execution_count": 93,
   "metadata": {},
   "outputs": [],
   "source": [
    "SSres = sum(prices.residuals**2)"
   ]
  },
  {
   "cell_type": "code",
   "execution_count": 94,
   "metadata": {},
   "outputs": [
    {
     "data": {
      "text/plain": [
       "0.18203162472419177"
      ]
     },
     "execution_count": 94,
     "metadata": {},
     "output_type": "execute_result"
    }
   ],
   "source": [
    "1 - (SSres/SStot)"
   ]
  },
  {
   "cell_type": "code",
   "execution_count": null,
   "metadata": {},
   "outputs": [],
   "source": []
  }
 ],
 "metadata": {
  "kernelspec": {
   "display_name": "Python 3",
   "language": "python",
   "name": "python3"
  },
  "language_info": {
   "codemirror_mode": {
    "name": "ipython",
    "version": 3
   },
   "file_extension": ".py",
   "mimetype": "text/x-python",
   "name": "python",
   "nbconvert_exporter": "python",
   "pygments_lexer": "ipython3",
   "version": "3.7.1"
  }
 },
 "nbformat": 4,
 "nbformat_minor": 2
}
