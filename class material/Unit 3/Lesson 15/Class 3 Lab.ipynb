{
 "cells": [
  {
   "cell_type": "markdown",
   "metadata": {},
   "source": [
    "### Class 3 Lab\n",
    "\n",
    "Approximate Time:  30-40 minutes"
   ]
  },
  {
   "cell_type": "markdown",
   "metadata": {},
   "source": [
    "**Your Instructions**:  Now that we've submitted two different baseline versions of our model, see if you can go ahead and find some improvements to be made.  \n",
    "\n",
    "Some ideas to try out:\n",
    "\n",
    " - Adding in new variables, like Age, Fare, Embarked, etc, and see how they do.  \n",
    " - Transforming variables like Name, Cabin, and possibly Ticket to make them more manageable and easy to discern\n",
    " - Creating variables to test whether or not someone was alone, whether or not they were traveling in a group (can use Ticket for this), etc\n",
    " - Random Forests need good values to split on.  Sometimes they perform better if you 'bin' a quantitative column so there are more values on each side of a split.  \n",
    " - Try out different versions of alpha, l1 & l2 penalties for LogisticRegression\n",
    " - Try different parameters of a Random Forest as well to see if it fits better\n",
    " - Make sure to use cross-validation to make comparisons between your validation and test sets\n",
    "\n",
    "Some things to keep in mind:\n",
    "\n",
    " - There are missing values in the Fare, Age, Embarked and Cabin column\n",
    " - Remember the rules for transforming categorical data:\n",
    "   - Ordinal: encode them with increasing numeric values to represent the hierarchy that's already in play\n",
    "   - Nominal: dummy encode them like we did in the previous exercise\n",
    " - See if you can use the transform method to fill in the missing values for Age according to passenger characteristics\n",
    "   \n"
   ]
  },
  {
   "cell_type": "code",
   "execution_count": null,
   "metadata": {},
   "outputs": [],
   "source": []
  }
 ],
 "metadata": {
  "kernelspec": {
   "display_name": "Python 3",
   "language": "python",
   "name": "python3"
  },
  "language_info": {
   "codemirror_mode": {
    "name": "ipython",
    "version": 3
   },
   "file_extension": ".py",
   "mimetype": "text/x-python",
   "name": "python",
   "nbconvert_exporter": "python",
   "pygments_lexer": "ipython3",
   "version": "3.7.1"
  }
 },
 "nbformat": 4,
 "nbformat_minor": 2
}
