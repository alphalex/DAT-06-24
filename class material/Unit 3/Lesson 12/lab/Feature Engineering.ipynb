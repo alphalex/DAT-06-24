{
 "cells": [
  {
   "cell_type": "markdown",
   "metadata": {},
   "source": [
    "### Lesson 12 Lab:  Feature Engineering the Bikeshare Dataset"
   ]
  },
  {
   "cell_type": "markdown",
   "metadata": {},
   "source": [
    "### Step 1:  Load in the Dataset"
   ]
  },
  {
   "cell_type": "code",
<<<<<<< HEAD
   "execution_count": 1,
   "metadata": {},
   "outputs": [
    {
     "data": {
      "text/plain": [
       "'/Users/wzhang/GeneralAssembly/DAT-06-24/class material/Unit 3/Lesson 12/lab'"
      ]
     },
     "execution_count": 1,
     "metadata": {},
     "output_type": "execute_result"
    }
   ],
   "source": [
    "pwd"
   ]
  },
  {
   "cell_type": "code",
   "execution_count": 3,
   "metadata": {},
   "outputs": [],
   "source": [
    "import pandas as pd"
   ]
  },
  {
   "cell_type": "code",
   "execution_count": 42,
   "metadata": {},
   "outputs": [],
   "source": [
    "df = pd.read_csv('../../data/bikeshare.csv',parse_dates=True)"
   ]
  },
  {
   "cell_type": "code",
   "execution_count": 12,
   "metadata": {},
   "outputs": [
    {
     "data": {
      "text/html": [
       "<div>\n",
       "<style scoped>\n",
       "    .dataframe tbody tr th:only-of-type {\n",
       "        vertical-align: middle;\n",
       "    }\n",
       "\n",
       "    .dataframe tbody tr th {\n",
       "        vertical-align: top;\n",
       "    }\n",
       "\n",
       "    .dataframe thead th {\n",
       "        text-align: right;\n",
       "    }\n",
       "</style>\n",
       "<table border=\"1\" class=\"dataframe\">\n",
       "  <thead>\n",
       "    <tr style=\"text-align: right;\">\n",
       "      <th></th>\n",
       "      <th>datetime</th>\n",
       "      <th>season</th>\n",
       "      <th>holiday</th>\n",
       "      <th>workingday</th>\n",
       "      <th>weather</th>\n",
       "      <th>temp</th>\n",
       "      <th>atemp</th>\n",
       "      <th>humidity</th>\n",
       "      <th>windspeed</th>\n",
       "      <th>count</th>\n",
       "    </tr>\n",
       "  </thead>\n",
       "  <tbody>\n",
       "    <tr>\n",
       "      <th>0</th>\n",
       "      <td>2011-01-01 00:00:00</td>\n",
       "      <td>Spring</td>\n",
       "      <td>0</td>\n",
       "      <td>0</td>\n",
       "      <td>Clear Skies</td>\n",
       "      <td>9.84</td>\n",
       "      <td>14.395</td>\n",
       "      <td>81</td>\n",
       "      <td>0.0</td>\n",
       "      <td>16</td>\n",
       "    </tr>\n",
       "    <tr>\n",
       "      <th>1</th>\n",
       "      <td>2011-01-01 01:00:00</td>\n",
       "      <td>Spring</td>\n",
       "      <td>0</td>\n",
       "      <td>0</td>\n",
       "      <td>Clear Skies</td>\n",
       "      <td>9.02</td>\n",
       "      <td>13.635</td>\n",
       "      <td>80</td>\n",
       "      <td>0.0</td>\n",
       "      <td>40</td>\n",
       "    </tr>\n",
       "    <tr>\n",
       "      <th>2</th>\n",
       "      <td>2011-01-01 02:00:00</td>\n",
       "      <td>Spring</td>\n",
       "      <td>0</td>\n",
       "      <td>0</td>\n",
       "      <td>Clear Skies</td>\n",
       "      <td>9.02</td>\n",
       "      <td>13.635</td>\n",
       "      <td>80</td>\n",
       "      <td>0.0</td>\n",
       "      <td>32</td>\n",
       "    </tr>\n",
       "    <tr>\n",
       "      <th>3</th>\n",
       "      <td>2011-01-01 03:00:00</td>\n",
       "      <td>Spring</td>\n",
       "      <td>0</td>\n",
       "      <td>0</td>\n",
       "      <td>Clear Skies</td>\n",
       "      <td>9.84</td>\n",
       "      <td>14.395</td>\n",
       "      <td>75</td>\n",
       "      <td>0.0</td>\n",
       "      <td>13</td>\n",
       "    </tr>\n",
       "    <tr>\n",
       "      <th>4</th>\n",
       "      <td>2011-01-01 04:00:00</td>\n",
       "      <td>Spring</td>\n",
       "      <td>0</td>\n",
       "      <td>0</td>\n",
       "      <td>Clear Skies</td>\n",
       "      <td>9.84</td>\n",
       "      <td>14.395</td>\n",
       "      <td>75</td>\n",
       "      <td>0.0</td>\n",
       "      <td>1</td>\n",
       "    </tr>\n",
       "  </tbody>\n",
       "</table>\n",
       "</div>"
      ],
      "text/plain": [
       "              datetime  season  holiday  workingday      weather  temp  \\\n",
       "0  2011-01-01 00:00:00  Spring        0           0  Clear Skies  9.84   \n",
       "1  2011-01-01 01:00:00  Spring        0           0  Clear Skies  9.02   \n",
       "2  2011-01-01 02:00:00  Spring        0           0  Clear Skies  9.02   \n",
       "3  2011-01-01 03:00:00  Spring        0           0  Clear Skies  9.84   \n",
       "4  2011-01-01 04:00:00  Spring        0           0  Clear Skies  9.84   \n",
       "\n",
       "    atemp  humidity  windspeed  count  \n",
       "0  14.395        81        0.0     16  \n",
       "1  13.635        80        0.0     40  \n",
       "2  13.635        80        0.0     32  \n",
       "3  14.395        75        0.0     13  \n",
       "4  14.395        75        0.0      1  "
      ]
     },
     "execution_count": 12,
     "metadata": {},
     "output_type": "execute_result"
    }
   ],
   "source": [
    "df.head()"
=======
   "execution_count": 9,
   "metadata": {},
   "outputs": [],
   "source": [
    "import pandas as pd\n",
    "df = pd.read_csv('../../data/bikeshare.csv', index_col='datetime', parse_dates=True)"
>>>>>>> upstream/master
   ]
  },
  {
   "cell_type": "markdown",
   "metadata": {},
   "source": [
    "### Step 2: Transform Your Categorical Variables (If Necessary)"
   ]
  },
  {
   "cell_type": "code",
<<<<<<< HEAD
   "execution_count": 13,
   "metadata": {},
   "outputs": [
    {
     "data": {
      "text/plain": [
       "Clear Skies          7192\n",
       "Partly Cloudy        2834\n",
       "Light Storms/Rain     859\n",
       "Heavy Storms/Rain       1\n",
       "Name: weather, dtype: int64"
      ]
     },
     "execution_count": 13,
     "metadata": {},
     "output_type": "execute_result"
    }
   ],
   "source": [
    "df.weather.value_counts()"
   ]
  },
  {
   "cell_type": "code",
   "execution_count": 43,
=======
   "execution_count": 10,
>>>>>>> upstream/master
   "metadata": {},
   "outputs": [],
   "source": [
    "weather_map = {\n",
<<<<<<< HEAD
    "    'Clear Skies':       4,\n",
    "    'Partly Cloudy':     3,\n",
=======
    "    'Clear Skies': 4,\n",
    "    'Partly Cloudy': 3,\n",
>>>>>>> upstream/master
    "    'Light Storms/Rain': 2,\n",
    "    'Heavy Storms/Rain': 1\n",
    "}\n",
    "\n",
    "df.weather = df.weather.map(weather_map)"
   ]
<<<<<<< HEAD
=======
  },
  {
   "cell_type": "code",
   "execution_count": 19,
   "metadata": {},
   "outputs": [],
   "source": [
    "from sklearn.preprocessing import StandardScaler\n",
    "scaler = StandardScaler()\n",
    "cols_to_use = df.columns != 'count'\n",
    "X = df.loc[:, cols_to_use]\n",
    "y = df['count']"
   ]
  },
  {
   "cell_type": "code",
   "execution_count": 20,
   "metadata": {},
   "outputs": [],
   "source": [
    "X = pd.get_dummies(X)"
   ]
>>>>>>> upstream/master
  },
  {
   "cell_type": "markdown",
   "metadata": {},
   "source": [
    "### Step 3:  Extract Units of Time That You Feel Might Be Useful as New Columns\n",
    "\n",
    "You can find all of the necessary ones here:  https://pandas.pydata.org/pandas-docs/version/0.24/reference/series.html#time-series-related\n",
    "\n",
    "Or if you're using an index:  https://pandas.pydata.org/pandas-docs/version/0.23.4/generated/pandas.DatetimeIndex.html"
   ]
  },
  {
   "cell_type": "code",
<<<<<<< HEAD
   "execution_count": 16,
   "metadata": {},
   "outputs": [
    {
     "data": {
      "text/html": [
       "<div>\n",
       "<style scoped>\n",
       "    .dataframe tbody tr th:only-of-type {\n",
       "        vertical-align: middle;\n",
       "    }\n",
       "\n",
       "    .dataframe tbody tr th {\n",
       "        vertical-align: top;\n",
       "    }\n",
       "\n",
       "    .dataframe thead th {\n",
       "        text-align: right;\n",
       "    }\n",
       "</style>\n",
       "<table border=\"1\" class=\"dataframe\">\n",
       "  <thead>\n",
       "    <tr style=\"text-align: right;\">\n",
       "      <th></th>\n",
       "      <th>datetime</th>\n",
       "      <th>season</th>\n",
       "      <th>holiday</th>\n",
       "      <th>workingday</th>\n",
       "      <th>weather</th>\n",
       "      <th>temp</th>\n",
       "      <th>atemp</th>\n",
       "      <th>humidity</th>\n",
       "      <th>windspeed</th>\n",
       "      <th>count</th>\n",
       "    </tr>\n",
       "  </thead>\n",
       "  <tbody>\n",
       "    <tr>\n",
       "      <th>0</th>\n",
       "      <td>2011-01-01 00:00:00</td>\n",
       "      <td>Spring</td>\n",
       "      <td>0</td>\n",
       "      <td>0</td>\n",
       "      <td>4</td>\n",
       "      <td>9.84</td>\n",
       "      <td>14.395</td>\n",
       "      <td>81</td>\n",
       "      <td>0.0</td>\n",
       "      <td>16</td>\n",
       "    </tr>\n",
       "    <tr>\n",
       "      <th>1</th>\n",
       "      <td>2011-01-01 01:00:00</td>\n",
       "      <td>Spring</td>\n",
       "      <td>0</td>\n",
       "      <td>0</td>\n",
       "      <td>4</td>\n",
       "      <td>9.02</td>\n",
       "      <td>13.635</td>\n",
       "      <td>80</td>\n",
       "      <td>0.0</td>\n",
       "      <td>40</td>\n",
       "    </tr>\n",
       "    <tr>\n",
       "      <th>2</th>\n",
       "      <td>2011-01-01 02:00:00</td>\n",
       "      <td>Spring</td>\n",
       "      <td>0</td>\n",
       "      <td>0</td>\n",
       "      <td>4</td>\n",
       "      <td>9.02</td>\n",
       "      <td>13.635</td>\n",
       "      <td>80</td>\n",
       "      <td>0.0</td>\n",
       "      <td>32</td>\n",
       "    </tr>\n",
       "    <tr>\n",
       "      <th>3</th>\n",
       "      <td>2011-01-01 03:00:00</td>\n",
       "      <td>Spring</td>\n",
       "      <td>0</td>\n",
       "      <td>0</td>\n",
       "      <td>4</td>\n",
       "      <td>9.84</td>\n",
       "      <td>14.395</td>\n",
       "      <td>75</td>\n",
       "      <td>0.0</td>\n",
       "      <td>13</td>\n",
       "    </tr>\n",
       "    <tr>\n",
       "      <th>4</th>\n",
       "      <td>2011-01-01 04:00:00</td>\n",
       "      <td>Spring</td>\n",
       "      <td>0</td>\n",
       "      <td>0</td>\n",
       "      <td>4</td>\n",
       "      <td>9.84</td>\n",
       "      <td>14.395</td>\n",
       "      <td>75</td>\n",
       "      <td>0.0</td>\n",
       "      <td>1</td>\n",
       "    </tr>\n",
       "  </tbody>\n",
       "</table>\n",
       "</div>"
      ],
      "text/plain": [
       "              datetime  season  holiday  workingday  weather  temp   atemp  \\\n",
       "0  2011-01-01 00:00:00  Spring        0           0        4  9.84  14.395   \n",
       "1  2011-01-01 01:00:00  Spring        0           0        4  9.02  13.635   \n",
       "2  2011-01-01 02:00:00  Spring        0           0        4  9.02  13.635   \n",
       "3  2011-01-01 03:00:00  Spring        0           0        4  9.84  14.395   \n",
       "4  2011-01-01 04:00:00  Spring        0           0        4  9.84  14.395   \n",
       "\n",
       "   humidity  windspeed  count  \n",
       "0        81        0.0     16  \n",
       "1        80        0.0     40  \n",
       "2        80        0.0     32  \n",
       "3        75        0.0     13  \n",
       "4        75        0.0      1  "
      ]
     },
     "execution_count": 16,
     "metadata": {},
     "output_type": "execute_result"
    }
   ],
   "source": [
    "df.head()"
   ]
  },
  {
   "cell_type": "code",
   "execution_count": 44,
   "metadata": {},
   "outputs": [],
   "source": [
    "from datetime import datetime"
   ]
  },
  {
   "cell_type": "code",
   "execution_count": 45,
   "metadata": {},
   "outputs": [
    {
     "data": {
      "text/plain": [
       "datetime.datetime(2011, 1, 1, 0, 0)"
      ]
     },
     "execution_count": 45,
     "metadata": {},
     "output_type": "execute_result"
    }
   ],
   "source": [
    "datetime.strptime('2011-01-01 00:00:00','%Y-%m-%d %H:%M:%S')"
   ]
  },
  {
   "cell_type": "code",
   "execution_count": 46,
   "metadata": {},
   "outputs": [],
   "source": [
    "df['hour'] = pd.to_datetime(df['datetime'],format='%Y-%m-%d %H:%M:%S').dt.hour"
   ]
  },
  {
   "cell_type": "code",
   "execution_count": 49,
   "metadata": {},
   "outputs": [
    {
     "data": {
      "text/html": [
       "<div>\n",
       "<style scoped>\n",
       "    .dataframe tbody tr th:only-of-type {\n",
       "        vertical-align: middle;\n",
       "    }\n",
       "\n",
       "    .dataframe tbody tr th {\n",
       "        vertical-align: top;\n",
       "    }\n",
       "\n",
       "    .dataframe thead th {\n",
       "        text-align: right;\n",
       "    }\n",
       "</style>\n",
       "<table border=\"1\" class=\"dataframe\">\n",
       "  <thead>\n",
       "    <tr style=\"text-align: right;\">\n",
       "      <th></th>\n",
       "      <th>holiday</th>\n",
       "      <th>workingday</th>\n",
       "      <th>weather</th>\n",
       "      <th>temp</th>\n",
       "      <th>atemp</th>\n",
       "      <th>humidity</th>\n",
       "      <th>windspeed</th>\n",
       "      <th>count</th>\n",
       "      <th>hour</th>\n",
       "      <th>season_Spring</th>\n",
       "      <th>season_Summer</th>\n",
       "      <th>season_Winter</th>\n",
       "    </tr>\n",
       "  </thead>\n",
       "  <tbody>\n",
       "    <tr>\n",
       "      <th>0</th>\n",
       "      <td>0</td>\n",
       "      <td>0</td>\n",
       "      <td>4</td>\n",
       "      <td>9.84</td>\n",
       "      <td>14.395</td>\n",
       "      <td>81</td>\n",
       "      <td>0.0</td>\n",
       "      <td>16</td>\n",
       "      <td>0</td>\n",
       "      <td>1</td>\n",
       "      <td>0</td>\n",
       "      <td>0</td>\n",
       "    </tr>\n",
       "    <tr>\n",
       "      <th>1</th>\n",
       "      <td>0</td>\n",
       "      <td>0</td>\n",
       "      <td>4</td>\n",
       "      <td>9.02</td>\n",
       "      <td>13.635</td>\n",
       "      <td>80</td>\n",
       "      <td>0.0</td>\n",
       "      <td>40</td>\n",
       "      <td>1</td>\n",
       "      <td>1</td>\n",
       "      <td>0</td>\n",
       "      <td>0</td>\n",
       "    </tr>\n",
       "    <tr>\n",
       "      <th>2</th>\n",
       "      <td>0</td>\n",
       "      <td>0</td>\n",
       "      <td>4</td>\n",
       "      <td>9.02</td>\n",
       "      <td>13.635</td>\n",
       "      <td>80</td>\n",
       "      <td>0.0</td>\n",
       "      <td>32</td>\n",
       "      <td>2</td>\n",
       "      <td>1</td>\n",
       "      <td>0</td>\n",
       "      <td>0</td>\n",
       "    </tr>\n",
       "    <tr>\n",
       "      <th>3</th>\n",
       "      <td>0</td>\n",
       "      <td>0</td>\n",
       "      <td>4</td>\n",
       "      <td>9.84</td>\n",
       "      <td>14.395</td>\n",
       "      <td>75</td>\n",
       "      <td>0.0</td>\n",
       "      <td>13</td>\n",
       "      <td>3</td>\n",
       "      <td>1</td>\n",
       "      <td>0</td>\n",
       "      <td>0</td>\n",
       "    </tr>\n",
       "    <tr>\n",
       "      <th>4</th>\n",
       "      <td>0</td>\n",
       "      <td>0</td>\n",
       "      <td>4</td>\n",
       "      <td>9.84</td>\n",
       "      <td>14.395</td>\n",
       "      <td>75</td>\n",
       "      <td>0.0</td>\n",
       "      <td>1</td>\n",
       "      <td>4</td>\n",
       "      <td>1</td>\n",
       "      <td>0</td>\n",
       "      <td>0</td>\n",
       "    </tr>\n",
       "  </tbody>\n",
       "</table>\n",
       "</div>"
      ],
      "text/plain": [
       "   holiday  workingday  weather  temp   atemp  humidity  windspeed  count  \\\n",
       "0        0           0        4  9.84  14.395        81        0.0     16   \n",
       "1        0           0        4  9.02  13.635        80        0.0     40   \n",
       "2        0           0        4  9.02  13.635        80        0.0     32   \n",
       "3        0           0        4  9.84  14.395        75        0.0     13   \n",
       "4        0           0        4  9.84  14.395        75        0.0      1   \n",
       "\n",
       "   hour  season_Spring  season_Summer  season_Winter  \n",
       "0     0              1              0              0  \n",
       "1     1              1              0              0  \n",
       "2     2              1              0              0  \n",
       "3     3              1              0              0  \n",
       "4     4              1              0              0  "
      ]
     },
     "execution_count": 49,
     "metadata": {},
     "output_type": "execute_result"
    }
   ],
   "source": [
    "df.head()"
=======
   "execution_count": 21,
   "metadata": {},
   "outputs": [],
   "source": [
    "X['hour'] = df.index.hour\n",
    "X['day']  = df.index.dayofweek"
>>>>>>> upstream/master
   ]
  },
  {
   "cell_type": "markdown",
   "metadata": {},
   "source": [
    "### Step 4: Re-Run Your Model With the New Info, and Grab the Metric of Your Choice:  R_squared, MAE, or MSE"
   ]
  },
  {
   "cell_type": "code",
<<<<<<< HEAD
   "execution_count": 39,
   "metadata": {},
   "outputs": [],
   "source": [
    "from sklearn.linear_model import LinearRegression\n",
    "lr = LinearRegression()"
   ]
  },
  {
   "cell_type": "code",
   "execution_count": 48,
   "metadata": {},
   "outputs": [],
   "source": [
    "df = pd.get_dummies(df.loc[:,df.columns!='datetime'], drop_first = True)"
   ]
  },
  {
   "cell_type": "code",
   "execution_count": 51,
   "metadata": {},
   "outputs": [],
   "source": [
    "feature_cols = ['weather', 'temp','humidity','windspeed', 'hour','season_Spring','season_Summer','season_Winter']\n",
    "X = df[feature_cols]\n",
    "y = df['count']"
   ]
  },
  {
   "cell_type": "code",
   "execution_count": 52,
   "metadata": {},
   "outputs": [
    {
     "data": {
      "text/plain": [
       "LinearRegression(copy_X=True, fit_intercept=True, n_jobs=None,\n",
       "         normalize=False)"
      ]
     },
     "execution_count": 52,
     "metadata": {},
     "output_type": "execute_result"
    }
   ],
   "source": [
    "lr.fit(X,y)"
   ]
  },
  {
   "cell_type": "code",
   "execution_count": 53,
   "metadata": {},
   "outputs": [
    {
     "data": {
      "text/plain": [
       "0.34363228355218434"
      ]
     },
     "execution_count": 53,
=======
   "execution_count": 28,
   "metadata": {},
   "outputs": [
    {
     "name": "stderr",
     "output_type": "stream",
     "text": [
      "C:\\Users\\Jonat\\Anaconda\\lib\\site-packages\\sklearn\\preprocessing\\data.py:625: DataConversionWarning: Data with input dtype uint8, int64, float64 were all converted to float64 by StandardScaler.\n",
      "  return self.partial_fit(X, y)\n",
      "C:\\Users\\Jonat\\Anaconda\\lib\\site-packages\\sklearn\\base.py:462: DataConversionWarning: Data with input dtype uint8, int64, float64 were all converted to float64 by StandardScaler.\n",
      "  return self.fit(X, **fit_params).transform(X)\n"
     ]
    },
    {
     "data": {
      "text/plain": [
       "0.3440566130725189"
      ]
     },
     "execution_count": 28,
>>>>>>> upstream/master
     "metadata": {},
     "output_type": "execute_result"
    }
   ],
   "source": [
<<<<<<< HEAD
    "lr.score(X,y)"
=======
    "from sklearn.linear_model import LinearRegression\n",
    "lreg = LinearRegression()\n",
    "X_std = scaler.fit_transform(X)\n",
    "lreg.fit(X_std, y)\n",
    "lreg.score(X_std, y)"
>>>>>>> upstream/master
   ]
  },
  {
   "cell_type": "markdown",
   "metadata": {},
   "source": [
    "### (Bonus):  Create A New Column Called 'Daytime' That Returns 0 or 1 Depending on If It's Between 7 A.M. or 8 P.M. When The Ride Happens"
   ]
  },
  {
   "cell_type": "code",
   "execution_count": 30,
   "metadata": {},
   "outputs": [],
   "source": [
    "import numpy as np\n",
    "mask = (X['hour'] >= 7) & (X['hour'] <=8)\n",
    "X['daytime'] = np.where(mask, 1, 0)"
   ]
  },
  {
   "cell_type": "markdown",
   "metadata": {},
   "source": [
    "### Check To See If Your Model Improved"
   ]
  },
  {
   "cell_type": "code",
   "execution_count": 32,
   "metadata": {},
   "outputs": [
    {
     "data": {
      "text/plain": [
       "0.4233738193369713"
      ]
     },
     "execution_count": 32,
     "metadata": {},
     "output_type": "execute_result"
    }
   ],
   "source": [
    "lreg.fit(X, y)\n",
    "lreg.score(X, y)"
   ]
  },
  {
   "cell_type": "markdown",
   "metadata": {},
   "source": [
    "### (Bonus):  Analyze Your Residuals"
   ]
  },
  {
   "cell_type": "markdown",
   "metadata": {},
   "source": [
    "##### 1).  Pull A Histogram"
   ]
  },
  {
   "cell_type": "code",
   "execution_count": 34,
   "metadata": {},
   "outputs": [
    {
     "data": {
      "text/plain": [
       "<matplotlib.axes._subplots.AxesSubplot at 0x1a210d59390>"
      ]
     },
     "execution_count": 34,
     "metadata": {},
     "output_type": "execute_result"
    },
    {
     "data": {
      "image/png": "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\n",
      "text/plain": [
       "<Figure size 432x288 with 1 Axes>"
      ]
     },
     "metadata": {
      "needs_background": "light"
     },
     "output_type": "display_data"
    }
   ],
   "source": [
    "%matplotlib inline\n",
    "df['prediction'] = lreg.predict(X)\n",
    "df['residual'] = df['count'] - df['prediction']\n",
    "df['prediction'].hist()"
   ]
  },
  {
   "cell_type": "markdown",
   "metadata": {},
   "source": [
    "##### 2). Evaluate the Mean and Standard Deviation of Your Residuals"
   ]
  },
  {
   "cell_type": "code",
   "execution_count": 36,
   "metadata": {},
   "outputs": [
    {
     "data": {
      "text/plain": [
       "count    1.088600e+04\n",
       "mean    -8.682119e-14\n",
       "std      1.375537e+02\n",
       "min     -3.789210e+02\n",
       "25%     -8.684765e+01\n",
       "50%     -2.052495e+01\n",
       "75%      6.013750e+01\n",
       "max      6.710210e+02\n",
       "Name: residual, dtype: float64"
      ]
     },
     "execution_count": 36,
     "metadata": {},
     "output_type": "execute_result"
    }
   ],
   "source": [
    "df['residual'].describe()"
   ]
  },
  {
   "cell_type": "markdown",
   "metadata": {},
   "source": [
    "##### 3).  Use Seaborn's lmplot to Your Errors Against the Predicted Value:  Is There An Inherent Pattern?"
   ]
  },
  {
   "cell_type": "code",
   "execution_count": 39,
   "metadata": {},
   "outputs": [
    {
     "data": {
      "text/plain": [
       "<seaborn.axisgrid.FacetGrid at 0x1a2115053c8>"
      ]
     },
     "execution_count": 39,
     "metadata": {},
     "output_type": "execute_result"
    },
    {
     "data": {
      "image/png": "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\n",
      "text/plain": [
       "<Figure size 360x360 with 1 Axes>"
      ]
     },
     "metadata": {
      "needs_background": "light"
     },
     "output_type": "display_data"
    }
   ],
   "source": [
    "import seaborn as sns\n",
    "sns.lmplot('prediction', 'residual', data=df)"
   ]
  },
  {
   "cell_type": "code",
   "execution_count": null,
   "metadata": {},
   "outputs": [],
   "source": []
  }
 ],
 "metadata": {
  "kernelspec": {
   "display_name": "Python 3",
   "language": "python",
   "name": "python3"
  },
  "language_info": {
   "codemirror_mode": {
    "name": "ipython",
    "version": 3
   },
   "file_extension": ".py",
   "mimetype": "text/x-python",
   "name": "python",
   "nbconvert_exporter": "python",
   "pygments_lexer": "ipython3",
   "version": "3.7.3"
  }
 },
 "nbformat": 4,
 "nbformat_minor": 2
}
