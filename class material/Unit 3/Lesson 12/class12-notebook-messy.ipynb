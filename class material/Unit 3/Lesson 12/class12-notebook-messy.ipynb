{
 "cells": [
  {
   "cell_type": "code",
   "execution_count": 111,
   "metadata": {},
   "outputs": [],
   "source": [
    "import pandas as pd\n",
    "import numpy as np\n",
    "from sklearn.linear_model import LinearRegression\n",
    "\n",
    "df = pd.read_csv('../data/bikeshare.csv', index_col='datetime', parse_dates=True)"
   ]
  },
  {
   "cell_type": "code",
   "execution_count": 114,
   "metadata": {
    "scrolled": true
   },
   "outputs": [
    {
     "data": {
      "text/plain": [
       "DatetimeIndex(['2011-01-01 00:00:00', '2011-01-01 01:00:00',\n",
       "               '2011-01-01 02:00:00', '2011-01-01 03:00:00',\n",
       "               '2011-01-01 04:00:00', '2011-01-01 05:00:00',\n",
       "               '2011-01-01 06:00:00', '2011-01-01 07:00:00',\n",
       "               '2011-01-01 08:00:00', '2011-01-01 09:00:00',\n",
       "               ...\n",
       "               '2012-12-19 14:00:00', '2012-12-19 15:00:00',\n",
       "               '2012-12-19 16:00:00', '2012-12-19 17:00:00',\n",
       "               '2012-12-19 18:00:00', '2012-12-19 19:00:00',\n",
       "               '2012-12-19 20:00:00', '2012-12-19 21:00:00',\n",
       "               '2012-12-19 22:00:00', '2012-12-19 23:00:00'],\n",
       "              dtype='datetime64[ns]', name='datetime', length=10886, freq=None)"
      ]
     },
     "execution_count": 114,
     "metadata": {},
     "output_type": "execute_result"
    }
   ],
   "source": [
    "df.index"
   ]
  },
  {
   "cell_type": "code",
   "execution_count": 56,
   "metadata": {},
   "outputs": [
    {
     "data": {
      "text/plain": [
       "datetime\n",
       "2011-01-01 00:00:00     16\n",
       "2011-01-01 01:00:00     40\n",
       "2011-01-01 02:00:00     32\n",
       "2011-01-01 03:00:00     13\n",
       "2011-01-01 04:00:00      1\n",
       "2011-01-01 05:00:00      1\n",
       "2011-01-01 06:00:00      2\n",
       "2011-01-01 07:00:00      3\n",
       "2011-01-01 08:00:00      8\n",
       "2011-01-01 09:00:00     14\n",
       "2011-01-01 10:00:00     36\n",
       "2011-01-01 11:00:00     56\n",
       "2011-01-01 12:00:00     84\n",
       "2011-01-01 13:00:00     94\n",
       "2011-01-01 14:00:00    106\n",
       "2011-01-01 15:00:00    110\n",
       "2011-01-01 16:00:00     93\n",
       "2011-01-01 17:00:00     67\n",
       "2011-01-01 18:00:00     35\n",
       "2011-01-01 19:00:00     37\n",
       "2011-01-01 20:00:00     36\n",
       "2011-01-01 21:00:00     34\n",
       "2011-01-01 22:00:00     28\n",
       "2011-01-01 23:00:00     39\n",
       "2011-01-02 00:00:00     17\n",
       "2011-01-02 01:00:00     17\n",
       "2011-01-02 02:00:00      9\n",
       "2011-01-02 03:00:00      6\n",
       "2011-01-02 04:00:00      3\n",
       "2011-01-02 06:00:00      2\n",
       "                      ... \n",
       "2012-12-18 18:00:00    525\n",
       "2012-12-18 19:00:00    353\n",
       "2012-12-18 20:00:00    268\n",
       "2012-12-18 21:00:00    168\n",
       "2012-12-18 22:00:00    132\n",
       "2012-12-18 23:00:00     81\n",
       "2012-12-19 00:00:00     41\n",
       "2012-12-19 01:00:00     15\n",
       "2012-12-19 02:00:00      3\n",
       "2012-12-19 03:00:00      5\n",
       "2012-12-19 04:00:00      7\n",
       "2012-12-19 05:00:00     31\n",
       "2012-12-19 06:00:00    112\n",
       "2012-12-19 07:00:00    363\n",
       "2012-12-19 08:00:00    678\n",
       "2012-12-19 09:00:00    317\n",
       "2012-12-19 10:00:00    164\n",
       "2012-12-19 11:00:00    200\n",
       "2012-12-19 12:00:00    236\n",
       "2012-12-19 13:00:00    213\n",
       "2012-12-19 14:00:00    218\n",
       "2012-12-19 15:00:00    237\n",
       "2012-12-19 16:00:00    334\n",
       "2012-12-19 17:00:00    562\n",
       "2012-12-19 18:00:00    569\n",
       "2012-12-19 19:00:00    336\n",
       "2012-12-19 20:00:00    241\n",
       "2012-12-19 21:00:00    168\n",
       "2012-12-19 22:00:00    129\n",
       "2012-12-19 23:00:00     88\n",
       "Name: count, Length: 10886, dtype: int64"
      ]
     },
     "execution_count": 56,
     "metadata": {},
     "output_type": "execute_result"
    }
   ],
   "source": [
    "df['count']"
   ]
  },
  {
   "cell_type": "code",
   "execution_count": 43,
   "metadata": {},
   "outputs": [
    {
     "name": "stderr",
     "output_type": "stream",
     "text": [
      "C:\\Users\\Jonat\\Anaconda\\lib\\site-packages\\pandas\\core\\frame.py:3140: SettingWithCopyWarning: \n",
      "A value is trying to be set on a copy of a slice from a DataFrame.\n",
      "Try using .loc[row_indexer,col_indexer] = value instead\n",
      "\n",
      "See the caveats in the documentation: http://pandas.pydata.org/pandas-docs/stable/indexing.html#indexing-view-versus-copy\n",
      "  self[k1] = value[k2]\n"
     ]
    }
   ],
   "source": [
    "X = df.loc[:, df.columns != 'count']\n",
    "y = df['count']\n",
    "\n",
    "weather_map = {\n",
    "    'Clear Skies':       4,\n",
    "    'Partly Cloudy':     3,\n",
    "    'Light Storms/Rain': 2,\n",
    "    'Heavy Storms/Rain': 1\n",
    "}\n",
    "\n",
    "X.weather = X.weather.map(weather_map)\n",
    "\n",
    "num_cols = X.select_dtypes(include=np.number).columns.tolist()\n",
    "X[num_cols] = (X[num_cols] - X[num_cols].mean()) / X[num_cols].std()"
   ]
  },
  {
   "cell_type": "code",
   "execution_count": 46,
   "metadata": {},
   "outputs": [],
   "source": [
    "X = pd.get_dummies(X, drop_first=True)"
   ]
  },
  {
   "cell_type": "code",
   "execution_count": 47,
   "metadata": {},
   "outputs": [
    {
     "data": {
      "text/html": [
       "<div>\n",
       "<style scoped>\n",
       "    .dataframe tbody tr th:only-of-type {\n",
       "        vertical-align: middle;\n",
       "    }\n",
       "\n",
       "    .dataframe tbody tr th {\n",
       "        vertical-align: top;\n",
       "    }\n",
       "\n",
       "    .dataframe thead th {\n",
       "        text-align: right;\n",
       "    }\n",
       "</style>\n",
       "<table border=\"1\" class=\"dataframe\">\n",
       "  <thead>\n",
       "    <tr style=\"text-align: right;\">\n",
       "      <th></th>\n",
       "      <th>holiday</th>\n",
       "      <th>workingday</th>\n",
       "      <th>weather</th>\n",
       "      <th>temp</th>\n",
       "      <th>atemp</th>\n",
       "      <th>humidity</th>\n",
       "      <th>windspeed</th>\n",
       "      <th>season_Spring</th>\n",
       "      <th>season_Summer</th>\n",
       "      <th>season_Winter</th>\n",
       "    </tr>\n",
       "    <tr>\n",
       "      <th>datetime</th>\n",
       "      <th></th>\n",
       "      <th></th>\n",
       "      <th></th>\n",
       "      <th></th>\n",
       "      <th></th>\n",
       "      <th></th>\n",
       "      <th></th>\n",
       "      <th></th>\n",
       "      <th></th>\n",
       "      <th></th>\n",
       "    </tr>\n",
       "  </thead>\n",
       "  <tbody>\n",
       "    <tr>\n",
       "      <th>2011-01-01 00:00:00</th>\n",
       "      <td>-0.171483</td>\n",
       "      <td>-1.460605</td>\n",
       "      <td>0.660148</td>\n",
       "      <td>-1.333599</td>\n",
       "      <td>-1.092687</td>\n",
       "      <td>0.993167</td>\n",
       "      <td>-1.567682</td>\n",
       "      <td>1</td>\n",
       "      <td>0</td>\n",
       "      <td>0</td>\n",
       "    </tr>\n",
       "    <tr>\n",
       "      <th>2011-01-01 01:00:00</th>\n",
       "      <td>-0.171483</td>\n",
       "      <td>-1.460605</td>\n",
       "      <td>0.660148</td>\n",
       "      <td>-1.438841</td>\n",
       "      <td>-1.182367</td>\n",
       "      <td>0.941206</td>\n",
       "      <td>-1.567682</td>\n",
       "      <td>1</td>\n",
       "      <td>0</td>\n",
       "      <td>0</td>\n",
       "    </tr>\n",
       "    <tr>\n",
       "      <th>2011-01-01 02:00:00</th>\n",
       "      <td>-0.171483</td>\n",
       "      <td>-1.460605</td>\n",
       "      <td>0.660148</td>\n",
       "      <td>-1.438841</td>\n",
       "      <td>-1.182367</td>\n",
       "      <td>0.941206</td>\n",
       "      <td>-1.567682</td>\n",
       "      <td>1</td>\n",
       "      <td>0</td>\n",
       "      <td>0</td>\n",
       "    </tr>\n",
       "    <tr>\n",
       "      <th>2011-01-01 03:00:00</th>\n",
       "      <td>-0.171483</td>\n",
       "      <td>-1.460605</td>\n",
       "      <td>0.660148</td>\n",
       "      <td>-1.333599</td>\n",
       "      <td>-1.092687</td>\n",
       "      <td>0.681399</td>\n",
       "      <td>-1.567682</td>\n",
       "      <td>1</td>\n",
       "      <td>0</td>\n",
       "      <td>0</td>\n",
       "    </tr>\n",
       "    <tr>\n",
       "      <th>2011-01-01 04:00:00</th>\n",
       "      <td>-0.171483</td>\n",
       "      <td>-1.460605</td>\n",
       "      <td>0.660148</td>\n",
       "      <td>-1.333599</td>\n",
       "      <td>-1.092687</td>\n",
       "      <td>0.681399</td>\n",
       "      <td>-1.567682</td>\n",
       "      <td>1</td>\n",
       "      <td>0</td>\n",
       "      <td>0</td>\n",
       "    </tr>\n",
       "  </tbody>\n",
       "</table>\n",
       "</div>"
      ],
      "text/plain": [
       "                      holiday  workingday   weather      temp     atemp  \\\n",
       "datetime                                                                  \n",
       "2011-01-01 00:00:00 -0.171483   -1.460605  0.660148 -1.333599 -1.092687   \n",
       "2011-01-01 01:00:00 -0.171483   -1.460605  0.660148 -1.438841 -1.182367   \n",
       "2011-01-01 02:00:00 -0.171483   -1.460605  0.660148 -1.438841 -1.182367   \n",
       "2011-01-01 03:00:00 -0.171483   -1.460605  0.660148 -1.333599 -1.092687   \n",
       "2011-01-01 04:00:00 -0.171483   -1.460605  0.660148 -1.333599 -1.092687   \n",
       "\n",
       "                     humidity  windspeed  season_Spring  season_Summer  \\\n",
       "datetime                                                                 \n",
       "2011-01-01 00:00:00  0.993167  -1.567682              1              0   \n",
       "2011-01-01 01:00:00  0.941206  -1.567682              1              0   \n",
       "2011-01-01 02:00:00  0.941206  -1.567682              1              0   \n",
       "2011-01-01 03:00:00  0.681399  -1.567682              1              0   \n",
       "2011-01-01 04:00:00  0.681399  -1.567682              1              0   \n",
       "\n",
       "                     season_Winter  \n",
       "datetime                            \n",
       "2011-01-01 00:00:00              0  \n",
       "2011-01-01 01:00:00              0  \n",
       "2011-01-01 02:00:00              0  \n",
       "2011-01-01 03:00:00              0  \n",
       "2011-01-01 04:00:00              0  "
      ]
     },
     "execution_count": 47,
     "metadata": {},
     "output_type": "execute_result"
    }
   ],
   "source": [
    "X.head()"
   ]
  },
  {
   "cell_type": "code",
   "execution_count": 58,
   "metadata": {},
   "outputs": [
    {
     "data": {
      "text/plain": [
       "0.2752503232099429"
      ]
     },
     "execution_count": 58,
     "metadata": {},
     "output_type": "execute_result"
    }
   ],
   "source": [
    "lreg.fit(X, y)\n",
    "lreg.score(X, y)"
   ]
  },
  {
   "cell_type": "code",
   "execution_count": 59,
   "metadata": {},
   "outputs": [
    {
     "data": {
      "text/plain": [
       "array([ -1.43782677,  -1.33393753,  -1.68074593,  62.03831631,\n",
       "        24.65228382, -54.25768584,   4.42002657,  37.77071609,\n",
       "        34.97948629, 102.97920297])"
      ]
     },
     "execution_count": 59,
     "metadata": {},
     "output_type": "execute_result"
    }
   ],
   "source": [
    "lreg.coef_"
   ]
  },
  {
   "cell_type": "code",
   "execution_count": 50,
   "metadata": {},
   "outputs": [
    {
     "data": {
      "text/plain": [
       "0.24307517355292274"
      ]
     },
     "execution_count": 50,
     "metadata": {},
     "output_type": "execute_result"
    }
   ],
   "source": [
    "X2 = X[['weather', 'temp', 'atemp', 'humidity']]\n",
    "lreg.fit(X2, y)\n",
    "lreg.score(X2, y)"
   ]
  },
  {
   "cell_type": "markdown",
   "metadata": {},
   "source": [
    "### Option 1"
   ]
  },
  {
   "cell_type": "code",
   "execution_count": 33,
   "metadata": {
    "scrolled": true
   },
   "outputs": [
    {
     "data": {
      "text/plain": [
       "Index(['workingday', 'temp', 'atemp', 'humidity', 'windspeed'], dtype='object')"
      ]
     },
     "execution_count": 33,
     "metadata": {},
     "output_type": "execute_result"
    }
   ],
   "source": [
    "X.columns"
   ]
  },
  {
   "cell_type": "code",
   "execution_count": 53,
   "metadata": {},
   "outputs": [
    {
     "name": "stdout",
     "output_type": "stream",
     "text": [
      "                            OLS Regression Results                            \n",
      "==============================================================================\n",
      "Dep. Variable:                  count   R-squared:                       0.618\n",
      "Model:                            OLS   Adj. R-squared:                  0.617\n",
      "Method:                 Least Squares   F-statistic:                     1756.\n",
      "Date:                Wed, 31 Jul 2019   Prob (F-statistic):               0.00\n",
      "Time:                        19:34:58   Log-Likelihood:                -70900.\n",
      "No. Observations:               10886   AIC:                         1.418e+05\n",
      "Df Residuals:                   10876   BIC:                         1.419e+05\n",
      "Df Model:                          10                                         \n",
      "Covariance Type:            nonrobust                                         \n",
      "=================================================================================\n",
      "                    coef    std err          t      P>|t|      [0.025      0.975]\n",
      "---------------------------------------------------------------------------------\n",
      "holiday          -1.1097      1.618     -0.686      0.493      -4.280       2.061\n",
      "workingday       -3.2006      1.618     -1.978      0.048      -6.373      -0.028\n",
      "weather           3.6677      1.738      2.110      0.035       0.261       7.075\n",
      "temp            171.3369      9.402     18.224      0.000     152.907     189.766\n",
      "atemp           -23.8145      9.380     -2.539      0.011     -42.200      -5.429\n",
      "humidity        -41.4575      1.867    -22.205      0.000     -45.117     -37.798\n",
      "windspeed        -0.4762      1.709     -0.279      0.781      -3.827       2.874\n",
      "season_Spring   250.0825      3.745     66.779      0.000     242.742     257.423\n",
      "season_Summer   164.4902      3.199     51.413      0.000     158.219     170.762\n",
      "season_Winter   277.0593      3.258     85.043      0.000     270.673     283.445\n",
      "==============================================================================\n",
      "Omnibus:                     1790.724   Durbin-Watson:                   0.397\n",
      "Prob(Omnibus):                  0.000   Jarque-Bera (JB):             3355.760\n",
      "Skew:                           1.030   Prob(JB):                         0.00\n",
      "Kurtosis:                       4.775   Cond. No.                         12.2\n",
      "==============================================================================\n",
      "\n",
      "Warnings:\n",
      "[1] Standard Errors assume that the covariance matrix of the errors is correctly specified.\n"
     ]
    }
   ],
   "source": [
    "import statsmodels.api as sm\n",
    "\n",
    "mod = sm.OLS(y, X)\n",
    "results = mod.fit()\n",
    "print(results.summary())"
   ]
  },
  {
   "cell_type": "code",
   "execution_count": 57,
   "metadata": {},
   "outputs": [
    {
     "data": {
      "text/plain": [
       "array([ -2.91057674,  23.16714273,  45.5475192 , -55.18486553])"
      ]
     },
     "execution_count": 57,
     "metadata": {},
     "output_type": "execute_result"
    }
   ],
   "source": [
    "lreg.coef_"
   ]
  },
  {
   "cell_type": "code",
   "execution_count": 63,
   "metadata": {},
   "outputs": [],
   "source": [
    "prices = pd.read_csv('../data/sac_re_cat.csv')"
   ]
  },
  {
   "cell_type": "code",
   "execution_count": 66,
   "metadata": {},
   "outputs": [],
   "source": [
    "prices = prices.set_index('sale_date')"
   ]
  },
  {
   "cell_type": "code",
   "execution_count": 67,
   "metadata": {},
   "outputs": [
    {
     "data": {
      "text/html": [
       "<div>\n",
       "<style scoped>\n",
       "    .dataframe tbody tr th:only-of-type {\n",
       "        vertical-align: middle;\n",
       "    }\n",
       "\n",
       "    .dataframe tbody tr th {\n",
       "        vertical-align: top;\n",
       "    }\n",
       "\n",
       "    .dataframe thead th {\n",
       "        text-align: right;\n",
       "    }\n",
       "</style>\n",
       "<table border=\"1\" class=\"dataframe\">\n",
       "  <thead>\n",
       "    <tr style=\"text-align: right;\">\n",
       "      <th></th>\n",
       "      <th>street</th>\n",
       "      <th>city</th>\n",
       "      <th>zip</th>\n",
       "      <th>state</th>\n",
       "      <th>beds</th>\n",
       "      <th>baths</th>\n",
       "      <th>sq__ft</th>\n",
       "      <th>type</th>\n",
       "      <th>price</th>\n",
       "    </tr>\n",
       "    <tr>\n",
       "      <th>sale_date</th>\n",
       "      <th></th>\n",
       "      <th></th>\n",
       "      <th></th>\n",
       "      <th></th>\n",
       "      <th></th>\n",
       "      <th></th>\n",
       "      <th></th>\n",
       "      <th></th>\n",
       "      <th></th>\n",
       "    </tr>\n",
       "  </thead>\n",
       "  <tbody>\n",
       "    <tr>\n",
       "      <th>Wed May 21 00:00:00 EDT 2008</th>\n",
       "      <td>3526 HIGH ST</td>\n",
       "      <td>SACRAMENTO</td>\n",
       "      <td>95838</td>\n",
       "      <td>CA</td>\n",
       "      <td>2</td>\n",
       "      <td>1</td>\n",
       "      <td>836</td>\n",
       "      <td>Residential</td>\n",
       "      <td>59222</td>\n",
       "    </tr>\n",
       "    <tr>\n",
       "      <th>Wed May 21 00:00:00 EDT 2008</th>\n",
       "      <td>51 OMAHA CT</td>\n",
       "      <td>SACRAMENTO</td>\n",
       "      <td>95823</td>\n",
       "      <td>CA</td>\n",
       "      <td>3</td>\n",
       "      <td>1</td>\n",
       "      <td>1167</td>\n",
       "      <td>Residential</td>\n",
       "      <td>68212</td>\n",
       "    </tr>\n",
       "    <tr>\n",
       "      <th>Wed May 21 00:00:00 EDT 2008</th>\n",
       "      <td>2796 BRANCH ST</td>\n",
       "      <td>SACRAMENTO</td>\n",
       "      <td>95815</td>\n",
       "      <td>CA</td>\n",
       "      <td>2</td>\n",
       "      <td>1</td>\n",
       "      <td>796</td>\n",
       "      <td>Residential</td>\n",
       "      <td>68880</td>\n",
       "    </tr>\n",
       "    <tr>\n",
       "      <th>Wed May 21 00:00:00 EDT 2008</th>\n",
       "      <td>2805 JANETTE WAY</td>\n",
       "      <td>SACRAMENTO</td>\n",
       "      <td>95815</td>\n",
       "      <td>CA</td>\n",
       "      <td>2</td>\n",
       "      <td>1</td>\n",
       "      <td>852</td>\n",
       "      <td>Residential</td>\n",
       "      <td>69307</td>\n",
       "    </tr>\n",
       "    <tr>\n",
       "      <th>Wed May 21 00:00:00 EDT 2008</th>\n",
       "      <td>6001 MCMAHON DR</td>\n",
       "      <td>SACRAMENTO</td>\n",
       "      <td>95824</td>\n",
       "      <td>CA</td>\n",
       "      <td>2</td>\n",
       "      <td>1</td>\n",
       "      <td>797</td>\n",
       "      <td>Residential</td>\n",
       "      <td>81900</td>\n",
       "    </tr>\n",
       "  </tbody>\n",
       "</table>\n",
       "</div>"
      ],
      "text/plain": [
       "                                        street        city    zip state  beds  \\\n",
       "sale_date                                                                       \n",
       "Wed May 21 00:00:00 EDT 2008      3526 HIGH ST  SACRAMENTO  95838    CA     2   \n",
       "Wed May 21 00:00:00 EDT 2008       51 OMAHA CT  SACRAMENTO  95823    CA     3   \n",
       "Wed May 21 00:00:00 EDT 2008    2796 BRANCH ST  SACRAMENTO  95815    CA     2   \n",
       "Wed May 21 00:00:00 EDT 2008  2805 JANETTE WAY  SACRAMENTO  95815    CA     2   \n",
       "Wed May 21 00:00:00 EDT 2008   6001 MCMAHON DR  SACRAMENTO  95824    CA     2   \n",
       "\n",
       "                              baths  sq__ft         type  price  \n",
       "sale_date                                                        \n",
       "Wed May 21 00:00:00 EDT 2008      1     836  Residential  59222  \n",
       "Wed May 21 00:00:00 EDT 2008      1    1167  Residential  68212  \n",
       "Wed May 21 00:00:00 EDT 2008      1     796  Residential  68880  \n",
       "Wed May 21 00:00:00 EDT 2008      1     852  Residential  69307  \n",
       "Wed May 21 00:00:00 EDT 2008      1     797  Residential  81900  "
      ]
     },
     "execution_count": 67,
     "metadata": {},
     "output_type": "execute_result"
    }
   ],
   "source": [
    "prices.head()"
   ]
  },
  {
   "cell_type": "code",
   "execution_count": 70,
   "metadata": {},
   "outputs": [],
   "source": [
    "prices.zip = prices.zip.astype('category')"
   ]
  },
  {
   "cell_type": "code",
   "execution_count": 76,
   "metadata": {},
   "outputs": [],
   "source": [
    "transformed = prices.groupby('zip').zip.transform('count')"
   ]
  },
  {
   "cell_type": "code",
   "execution_count": 78,
   "metadata": {},
   "outputs": [],
   "source": [
    "prices['zip'] = np.where(transformed < 25, 'Other', prices['zip'])"
   ]
  },
  {
   "cell_type": "code",
   "execution_count": 79,
   "metadata": {},
   "outputs": [
    {
     "data": {
      "text/plain": [
       "Other    558\n",
       "95648     72\n",
       "95823     61\n",
       "95828     45\n",
       "95758     44\n",
       "95835     37\n",
       "95838     37\n",
       "95757     36\n",
       "95624     34\n",
       "95843     33\n",
       "95621     28\n",
       "Name: zip, dtype: int64"
      ]
     },
     "execution_count": 79,
     "metadata": {},
     "output_type": "execute_result"
    }
   ],
   "source": [
    "prices['zip'].value_counts()"
   ]
  },
  {
   "cell_type": "code",
   "execution_count": 80,
   "metadata": {},
   "outputs": [
    {
     "data": {
      "text/plain": [
       "Index(['street', 'city', 'zip', 'state', 'beds', 'baths', 'sq__ft', 'type',\n",
       "       'price'],\n",
       "      dtype='object')"
      ]
     },
     "execution_count": 80,
     "metadata": {},
     "output_type": "execute_result"
    }
   ],
   "source": [
    "prices.columns"
   ]
  },
  {
   "cell_type": "code",
   "execution_count": 81,
   "metadata": {},
   "outputs": [
    {
     "data": {
      "text/html": [
       "<div>\n",
       "<style scoped>\n",
       "    .dataframe tbody tr th:only-of-type {\n",
       "        vertical-align: middle;\n",
       "    }\n",
       "\n",
       "    .dataframe tbody tr th {\n",
       "        vertical-align: top;\n",
       "    }\n",
       "\n",
       "    .dataframe thead th {\n",
       "        text-align: right;\n",
       "    }\n",
       "</style>\n",
       "<table border=\"1\" class=\"dataframe\">\n",
       "  <thead>\n",
       "    <tr style=\"text-align: right;\">\n",
       "      <th></th>\n",
       "      <th>street</th>\n",
       "      <th>city</th>\n",
       "      <th>zip</th>\n",
       "      <th>state</th>\n",
       "      <th>beds</th>\n",
       "      <th>baths</th>\n",
       "      <th>sq__ft</th>\n",
       "      <th>type</th>\n",
       "      <th>price</th>\n",
       "    </tr>\n",
       "    <tr>\n",
       "      <th>sale_date</th>\n",
       "      <th></th>\n",
       "      <th></th>\n",
       "      <th></th>\n",
       "      <th></th>\n",
       "      <th></th>\n",
       "      <th></th>\n",
       "      <th></th>\n",
       "      <th></th>\n",
       "      <th></th>\n",
       "    </tr>\n",
       "  </thead>\n",
       "  <tbody>\n",
       "    <tr>\n",
       "      <th>Wed May 21 00:00:00 EDT 2008</th>\n",
       "      <td>3526 HIGH ST</td>\n",
       "      <td>SACRAMENTO</td>\n",
       "      <td>95838</td>\n",
       "      <td>CA</td>\n",
       "      <td>2</td>\n",
       "      <td>1</td>\n",
       "      <td>836</td>\n",
       "      <td>Residential</td>\n",
       "      <td>59222</td>\n",
       "    </tr>\n",
       "    <tr>\n",
       "      <th>Wed May 21 00:00:00 EDT 2008</th>\n",
       "      <td>51 OMAHA CT</td>\n",
       "      <td>SACRAMENTO</td>\n",
       "      <td>95823</td>\n",
       "      <td>CA</td>\n",
       "      <td>3</td>\n",
       "      <td>1</td>\n",
       "      <td>1167</td>\n",
       "      <td>Residential</td>\n",
       "      <td>68212</td>\n",
       "    </tr>\n",
       "    <tr>\n",
       "      <th>Wed May 21 00:00:00 EDT 2008</th>\n",
       "      <td>2796 BRANCH ST</td>\n",
       "      <td>SACRAMENTO</td>\n",
       "      <td>Other</td>\n",
       "      <td>CA</td>\n",
       "      <td>2</td>\n",
       "      <td>1</td>\n",
       "      <td>796</td>\n",
       "      <td>Residential</td>\n",
       "      <td>68880</td>\n",
       "    </tr>\n",
       "    <tr>\n",
       "      <th>Wed May 21 00:00:00 EDT 2008</th>\n",
       "      <td>2805 JANETTE WAY</td>\n",
       "      <td>SACRAMENTO</td>\n",
       "      <td>Other</td>\n",
       "      <td>CA</td>\n",
       "      <td>2</td>\n",
       "      <td>1</td>\n",
       "      <td>852</td>\n",
       "      <td>Residential</td>\n",
       "      <td>69307</td>\n",
       "    </tr>\n",
       "    <tr>\n",
       "      <th>Wed May 21 00:00:00 EDT 2008</th>\n",
       "      <td>6001 MCMAHON DR</td>\n",
       "      <td>SACRAMENTO</td>\n",
       "      <td>Other</td>\n",
       "      <td>CA</td>\n",
       "      <td>2</td>\n",
       "      <td>1</td>\n",
       "      <td>797</td>\n",
       "      <td>Residential</td>\n",
       "      <td>81900</td>\n",
       "    </tr>\n",
       "  </tbody>\n",
       "</table>\n",
       "</div>"
      ],
      "text/plain": [
       "                                        street        city    zip state  beds  \\\n",
       "sale_date                                                                       \n",
       "Wed May 21 00:00:00 EDT 2008      3526 HIGH ST  SACRAMENTO  95838    CA     2   \n",
       "Wed May 21 00:00:00 EDT 2008       51 OMAHA CT  SACRAMENTO  95823    CA     3   \n",
       "Wed May 21 00:00:00 EDT 2008    2796 BRANCH ST  SACRAMENTO  Other    CA     2   \n",
       "Wed May 21 00:00:00 EDT 2008  2805 JANETTE WAY  SACRAMENTO  Other    CA     2   \n",
       "Wed May 21 00:00:00 EDT 2008   6001 MCMAHON DR  SACRAMENTO  Other    CA     2   \n",
       "\n",
       "                              baths  sq__ft         type  price  \n",
       "sale_date                                                        \n",
       "Wed May 21 00:00:00 EDT 2008      1     836  Residential  59222  \n",
       "Wed May 21 00:00:00 EDT 2008      1    1167  Residential  68212  \n",
       "Wed May 21 00:00:00 EDT 2008      1     796  Residential  68880  \n",
       "Wed May 21 00:00:00 EDT 2008      1     852  Residential  69307  \n",
       "Wed May 21 00:00:00 EDT 2008      1     797  Residential  81900  "
      ]
     },
     "execution_count": 81,
     "metadata": {},
     "output_type": "execute_result"
    }
   ],
   "source": [
    "prices.head()"
   ]
  },
  {
   "cell_type": "code",
   "execution_count": 91,
   "metadata": {},
   "outputs": [
    {
     "data": {
      "text/plain": [
       "0.18203162472419276"
      ]
     },
     "execution_count": 91,
     "metadata": {},
     "output_type": "execute_result"
    }
   ],
   "source": [
    "# define X & y\n",
    "X = prices.loc[:, ['beds', 'baths', 'sq__ft']]\n",
    "y = prices['price']\n",
    "# standardize data\n",
    "X = (X - X.mean()) / X.std()\n",
    "# fit model\n",
    "lreg.fit(X, y)\n",
    "lreg.score(X, y)"
   ]
  },
  {
   "cell_type": "code",
   "execution_count": 90,
   "metadata": {},
   "outputs": [
    {
     "data": {
      "text/plain": [
       "0.27115491268070757"
      ]
     },
     "execution_count": 90,
     "metadata": {},
     "output_type": "execute_result"
    }
   ],
   "source": [
    "# define X & y\n",
    "X           = prices.loc[:, ['zip', 'beds', 'baths', 'sq__ft']]\n",
    "y           = prices['price']\n",
    "# standardize data\n",
    "num_cols    = X.select_dtypes(include=np.number).columns.tolist()\n",
    "X[num_cols] = (X[num_cols] - X[num_cols].mean()) / X[num_cols].std()\n",
    "X           = pd.get_dummies(X, drop_first=True)\n",
    "# fit model\n",
    "lreg.fit(X, y)\n",
    "lreg.score(X, y)"
   ]
  },
  {
   "cell_type": "code",
   "execution_count": 89,
   "metadata": {},
   "outputs": [
    {
     "data": {
      "text/plain": [
       "0.19932054564173063"
      ]
     },
     "execution_count": 89,
     "metadata": {},
     "output_type": "execute_result"
    }
   ],
   "source": [
    "# define X & y\n",
    "X           = prices.loc[:, ['type', 'beds', 'baths', 'sq__ft']]\n",
    "y           = prices['price']\n",
    "# standardize data\n",
    "num_cols    = X.select_dtypes(include=np.number).columns.tolist()\n",
    "X[num_cols] = (X[num_cols] - X[num_cols].mean()) / X[num_cols].std()\n",
    "X           = pd.get_dummies(X, drop_first=True)\n",
    "# fit model\n",
    "lreg.fit(X, y)\n",
    "lreg.score(X, y)"
   ]
  },
  {
   "cell_type": "code",
   "execution_count": 93,
   "metadata": {},
   "outputs": [
    {
     "data": {
      "text/plain": [
       "0.2953326582199547"
      ]
     },
     "execution_count": 93,
     "metadata": {},
     "output_type": "execute_result"
    }
   ],
   "source": [
    "# define X & y\n",
    "X           = prices.loc[:, ['type', 'zip', 'beds', 'baths', 'sq__ft']]\n",
    "y           = prices['price']\n",
    "# standardize data\n",
    "num_cols    = X.select_dtypes(include=np.number).columns.tolist()\n",
    "X[num_cols] = (X[num_cols] - X[num_cols].mean()) / X[num_cols].std()\n",
    "X           = pd.get_dummies(X, drop_first=True)\n",
    "# fit model\n",
    "lreg.fit(X, y)\n",
    "lreg.score(X, y)"
   ]
  },
  {
   "cell_type": "code",
   "execution_count": 92,
   "metadata": {},
   "outputs": [
    {
     "data": {
      "text/html": [
       "<div>\n",
       "<style scoped>\n",
       "    .dataframe tbody tr th:only-of-type {\n",
       "        vertical-align: middle;\n",
       "    }\n",
       "\n",
       "    .dataframe tbody tr th {\n",
       "        vertical-align: top;\n",
       "    }\n",
       "\n",
       "    .dataframe thead th {\n",
       "        text-align: right;\n",
       "    }\n",
       "</style>\n",
       "<table border=\"1\" class=\"dataframe\">\n",
       "  <thead>\n",
       "    <tr style=\"text-align: right;\">\n",
       "      <th></th>\n",
       "      <th>street</th>\n",
       "      <th>city</th>\n",
       "      <th>zip</th>\n",
       "      <th>state</th>\n",
       "      <th>beds</th>\n",
       "      <th>baths</th>\n",
       "      <th>sq__ft</th>\n",
       "      <th>type</th>\n",
       "      <th>price</th>\n",
       "    </tr>\n",
       "    <tr>\n",
       "      <th>sale_date</th>\n",
       "      <th></th>\n",
       "      <th></th>\n",
       "      <th></th>\n",
       "      <th></th>\n",
       "      <th></th>\n",
       "      <th></th>\n",
       "      <th></th>\n",
       "      <th></th>\n",
       "      <th></th>\n",
       "    </tr>\n",
       "  </thead>\n",
       "  <tbody>\n",
       "    <tr>\n",
       "      <th>Wed May 21 00:00:00 EDT 2008</th>\n",
       "      <td>3526 HIGH ST</td>\n",
       "      <td>SACRAMENTO</td>\n",
       "      <td>95838</td>\n",
       "      <td>CA</td>\n",
       "      <td>2</td>\n",
       "      <td>1</td>\n",
       "      <td>836</td>\n",
       "      <td>Residential</td>\n",
       "      <td>59222</td>\n",
       "    </tr>\n",
       "    <tr>\n",
       "      <th>Wed May 21 00:00:00 EDT 2008</th>\n",
       "      <td>51 OMAHA CT</td>\n",
       "      <td>SACRAMENTO</td>\n",
       "      <td>95823</td>\n",
       "      <td>CA</td>\n",
       "      <td>3</td>\n",
       "      <td>1</td>\n",
       "      <td>1167</td>\n",
       "      <td>Residential</td>\n",
       "      <td>68212</td>\n",
       "    </tr>\n",
       "    <tr>\n",
       "      <th>Wed May 21 00:00:00 EDT 2008</th>\n",
       "      <td>2796 BRANCH ST</td>\n",
       "      <td>SACRAMENTO</td>\n",
       "      <td>Other</td>\n",
       "      <td>CA</td>\n",
       "      <td>2</td>\n",
       "      <td>1</td>\n",
       "      <td>796</td>\n",
       "      <td>Residential</td>\n",
       "      <td>68880</td>\n",
       "    </tr>\n",
       "    <tr>\n",
       "      <th>Wed May 21 00:00:00 EDT 2008</th>\n",
       "      <td>2805 JANETTE WAY</td>\n",
       "      <td>SACRAMENTO</td>\n",
       "      <td>Other</td>\n",
       "      <td>CA</td>\n",
       "      <td>2</td>\n",
       "      <td>1</td>\n",
       "      <td>852</td>\n",
       "      <td>Residential</td>\n",
       "      <td>69307</td>\n",
       "    </tr>\n",
       "    <tr>\n",
       "      <th>Wed May 21 00:00:00 EDT 2008</th>\n",
       "      <td>6001 MCMAHON DR</td>\n",
       "      <td>SACRAMENTO</td>\n",
       "      <td>Other</td>\n",
       "      <td>CA</td>\n",
       "      <td>2</td>\n",
       "      <td>1</td>\n",
       "      <td>797</td>\n",
       "      <td>Residential</td>\n",
       "      <td>81900</td>\n",
       "    </tr>\n",
       "  </tbody>\n",
       "</table>\n",
       "</div>"
      ],
      "text/plain": [
       "                                        street        city    zip state  beds  \\\n",
       "sale_date                                                                       \n",
       "Wed May 21 00:00:00 EDT 2008      3526 HIGH ST  SACRAMENTO  95838    CA     2   \n",
       "Wed May 21 00:00:00 EDT 2008       51 OMAHA CT  SACRAMENTO  95823    CA     3   \n",
       "Wed May 21 00:00:00 EDT 2008    2796 BRANCH ST  SACRAMENTO  Other    CA     2   \n",
       "Wed May 21 00:00:00 EDT 2008  2805 JANETTE WAY  SACRAMENTO  Other    CA     2   \n",
       "Wed May 21 00:00:00 EDT 2008   6001 MCMAHON DR  SACRAMENTO  Other    CA     2   \n",
       "\n",
       "                              baths  sq__ft         type  price  \n",
       "sale_date                                                        \n",
       "Wed May 21 00:00:00 EDT 2008      1     836  Residential  59222  \n",
       "Wed May 21 00:00:00 EDT 2008      1    1167  Residential  68212  \n",
       "Wed May 21 00:00:00 EDT 2008      1     796  Residential  68880  \n",
       "Wed May 21 00:00:00 EDT 2008      1     852  Residential  69307  \n",
       "Wed May 21 00:00:00 EDT 2008      1     797  Residential  81900  "
      ]
     },
     "execution_count": 92,
     "metadata": {},
     "output_type": "execute_result"
    }
   ],
   "source": [
    "prices.head()"
   ]
  },
  {
   "cell_type": "code",
   "execution_count": 94,
   "metadata": {},
   "outputs": [],
   "source": [
    "prices['prediction'] = lreg.predict(X)"
   ]
  },
  {
   "cell_type": "code",
   "execution_count": 95,
   "metadata": {},
   "outputs": [
    {
     "data": {
      "text/html": [
       "<div>\n",
       "<style scoped>\n",
       "    .dataframe tbody tr th:only-of-type {\n",
       "        vertical-align: middle;\n",
       "    }\n",
       "\n",
       "    .dataframe tbody tr th {\n",
       "        vertical-align: top;\n",
       "    }\n",
       "\n",
       "    .dataframe thead th {\n",
       "        text-align: right;\n",
       "    }\n",
       "</style>\n",
       "<table border=\"1\" class=\"dataframe\">\n",
       "  <thead>\n",
       "    <tr style=\"text-align: right;\">\n",
       "      <th></th>\n",
       "      <th>street</th>\n",
       "      <th>city</th>\n",
       "      <th>zip</th>\n",
       "      <th>state</th>\n",
       "      <th>beds</th>\n",
       "      <th>baths</th>\n",
       "      <th>sq__ft</th>\n",
       "      <th>type</th>\n",
       "      <th>price</th>\n",
       "      <th>prediction</th>\n",
       "    </tr>\n",
       "    <tr>\n",
       "      <th>sale_date</th>\n",
       "      <th></th>\n",
       "      <th></th>\n",
       "      <th></th>\n",
       "      <th></th>\n",
       "      <th></th>\n",
       "      <th></th>\n",
       "      <th></th>\n",
       "      <th></th>\n",
       "      <th></th>\n",
       "      <th></th>\n",
       "    </tr>\n",
       "  </thead>\n",
       "  <tbody>\n",
       "    <tr>\n",
       "      <th>Wed May 21 00:00:00 EDT 2008</th>\n",
       "      <td>3526 HIGH ST</td>\n",
       "      <td>SACRAMENTO</td>\n",
       "      <td>95838</td>\n",
       "      <td>CA</td>\n",
       "      <td>2</td>\n",
       "      <td>1</td>\n",
       "      <td>836</td>\n",
       "      <td>Residential</td>\n",
       "      <td>59222</td>\n",
       "      <td>113093.695557</td>\n",
       "    </tr>\n",
       "    <tr>\n",
       "      <th>Wed May 21 00:00:00 EDT 2008</th>\n",
       "      <td>51 OMAHA CT</td>\n",
       "      <td>SACRAMENTO</td>\n",
       "      <td>95823</td>\n",
       "      <td>CA</td>\n",
       "      <td>3</td>\n",
       "      <td>1</td>\n",
       "      <td>1167</td>\n",
       "      <td>Residential</td>\n",
       "      <td>68212</td>\n",
       "      <td>112733.338098</td>\n",
       "    </tr>\n",
       "    <tr>\n",
       "      <th>Wed May 21 00:00:00 EDT 2008</th>\n",
       "      <td>2796 BRANCH ST</td>\n",
       "      <td>SACRAMENTO</td>\n",
       "      <td>Other</td>\n",
       "      <td>CA</td>\n",
       "      <td>2</td>\n",
       "      <td>1</td>\n",
       "      <td>796</td>\n",
       "      <td>Residential</td>\n",
       "      <td>68880</td>\n",
       "      <td>224866.407864</td>\n",
       "    </tr>\n",
       "    <tr>\n",
       "      <th>Wed May 21 00:00:00 EDT 2008</th>\n",
       "      <td>2805 JANETTE WAY</td>\n",
       "      <td>SACRAMENTO</td>\n",
       "      <td>Other</td>\n",
       "      <td>CA</td>\n",
       "      <td>2</td>\n",
       "      <td>1</td>\n",
       "      <td>852</td>\n",
       "      <td>Residential</td>\n",
       "      <td>69307</td>\n",
       "      <td>225494.823964</td>\n",
       "    </tr>\n",
       "    <tr>\n",
       "      <th>Wed May 21 00:00:00 EDT 2008</th>\n",
       "      <td>6001 MCMAHON DR</td>\n",
       "      <td>SACRAMENTO</td>\n",
       "      <td>Other</td>\n",
       "      <td>CA</td>\n",
       "      <td>2</td>\n",
       "      <td>1</td>\n",
       "      <td>797</td>\n",
       "      <td>Residential</td>\n",
       "      <td>81900</td>\n",
       "      <td>224877.629580</td>\n",
       "    </tr>\n",
       "  </tbody>\n",
       "</table>\n",
       "</div>"
      ],
      "text/plain": [
       "                                        street        city    zip state  beds  \\\n",
       "sale_date                                                                       \n",
       "Wed May 21 00:00:00 EDT 2008      3526 HIGH ST  SACRAMENTO  95838    CA     2   \n",
       "Wed May 21 00:00:00 EDT 2008       51 OMAHA CT  SACRAMENTO  95823    CA     3   \n",
       "Wed May 21 00:00:00 EDT 2008    2796 BRANCH ST  SACRAMENTO  Other    CA     2   \n",
       "Wed May 21 00:00:00 EDT 2008  2805 JANETTE WAY  SACRAMENTO  Other    CA     2   \n",
       "Wed May 21 00:00:00 EDT 2008   6001 MCMAHON DR  SACRAMENTO  Other    CA     2   \n",
       "\n",
       "                              baths  sq__ft         type  price     prediction  \n",
       "sale_date                                                                       \n",
       "Wed May 21 00:00:00 EDT 2008      1     836  Residential  59222  113093.695557  \n",
       "Wed May 21 00:00:00 EDT 2008      1    1167  Residential  68212  112733.338098  \n",
       "Wed May 21 00:00:00 EDT 2008      1     796  Residential  68880  224866.407864  \n",
       "Wed May 21 00:00:00 EDT 2008      1     852  Residential  69307  225494.823964  \n",
       "Wed May 21 00:00:00 EDT 2008      1     797  Residential  81900  224877.629580  "
      ]
     },
     "execution_count": 95,
     "metadata": {},
     "output_type": "execute_result"
    }
   ],
   "source": [
    "prices.head()"
   ]
  },
  {
   "cell_type": "code",
   "execution_count": 99,
   "metadata": {},
   "outputs": [],
   "source": [
    "mae = np.mean(np.abs(prices['price'] - prices['prediction']))"
   ]
  },
  {
   "cell_type": "code",
   "execution_count": 100,
   "metadata": {},
   "outputs": [
    {
     "data": {
      "text/plain": [
       "86416.30313899221"
      ]
     },
     "execution_count": 100,
     "metadata": {},
     "output_type": "execute_result"
    }
   ],
   "source": [
    "mae"
   ]
  },
  {
   "cell_type": "code",
   "execution_count": 102,
   "metadata": {},
   "outputs": [],
   "source": [
    "mse = np.mean((prices['price'] - prices['prediction'])**2)"
   ]
  },
  {
   "cell_type": "code",
   "execution_count": 110,
   "metadata": {},
   "outputs": [
    {
     "data": {
      "text/plain": [
       "Index(['Wed May 21 00:00:00 EDT 2008', 'Wed May 21 00:00:00 EDT 2008',\n",
       "       'Wed May 21 00:00:00 EDT 2008', 'Wed May 21 00:00:00 EDT 2008',\n",
       "       'Wed May 21 00:00:00 EDT 2008', 'Wed May 21 00:00:00 EDT 2008',\n",
       "       'Wed May 21 00:00:00 EDT 2008', 'Wed May 21 00:00:00 EDT 2008',\n",
       "       'Wed May 21 00:00:00 EDT 2008', 'Wed May 21 00:00:00 EDT 2008',\n",
       "       ...\n",
       "       'Thu May 15 00:00:00 EDT 2008', 'Thu May 15 00:00:00 EDT 2008',\n",
       "       'Thu May 15 00:00:00 EDT 2008', 'Thu May 15 00:00:00 EDT 2008',\n",
       "       'Thu May 15 00:00:00 EDT 2008', 'Thu May 15 00:00:00 EDT 2008',\n",
       "       'Thu May 15 00:00:00 EDT 2008', 'Thu May 15 00:00:00 EDT 2008',\n",
       "       'Thu May 15 00:00:00 EDT 2008', 'Thu May 15 00:00:00 EDT 2008'],\n",
       "      dtype='object', name='sale_date', length=985)"
      ]
     },
     "execution_count": 110,
     "metadata": {},
     "output_type": "execute_result"
    }
   ],
   "source": [
    "prices.index"
   ]
  },
  {
   "cell_type": "code",
   "execution_count": 115,
   "metadata": {},
   "outputs": [
    {
     "data": {
      "text/html": [
       "<div>\n",
       "<style scoped>\n",
       "    .dataframe tbody tr th:only-of-type {\n",
       "        vertical-align: middle;\n",
       "    }\n",
       "\n",
       "    .dataframe tbody tr th {\n",
       "        vertical-align: top;\n",
       "    }\n",
       "\n",
       "    .dataframe thead th {\n",
       "        text-align: right;\n",
       "    }\n",
       "</style>\n",
       "<table border=\"1\" class=\"dataframe\">\n",
       "  <thead>\n",
       "    <tr style=\"text-align: right;\">\n",
       "      <th></th>\n",
       "      <th>season</th>\n",
       "      <th>holiday</th>\n",
       "      <th>workingday</th>\n",
       "      <th>weather</th>\n",
       "      <th>temp</th>\n",
       "      <th>atemp</th>\n",
       "      <th>humidity</th>\n",
       "      <th>windspeed</th>\n",
       "      <th>count</th>\n",
       "    </tr>\n",
       "    <tr>\n",
       "      <th>datetime</th>\n",
       "      <th></th>\n",
       "      <th></th>\n",
       "      <th></th>\n",
       "      <th></th>\n",
       "      <th></th>\n",
       "      <th></th>\n",
       "      <th></th>\n",
       "      <th></th>\n",
       "      <th></th>\n",
       "    </tr>\n",
       "  </thead>\n",
       "  <tbody>\n",
       "    <tr>\n",
       "      <th>2011-01-01 00:00:00</th>\n",
       "      <td>Spring</td>\n",
       "      <td>0</td>\n",
       "      <td>0</td>\n",
       "      <td>Clear Skies</td>\n",
       "      <td>9.84</td>\n",
       "      <td>14.395</td>\n",
       "      <td>81</td>\n",
       "      <td>0.0</td>\n",
       "      <td>16</td>\n",
       "    </tr>\n",
       "    <tr>\n",
       "      <th>2011-01-01 01:00:00</th>\n",
       "      <td>Spring</td>\n",
       "      <td>0</td>\n",
       "      <td>0</td>\n",
       "      <td>Clear Skies</td>\n",
       "      <td>9.02</td>\n",
       "      <td>13.635</td>\n",
       "      <td>80</td>\n",
       "      <td>0.0</td>\n",
       "      <td>40</td>\n",
       "    </tr>\n",
       "    <tr>\n",
       "      <th>2011-01-01 02:00:00</th>\n",
       "      <td>Spring</td>\n",
       "      <td>0</td>\n",
       "      <td>0</td>\n",
       "      <td>Clear Skies</td>\n",
       "      <td>9.02</td>\n",
       "      <td>13.635</td>\n",
       "      <td>80</td>\n",
       "      <td>0.0</td>\n",
       "      <td>32</td>\n",
       "    </tr>\n",
       "    <tr>\n",
       "      <th>2011-01-01 03:00:00</th>\n",
       "      <td>Spring</td>\n",
       "      <td>0</td>\n",
       "      <td>0</td>\n",
       "      <td>Clear Skies</td>\n",
       "      <td>9.84</td>\n",
       "      <td>14.395</td>\n",
       "      <td>75</td>\n",
       "      <td>0.0</td>\n",
       "      <td>13</td>\n",
       "    </tr>\n",
       "    <tr>\n",
       "      <th>2011-01-01 04:00:00</th>\n",
       "      <td>Spring</td>\n",
       "      <td>0</td>\n",
       "      <td>0</td>\n",
       "      <td>Clear Skies</td>\n",
       "      <td>9.84</td>\n",
       "      <td>14.395</td>\n",
       "      <td>75</td>\n",
       "      <td>0.0</td>\n",
       "      <td>1</td>\n",
       "    </tr>\n",
       "  </tbody>\n",
       "</table>\n",
       "</div>"
      ],
      "text/plain": [
       "                     season  holiday  workingday      weather  temp   atemp  \\\n",
       "datetime                                                                      \n",
       "2011-01-01 00:00:00  Spring        0           0  Clear Skies  9.84  14.395   \n",
       "2011-01-01 01:00:00  Spring        0           0  Clear Skies  9.02  13.635   \n",
       "2011-01-01 02:00:00  Spring        0           0  Clear Skies  9.02  13.635   \n",
       "2011-01-01 03:00:00  Spring        0           0  Clear Skies  9.84  14.395   \n",
       "2011-01-01 04:00:00  Spring        0           0  Clear Skies  9.84  14.395   \n",
       "\n",
       "                     humidity  windspeed  count  \n",
       "datetime                                         \n",
       "2011-01-01 00:00:00        81        0.0     16  \n",
       "2011-01-01 01:00:00        80        0.0     40  \n",
       "2011-01-01 02:00:00        80        0.0     32  \n",
       "2011-01-01 03:00:00        75        0.0     13  \n",
       "2011-01-01 04:00:00        75        0.0      1  "
      ]
     },
     "execution_count": 115,
     "metadata": {},
     "output_type": "execute_result"
    }
   ],
   "source": [
    "df.head()"
   ]
  },
  {
   "cell_type": "code",
   "execution_count": 119,
   "metadata": {},
   "outputs": [],
   "source": [
    "df['hour'] = df.index.hour"
   ]
  },
  {
   "cell_type": "code",
   "execution_count": 120,
   "metadata": {},
   "outputs": [
    {
     "data": {
      "text/html": [
       "<div>\n",
       "<style scoped>\n",
       "    .dataframe tbody tr th:only-of-type {\n",
       "        vertical-align: middle;\n",
       "    }\n",
       "\n",
       "    .dataframe tbody tr th {\n",
       "        vertical-align: top;\n",
       "    }\n",
       "\n",
       "    .dataframe thead th {\n",
       "        text-align: right;\n",
       "    }\n",
       "</style>\n",
       "<table border=\"1\" class=\"dataframe\">\n",
       "  <thead>\n",
       "    <tr style=\"text-align: right;\">\n",
       "      <th></th>\n",
       "      <th>season</th>\n",
       "      <th>holiday</th>\n",
       "      <th>workingday</th>\n",
       "      <th>weather</th>\n",
       "      <th>temp</th>\n",
       "      <th>atemp</th>\n",
       "      <th>humidity</th>\n",
       "      <th>windspeed</th>\n",
       "      <th>count</th>\n",
       "      <th>hour</th>\n",
       "    </tr>\n",
       "    <tr>\n",
       "      <th>datetime</th>\n",
       "      <th></th>\n",
       "      <th></th>\n",
       "      <th></th>\n",
       "      <th></th>\n",
       "      <th></th>\n",
       "      <th></th>\n",
       "      <th></th>\n",
       "      <th></th>\n",
       "      <th></th>\n",
       "      <th></th>\n",
       "    </tr>\n",
       "  </thead>\n",
       "  <tbody>\n",
       "    <tr>\n",
       "      <th>2011-01-01 00:00:00</th>\n",
       "      <td>Spring</td>\n",
       "      <td>0</td>\n",
       "      <td>0</td>\n",
       "      <td>Clear Skies</td>\n",
       "      <td>9.84</td>\n",
       "      <td>14.395</td>\n",
       "      <td>81</td>\n",
       "      <td>0.0</td>\n",
       "      <td>16</td>\n",
       "      <td>0</td>\n",
       "    </tr>\n",
       "    <tr>\n",
       "      <th>2011-01-01 01:00:00</th>\n",
       "      <td>Spring</td>\n",
       "      <td>0</td>\n",
       "      <td>0</td>\n",
       "      <td>Clear Skies</td>\n",
       "      <td>9.02</td>\n",
       "      <td>13.635</td>\n",
       "      <td>80</td>\n",
       "      <td>0.0</td>\n",
       "      <td>40</td>\n",
       "      <td>1</td>\n",
       "    </tr>\n",
       "    <tr>\n",
       "      <th>2011-01-01 02:00:00</th>\n",
       "      <td>Spring</td>\n",
       "      <td>0</td>\n",
       "      <td>0</td>\n",
       "      <td>Clear Skies</td>\n",
       "      <td>9.02</td>\n",
       "      <td>13.635</td>\n",
       "      <td>80</td>\n",
       "      <td>0.0</td>\n",
       "      <td>32</td>\n",
       "      <td>2</td>\n",
       "    </tr>\n",
       "    <tr>\n",
       "      <th>2011-01-01 03:00:00</th>\n",
       "      <td>Spring</td>\n",
       "      <td>0</td>\n",
       "      <td>0</td>\n",
       "      <td>Clear Skies</td>\n",
       "      <td>9.84</td>\n",
       "      <td>14.395</td>\n",
       "      <td>75</td>\n",
       "      <td>0.0</td>\n",
       "      <td>13</td>\n",
       "      <td>3</td>\n",
       "    </tr>\n",
       "    <tr>\n",
       "      <th>2011-01-01 04:00:00</th>\n",
       "      <td>Spring</td>\n",
       "      <td>0</td>\n",
       "      <td>0</td>\n",
       "      <td>Clear Skies</td>\n",
       "      <td>9.84</td>\n",
       "      <td>14.395</td>\n",
       "      <td>75</td>\n",
       "      <td>0.0</td>\n",
       "      <td>1</td>\n",
       "      <td>4</td>\n",
       "    </tr>\n",
       "  </tbody>\n",
       "</table>\n",
       "</div>"
      ],
      "text/plain": [
       "                     season  holiday  workingday      weather  temp   atemp  \\\n",
       "datetime                                                                      \n",
       "2011-01-01 00:00:00  Spring        0           0  Clear Skies  9.84  14.395   \n",
       "2011-01-01 01:00:00  Spring        0           0  Clear Skies  9.02  13.635   \n",
       "2011-01-01 02:00:00  Spring        0           0  Clear Skies  9.02  13.635   \n",
       "2011-01-01 03:00:00  Spring        0           0  Clear Skies  9.84  14.395   \n",
       "2011-01-01 04:00:00  Spring        0           0  Clear Skies  9.84  14.395   \n",
       "\n",
       "                     humidity  windspeed  count  hour  \n",
       "datetime                                               \n",
       "2011-01-01 00:00:00        81        0.0     16     0  \n",
       "2011-01-01 01:00:00        80        0.0     40     1  \n",
       "2011-01-01 02:00:00        80        0.0     32     2  \n",
       "2011-01-01 03:00:00        75        0.0     13     3  \n",
       "2011-01-01 04:00:00        75        0.0      1     4  "
      ]
     },
     "execution_count": 120,
     "metadata": {},
     "output_type": "execute_result"
    }
   ],
   "source": [
    "df.head()"
   ]
  },
  {
   "cell_type": "code",
   "execution_count": null,
   "metadata": {},
   "outputs": [],
   "source": []
  }
 ],
 "metadata": {
  "kernelspec": {
   "display_name": "Python 3",
   "language": "python",
   "name": "python3"
  },
  "language_info": {
   "codemirror_mode": {
    "name": "ipython",
    "version": 3
   },
   "file_extension": ".py",
   "mimetype": "text/x-python",
   "name": "python",
   "nbconvert_exporter": "python",
   "pygments_lexer": "ipython3",
   "version": "3.7.1"
  }
 },
 "nbformat": 4,
 "nbformat_minor": 2
}
