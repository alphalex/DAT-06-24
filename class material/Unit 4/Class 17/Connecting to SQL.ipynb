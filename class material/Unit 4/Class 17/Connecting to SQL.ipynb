{
 "cells": [
  {
   "cell_type": "code",
   "execution_count": 1,
   "metadata": {},
   "outputs": [],
   "source": [
    "import pandas as pd\n",
    "import mysql.connector as sql"
   ]
  },
  {
   "cell_type": "code",
   "execution_count": 2,
   "metadata": {},
   "outputs": [],
   "source": [
    "connector = sql.connect(user='rfamro', password=None, port=4497, database='Rfam', host='mysql-rfam-public.ebi.ac.uk')\n",
    "\n"
   ]
  },
  {
   "cell_type": "code",
   "execution_count": 3,
   "metadata": {},
   "outputs": [],
   "source": [
    "df = pd.read_sql_query('SELECT * FROM taxonomy', connector)"
   ]
  },
  {
   "cell_type": "code",
   "execution_count": 4,
   "metadata": {},
   "outputs": [
    {
     "data": {
      "text/html": [
       "<div>\n",
       "<style scoped>\n",
       "    .dataframe tbody tr th:only-of-type {\n",
       "        vertical-align: middle;\n",
       "    }\n",
       "\n",
       "    .dataframe tbody tr th {\n",
       "        vertical-align: top;\n",
       "    }\n",
       "\n",
       "    .dataframe thead th {\n",
       "        text-align: right;\n",
       "    }\n",
       "</style>\n",
       "<table border=\"1\" class=\"dataframe\">\n",
       "  <thead>\n",
       "    <tr style=\"text-align: right;\">\n",
       "      <th></th>\n",
       "      <th>ncbi_id</th>\n",
       "      <th>species</th>\n",
       "      <th>tax_string</th>\n",
       "      <th>tree_display_name</th>\n",
       "      <th>align_display_name</th>\n",
       "    </tr>\n",
       "  </thead>\n",
       "  <tbody>\n",
       "    <tr>\n",
       "      <th>0</th>\n",
       "      <td>7</td>\n",
       "      <td>Azorhizobium caulinodans</td>\n",
       "      <td>Bacteria; Proteobacteria; Alphaproteobacteria;...</td>\n",
       "      <td>Azorhizobium_caulinodans</td>\n",
       "      <td>Azorhizobium_caulinodans[7]</td>\n",
       "    </tr>\n",
       "    <tr>\n",
       "      <th>1</th>\n",
       "      <td>9</td>\n",
       "      <td>Buchnera aphidicola</td>\n",
       "      <td>Bacteria; Proteobacteria; Gammaproteobacteria;...</td>\n",
       "      <td>Buchnera_aphidicola</td>\n",
       "      <td>Buchnera_aphidicola[9]</td>\n",
       "    </tr>\n",
       "    <tr>\n",
       "      <th>2</th>\n",
       "      <td>11</td>\n",
       "      <td>[Cellvibrio] gilvus</td>\n",
       "      <td>Bacteria; Actinobacteria; Actinobacteridae; Ac...</td>\n",
       "      <td>[Cellvibrio]_gilvus</td>\n",
       "      <td>[Cellvibrio]_gilvus[11]</td>\n",
       "    </tr>\n",
       "    <tr>\n",
       "      <th>3</th>\n",
       "      <td>14</td>\n",
       "      <td>Dictyoglomus thermophilum</td>\n",
       "      <td>Bacteria; Dictyoglomi; Dictyoglomales; Dictyog...</td>\n",
       "      <td>Dictyoglomus_thermophilum</td>\n",
       "      <td>Dictyoglomus_thermophilum[14]</td>\n",
       "    </tr>\n",
       "    <tr>\n",
       "      <th>4</th>\n",
       "      <td>17</td>\n",
       "      <td>Methylophilus methylotrophus</td>\n",
       "      <td>Bacteria; Proteobacteria; Betaproteobacteria; ...</td>\n",
       "      <td>Methylophilus_methylotrophus</td>\n",
       "      <td>Methylophilus_methylotr..[17]</td>\n",
       "    </tr>\n",
       "  </tbody>\n",
       "</table>\n",
       "</div>"
      ],
      "text/plain": [
       "   ncbi_id                       species  \\\n",
       "0        7      Azorhizobium caulinodans   \n",
       "1        9           Buchnera aphidicola   \n",
       "2       11           [Cellvibrio] gilvus   \n",
       "3       14     Dictyoglomus thermophilum   \n",
       "4       17  Methylophilus methylotrophus   \n",
       "\n",
       "                                          tax_string  \\\n",
       "0  Bacteria; Proteobacteria; Alphaproteobacteria;...   \n",
       "1  Bacteria; Proteobacteria; Gammaproteobacteria;...   \n",
       "2  Bacteria; Actinobacteria; Actinobacteridae; Ac...   \n",
       "3  Bacteria; Dictyoglomi; Dictyoglomales; Dictyog...   \n",
       "4  Bacteria; Proteobacteria; Betaproteobacteria; ...   \n",
       "\n",
       "              tree_display_name             align_display_name  \n",
       "0      Azorhizobium_caulinodans    Azorhizobium_caulinodans[7]  \n",
       "1           Buchnera_aphidicola         Buchnera_aphidicola[9]  \n",
       "2           [Cellvibrio]_gilvus        [Cellvibrio]_gilvus[11]  \n",
       "3     Dictyoglomus_thermophilum  Dictyoglomus_thermophilum[14]  \n",
       "4  Methylophilus_methylotrophus  Methylophilus_methylotr..[17]  "
      ]
     },
     "execution_count": 4,
     "metadata": {},
     "output_type": "execute_result"
    }
   ],
   "source": [
    "df.head()"
   ]
  },
  {
   "cell_type": "code",
   "execution_count": 5,
   "metadata": {},
   "outputs": [
    {
     "data": {
      "text/plain": [
       "(749742, 5)"
      ]
     },
     "execution_count": 5,
     "metadata": {},
     "output_type": "execute_result"
    }
   ],
   "source": [
    "df.shape"
   ]
  },
  {
   "cell_type": "code",
   "execution_count": null,
   "metadata": {},
   "outputs": [],
   "source": []
  }
 ],
 "metadata": {
  "kernelspec": {
   "display_name": "Python 3",
   "language": "python",
   "name": "python3"
  },
  "language_info": {
   "codemirror_mode": {
    "name": "ipython",
    "version": 3
   },
   "file_extension": ".py",
   "mimetype": "text/x-python",
   "name": "python",
   "nbconvert_exporter": "python",
   "pygments_lexer": "ipython3",
   "version": "3.7.3"
  }
 },
 "nbformat": 4,
 "nbformat_minor": 2
}
