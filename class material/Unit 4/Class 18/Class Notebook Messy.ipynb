{
 "cells": [
  {
   "cell_type": "code",
   "execution_count": 1,
   "metadata": {},
   "outputs": [],
   "source": [
    "import pandas as pd\n",
    "import numpy as np\n",
    "\n",
    "df = pd.read_csv('data/births.csv', index_col='Date', parse_dates=True)"
   ]
  },
  {
   "cell_type": "code",
   "execution_count": 2,
   "metadata": {},
   "outputs": [
    {
     "data": {
      "text/html": [
       "<div>\n",
       "<style scoped>\n",
       "    .dataframe tbody tr th:only-of-type {\n",
       "        vertical-align: middle;\n",
       "    }\n",
       "\n",
       "    .dataframe tbody tr th {\n",
       "        vertical-align: top;\n",
       "    }\n",
       "\n",
       "    .dataframe thead th {\n",
       "        text-align: right;\n",
       "    }\n",
       "</style>\n",
       "<table border=\"1\" class=\"dataframe\">\n",
       "  <thead>\n",
       "    <tr style=\"text-align: right;\">\n",
       "      <th></th>\n",
       "      <th>Births</th>\n",
       "    </tr>\n",
       "    <tr>\n",
       "      <th>Date</th>\n",
       "      <th></th>\n",
       "    </tr>\n",
       "  </thead>\n",
       "  <tbody>\n",
       "    <tr>\n",
       "      <th>1959-12-27</th>\n",
       "      <td>37</td>\n",
       "    </tr>\n",
       "    <tr>\n",
       "      <th>1959-12-28</th>\n",
       "      <td>52</td>\n",
       "    </tr>\n",
       "    <tr>\n",
       "      <th>1959-12-29</th>\n",
       "      <td>48</td>\n",
       "    </tr>\n",
       "    <tr>\n",
       "      <th>1959-12-30</th>\n",
       "      <td>55</td>\n",
       "    </tr>\n",
       "    <tr>\n",
       "      <th>1959-12-31</th>\n",
       "      <td>50</td>\n",
       "    </tr>\n",
       "  </tbody>\n",
       "</table>\n",
       "</div>"
      ],
      "text/plain": [
       "            Births\n",
       "Date              \n",
       "1959-12-27      37\n",
       "1959-12-28      52\n",
       "1959-12-29      48\n",
       "1959-12-30      55\n",
       "1959-12-31      50"
      ]
     },
     "execution_count": 2,
     "metadata": {},
     "output_type": "execute_result"
    }
   ],
   "source": [
    "df.tail()"
   ]
  },
  {
   "cell_type": "code",
   "execution_count": 3,
   "metadata": {},
   "outputs": [
    {
     "data": {
      "text/html": [
       "<div>\n",
       "<style scoped>\n",
       "    .dataframe tbody tr th:only-of-type {\n",
       "        vertical-align: middle;\n",
       "    }\n",
       "\n",
       "    .dataframe tbody tr th {\n",
       "        vertical-align: top;\n",
       "    }\n",
       "\n",
       "    .dataframe thead th {\n",
       "        text-align: right;\n",
       "    }\n",
       "</style>\n",
       "<table border=\"1\" class=\"dataframe\">\n",
       "  <thead>\n",
       "    <tr style=\"text-align: right;\">\n",
       "      <th></th>\n",
       "      <th>Births</th>\n",
       "    </tr>\n",
       "    <tr>\n",
       "      <th>Date</th>\n",
       "      <th></th>\n",
       "    </tr>\n",
       "  </thead>\n",
       "  <tbody>\n",
       "    <tr>\n",
       "      <th>1959-01-01</th>\n",
       "      <td>-6.980822</td>\n",
       "    </tr>\n",
       "    <tr>\n",
       "      <th>1959-01-02</th>\n",
       "      <td>-9.980822</td>\n",
       "    </tr>\n",
       "    <tr>\n",
       "      <th>1959-01-03</th>\n",
       "      <td>-11.980822</td>\n",
       "    </tr>\n",
       "    <tr>\n",
       "      <th>1959-01-04</th>\n",
       "      <td>-10.980822</td>\n",
       "    </tr>\n",
       "    <tr>\n",
       "      <th>1959-01-05</th>\n",
       "      <td>2.019178</td>\n",
       "    </tr>\n",
       "  </tbody>\n",
       "</table>\n",
       "</div>"
      ],
      "text/plain": [
       "               Births\n",
       "Date                 \n",
       "1959-01-01  -6.980822\n",
       "1959-01-02  -9.980822\n",
       "1959-01-03 -11.980822\n",
       "1959-01-04 -10.980822\n",
       "1959-01-05   2.019178"
      ]
     },
     "execution_count": 3,
     "metadata": {},
     "output_type": "execute_result"
    }
   ],
   "source": [
    "X_t = df[:-1] - df['Births'].mean()\n",
    "X_t.head()"
   ]
  },
  {
   "cell_type": "code",
   "execution_count": 4,
   "metadata": {},
   "outputs": [],
   "source": [
    "X_t_one = df[1:] - df['Births'].mean()"
   ]
  },
  {
   "cell_type": "code",
   "execution_count": 5,
   "metadata": {},
   "outputs": [
    {
     "data": {
      "text/html": [
       "<div>\n",
       "<style scoped>\n",
       "    .dataframe tbody tr th:only-of-type {\n",
       "        vertical-align: middle;\n",
       "    }\n",
       "\n",
       "    .dataframe tbody tr th {\n",
       "        vertical-align: top;\n",
       "    }\n",
       "\n",
       "    .dataframe thead th {\n",
       "        text-align: right;\n",
       "    }\n",
       "</style>\n",
       "<table border=\"1\" class=\"dataframe\">\n",
       "  <thead>\n",
       "    <tr style=\"text-align: right;\">\n",
       "      <th></th>\n",
       "      <th>Births</th>\n",
       "    </tr>\n",
       "    <tr>\n",
       "      <th>Date</th>\n",
       "      <th></th>\n",
       "    </tr>\n",
       "  </thead>\n",
       "  <tbody>\n",
       "    <tr>\n",
       "      <th>1959-01-02</th>\n",
       "      <td>-9.980822</td>\n",
       "    </tr>\n",
       "    <tr>\n",
       "      <th>1959-01-03</th>\n",
       "      <td>-11.980822</td>\n",
       "    </tr>\n",
       "    <tr>\n",
       "      <th>1959-01-04</th>\n",
       "      <td>-10.980822</td>\n",
       "    </tr>\n",
       "    <tr>\n",
       "      <th>1959-01-05</th>\n",
       "      <td>2.019178</td>\n",
       "    </tr>\n",
       "    <tr>\n",
       "      <th>1959-01-06</th>\n",
       "      <td>-12.980822</td>\n",
       "    </tr>\n",
       "  </tbody>\n",
       "</table>\n",
       "</div>"
      ],
      "text/plain": [
       "               Births\n",
       "Date                 \n",
       "1959-01-02  -9.980822\n",
       "1959-01-03 -11.980822\n",
       "1959-01-04 -10.980822\n",
       "1959-01-05   2.019178\n",
       "1959-01-06 -12.980822"
      ]
     },
     "execution_count": 5,
     "metadata": {},
     "output_type": "execute_result"
    }
   ],
   "source": [
    "X_t_one.head()"
   ]
  },
  {
   "cell_type": "code",
   "execution_count": 6,
   "metadata": {},
   "outputs": [
    {
     "data": {
      "text/html": [
       "<div>\n",
       "<style scoped>\n",
       "    .dataframe tbody tr th:only-of-type {\n",
       "        vertical-align: middle;\n",
       "    }\n",
       "\n",
       "    .dataframe tbody tr th {\n",
       "        vertical-align: top;\n",
       "    }\n",
       "\n",
       "    .dataframe thead th {\n",
       "        text-align: right;\n",
       "    }\n",
       "</style>\n",
       "<table border=\"1\" class=\"dataframe\">\n",
       "  <thead>\n",
       "    <tr style=\"text-align: right;\">\n",
       "      <th></th>\n",
       "      <th>Births</th>\n",
       "    </tr>\n",
       "    <tr>\n",
       "      <th>Date</th>\n",
       "      <th></th>\n",
       "    </tr>\n",
       "  </thead>\n",
       "  <tbody>\n",
       "    <tr>\n",
       "      <th>1959-12-26</th>\n",
       "      <td>-7.980822</td>\n",
       "    </tr>\n",
       "    <tr>\n",
       "      <th>1959-12-27</th>\n",
       "      <td>-4.980822</td>\n",
       "    </tr>\n",
       "    <tr>\n",
       "      <th>1959-12-28</th>\n",
       "      <td>10.019178</td>\n",
       "    </tr>\n",
       "    <tr>\n",
       "      <th>1959-12-29</th>\n",
       "      <td>6.019178</td>\n",
       "    </tr>\n",
       "    <tr>\n",
       "      <th>1959-12-30</th>\n",
       "      <td>13.019178</td>\n",
       "    </tr>\n",
       "  </tbody>\n",
       "</table>\n",
       "</div>"
      ],
      "text/plain": [
       "               Births\n",
       "Date                 \n",
       "1959-12-26  -7.980822\n",
       "1959-12-27  -4.980822\n",
       "1959-12-28  10.019178\n",
       "1959-12-29   6.019178\n",
       "1959-12-30  13.019178"
      ]
     },
     "execution_count": 6,
     "metadata": {},
     "output_type": "execute_result"
    }
   ],
   "source": [
    "X_t.tail()"
   ]
  },
  {
   "cell_type": "code",
   "execution_count": 7,
   "metadata": {},
   "outputs": [
    {
     "data": {
      "text/html": [
       "<div>\n",
       "<style scoped>\n",
       "    .dataframe tbody tr th:only-of-type {\n",
       "        vertical-align: middle;\n",
       "    }\n",
       "\n",
       "    .dataframe tbody tr th {\n",
       "        vertical-align: top;\n",
       "    }\n",
       "\n",
       "    .dataframe thead th {\n",
       "        text-align: right;\n",
       "    }\n",
       "</style>\n",
       "<table border=\"1\" class=\"dataframe\">\n",
       "  <thead>\n",
       "    <tr style=\"text-align: right;\">\n",
       "      <th></th>\n",
       "      <th>Births</th>\n",
       "    </tr>\n",
       "    <tr>\n",
       "      <th>Date</th>\n",
       "      <th></th>\n",
       "    </tr>\n",
       "  </thead>\n",
       "  <tbody>\n",
       "    <tr>\n",
       "      <th>1959-12-27</th>\n",
       "      <td>-4.980822</td>\n",
       "    </tr>\n",
       "    <tr>\n",
       "      <th>1959-12-28</th>\n",
       "      <td>10.019178</td>\n",
       "    </tr>\n",
       "    <tr>\n",
       "      <th>1959-12-29</th>\n",
       "      <td>6.019178</td>\n",
       "    </tr>\n",
       "    <tr>\n",
       "      <th>1959-12-30</th>\n",
       "      <td>13.019178</td>\n",
       "    </tr>\n",
       "    <tr>\n",
       "      <th>1959-12-31</th>\n",
       "      <td>8.019178</td>\n",
       "    </tr>\n",
       "  </tbody>\n",
       "</table>\n",
       "</div>"
      ],
      "text/plain": [
       "               Births\n",
       "Date                 \n",
       "1959-12-27  -4.980822\n",
       "1959-12-28  10.019178\n",
       "1959-12-29   6.019178\n",
       "1959-12-30  13.019178\n",
       "1959-12-31   8.019178"
      ]
     },
     "execution_count": 7,
     "metadata": {},
     "output_type": "execute_result"
    }
   ],
   "source": [
    "X_t_one.tail()"
   ]
  },
  {
   "cell_type": "code",
   "execution_count": 8,
   "metadata": {},
   "outputs": [],
   "source": [
    "X_t = df['Births'][:-10] - df['Births'].mean()"
   ]
  },
  {
   "cell_type": "code",
   "execution_count": 9,
   "metadata": {},
   "outputs": [
    {
     "data": {
      "text/plain": [
       "Date\n",
       "1959-01-01    -6.980822\n",
       "1959-01-02    -9.980822\n",
       "1959-01-03   -11.980822\n",
       "1959-01-04   -10.980822\n",
       "1959-01-05     2.019178\n",
       "Name: Births, dtype: float64"
      ]
     },
     "execution_count": 9,
     "metadata": {},
     "output_type": "execute_result"
    }
   ],
   "source": [
    "X_t.head()"
   ]
  },
  {
   "cell_type": "code",
   "execution_count": 10,
   "metadata": {},
   "outputs": [
    {
     "data": {
      "text/plain": [
       "Date\n",
       "1959-12-17    -2.980822\n",
       "1959-12-18    -1.980822\n",
       "1959-12-19     0.019178\n",
       "1959-12-20     0.019178\n",
       "1959-12-21    11.019178\n",
       "Name: Births, dtype: float64"
      ]
     },
     "execution_count": 10,
     "metadata": {},
     "output_type": "execute_result"
    }
   ],
   "source": [
    "X_t.tail()"
   ]
  },
  {
   "cell_type": "code",
   "execution_count": 11,
   "metadata": {},
   "outputs": [],
   "source": [
    "X_t_ten = df['Births'][10:] - df['Births'].mean()"
   ]
  },
  {
   "cell_type": "code",
   "execution_count": 12,
   "metadata": {},
   "outputs": [
    {
     "data": {
      "text/plain": [
       "Date\n",
       "1959-01-01    -6.980822\n",
       "1959-01-02    -9.980822\n",
       "1959-01-03   -11.980822\n",
       "1959-01-04   -10.980822\n",
       "1959-01-05     2.019178\n",
       "Name: Births, dtype: float64"
      ]
     },
     "execution_count": 12,
     "metadata": {},
     "output_type": "execute_result"
    }
   ],
   "source": [
    "X_t.head()"
   ]
  },
  {
   "cell_type": "code",
   "execution_count": 13,
   "metadata": {},
   "outputs": [
    {
     "data": {
      "text/plain": [
       "Date\n",
       "1959-01-11    -3.980822\n",
       "1959-01-12    -8.980822\n",
       "1959-01-13    13.019178\n",
       "1959-01-14     5.019178\n",
       "1959-01-15     3.019178\n",
       "Name: Births, dtype: float64"
      ]
     },
     "execution_count": 13,
     "metadata": {},
     "output_type": "execute_result"
    }
   ],
   "source": [
    "X_t_ten.head()"
   ]
  },
  {
   "cell_type": "code",
   "execution_count": 14,
   "metadata": {},
   "outputs": [
    {
     "data": {
      "text/plain": [
       "Date\n",
       "1959-12-17    -2.980822\n",
       "1959-12-18    -1.980822\n",
       "1959-12-19     0.019178\n",
       "1959-12-20     0.019178\n",
       "1959-12-21    11.019178\n",
       "Name: Births, dtype: float64"
      ]
     },
     "execution_count": 14,
     "metadata": {},
     "output_type": "execute_result"
    }
   ],
   "source": [
    "X_t.tail()"
   ]
  },
  {
   "cell_type": "code",
   "execution_count": 15,
   "metadata": {},
   "outputs": [
    {
     "data": {
      "text/plain": [
       "Date\n",
       "1959-12-27    -4.980822\n",
       "1959-12-28    10.019178\n",
       "1959-12-29     6.019178\n",
       "1959-12-30    13.019178\n",
       "1959-12-31     8.019178\n",
       "Name: Births, dtype: float64"
      ]
     },
     "execution_count": 15,
     "metadata": {},
     "output_type": "execute_result"
    }
   ],
   "source": [
    "X_t_ten.tail()"
   ]
  },
  {
   "cell_type": "code",
   "execution_count": 16,
   "metadata": {},
   "outputs": [],
   "source": [
    "X_covar = X_t.values * X_t_ten.values"
   ]
  },
  {
   "cell_type": "code",
   "execution_count": 17,
   "metadata": {},
   "outputs": [],
   "source": [
    "covar_10 = X_covar.sum() * (1/len(df))"
   ]
  },
  {
   "cell_type": "code",
   "execution_count": 18,
   "metadata": {},
   "outputs": [
    {
     "data": {
      "text/plain": [
       "0.047684223019652146"
      ]
     },
     "execution_count": 18,
     "metadata": {},
     "output_type": "execute_result"
    }
   ],
   "source": [
    "covar_10 / df['Births'].var()"
   ]
  },
  {
   "cell_type": "code",
   "execution_count": 19,
   "metadata": {},
   "outputs": [],
   "source": [
    "flights = pd.read_csv('data/AirPassengers.csv', index_col='Month', parse_dates=True)"
   ]
  },
  {
   "cell_type": "code",
   "execution_count": 20,
   "metadata": {},
   "outputs": [
    {
     "data": {
      "text/plain": [
       "<matplotlib.axes._subplots.AxesSubplot at 0x181015365c0>"
      ]
     },
     "execution_count": 20,
     "metadata": {},
     "output_type": "execute_result"
    },
    {
     "data": {
      "image/png": "[encoded data removed]",
      "text/plain": [
       "<Figure size 432x288 with 1 Axes>"
      ]
     },
     "metadata": {
      "needs_background": "light"
     },
     "output_type": "display_data"
    }
   ],
   "source": [
    "%matplotlib inline\n",
    "flights.plot()"
   ]
  },
  {
   "cell_type": "code",
   "execution_count": 21,
   "metadata": {},
   "outputs": [
    {
     "data": {
      "image/png": "[encoded data removed]",
      "text/plain": [
       "<Figure size 432x288 with 1 Axes>"
      ]
     },
     "metadata": {
      "needs_background": "light"
     },
     "output_type": "display_data"
    }
   ],
   "source": [
    "from pandas.plotting import autocorrelation_plot\n",
    "\n",
    "autocorrelation_plot(flights);"
   ]
  },
  {
   "cell_type": "code",
   "execution_count": 22,
   "metadata": {},
   "outputs": [
    {
     "data": {
      "text/html": [
       "<div>\n",
       "<style scoped>\n",
       "    .dataframe tbody tr th:only-of-type {\n",
       "        vertical-align: middle;\n",
       "    }\n",
       "\n",
       "    .dataframe tbody tr th {\n",
       "        vertical-align: top;\n",
       "    }\n",
       "\n",
       "    .dataframe thead th {\n",
       "        text-align: right;\n",
       "    }\n",
       "</style>\n",
       "<table border=\"1\" class=\"dataframe\">\n",
       "  <thead>\n",
       "    <tr style=\"text-align: right;\">\n",
       "      <th></th>\n",
       "      <th>Passengers</th>\n",
       "    </tr>\n",
       "    <tr>\n",
       "      <th>Month</th>\n",
       "      <th></th>\n",
       "    </tr>\n",
       "  </thead>\n",
       "  <tbody>\n",
       "    <tr>\n",
       "      <th>1949-01-01</th>\n",
       "      <td>NaN</td>\n",
       "    </tr>\n",
       "    <tr>\n",
       "      <th>1949-02-01</th>\n",
       "      <td>NaN</td>\n",
       "    </tr>\n",
       "    <tr>\n",
       "      <th>1949-03-01</th>\n",
       "      <td>NaN</td>\n",
       "    </tr>\n",
       "    <tr>\n",
       "      <th>1949-04-01</th>\n",
       "      <td>NaN</td>\n",
       "    </tr>\n",
       "    <tr>\n",
       "      <th>1949-05-01</th>\n",
       "      <td>NaN</td>\n",
       "    </tr>\n",
       "    <tr>\n",
       "      <th>1949-06-01</th>\n",
       "      <td>NaN</td>\n",
       "    </tr>\n",
       "    <tr>\n",
       "      <th>1949-07-01</th>\n",
       "      <td>NaN</td>\n",
       "    </tr>\n",
       "    <tr>\n",
       "      <th>1949-08-01</th>\n",
       "      <td>NaN</td>\n",
       "    </tr>\n",
       "    <tr>\n",
       "      <th>1949-09-01</th>\n",
       "      <td>NaN</td>\n",
       "    </tr>\n",
       "    <tr>\n",
       "      <th>1949-10-01</th>\n",
       "      <td>NaN</td>\n",
       "    </tr>\n",
       "    <tr>\n",
       "      <th>1949-11-01</th>\n",
       "      <td>NaN</td>\n",
       "    </tr>\n",
       "    <tr>\n",
       "      <th>1949-12-01</th>\n",
       "      <td>NaN</td>\n",
       "    </tr>\n",
       "    <tr>\n",
       "      <th>1950-01-01</th>\n",
       "      <td>NaN</td>\n",
       "    </tr>\n",
       "    <tr>\n",
       "      <th>1950-02-01</th>\n",
       "      <td>5.0</td>\n",
       "    </tr>\n",
       "    <tr>\n",
       "      <th>1950-03-01</th>\n",
       "      <td>1.0</td>\n",
       "    </tr>\n",
       "    <tr>\n",
       "      <th>1950-04-01</th>\n",
       "      <td>-3.0</td>\n",
       "    </tr>\n",
       "    <tr>\n",
       "      <th>1950-05-01</th>\n",
       "      <td>-2.0</td>\n",
       "    </tr>\n",
       "    <tr>\n",
       "      <th>1950-06-01</th>\n",
       "      <td>10.0</td>\n",
       "    </tr>\n",
       "    <tr>\n",
       "      <th>1950-07-01</th>\n",
       "      <td>8.0</td>\n",
       "    </tr>\n",
       "    <tr>\n",
       "      <th>1950-08-01</th>\n",
       "      <td>0.0</td>\n",
       "    </tr>\n",
       "    <tr>\n",
       "      <th>1950-09-01</th>\n",
       "      <td>0.0</td>\n",
       "    </tr>\n",
       "    <tr>\n",
       "      <th>1950-10-01</th>\n",
       "      <td>-8.0</td>\n",
       "    </tr>\n",
       "    <tr>\n",
       "      <th>1950-11-01</th>\n",
       "      <td>-4.0</td>\n",
       "    </tr>\n",
       "    <tr>\n",
       "      <th>1950-12-01</th>\n",
       "      <td>12.0</td>\n",
       "    </tr>\n",
       "    <tr>\n",
       "      <th>1951-01-01</th>\n",
       "      <td>8.0</td>\n",
       "    </tr>\n",
       "    <tr>\n",
       "      <th>1951-02-01</th>\n",
       "      <td>-6.0</td>\n",
       "    </tr>\n",
       "    <tr>\n",
       "      <th>1951-03-01</th>\n",
       "      <td>13.0</td>\n",
       "    </tr>\n",
       "    <tr>\n",
       "      <th>1951-04-01</th>\n",
       "      <td>-9.0</td>\n",
       "    </tr>\n",
       "    <tr>\n",
       "      <th>1951-05-01</th>\n",
       "      <td>19.0</td>\n",
       "    </tr>\n",
       "    <tr>\n",
       "      <th>1951-06-01</th>\n",
       "      <td>-18.0</td>\n",
       "    </tr>\n",
       "    <tr>\n",
       "      <th>...</th>\n",
       "      <td>...</td>\n",
       "    </tr>\n",
       "    <tr>\n",
       "      <th>1958-07-01</th>\n",
       "      <td>13.0</td>\n",
       "    </tr>\n",
       "    <tr>\n",
       "      <th>1958-08-01</th>\n",
       "      <td>12.0</td>\n",
       "    </tr>\n",
       "    <tr>\n",
       "      <th>1958-09-01</th>\n",
       "      <td>-38.0</td>\n",
       "    </tr>\n",
       "    <tr>\n",
       "      <th>1958-10-01</th>\n",
       "      <td>12.0</td>\n",
       "    </tr>\n",
       "    <tr>\n",
       "      <th>1958-11-01</th>\n",
       "      <td>-7.0</td>\n",
       "    </tr>\n",
       "    <tr>\n",
       "      <th>1958-12-01</th>\n",
       "      <td>-4.0</td>\n",
       "    </tr>\n",
       "    <tr>\n",
       "      <th>1959-01-01</th>\n",
       "      <td>19.0</td>\n",
       "    </tr>\n",
       "    <tr>\n",
       "      <th>1959-02-01</th>\n",
       "      <td>4.0</td>\n",
       "    </tr>\n",
       "    <tr>\n",
       "      <th>1959-03-01</th>\n",
       "      <td>20.0</td>\n",
       "    </tr>\n",
       "    <tr>\n",
       "      <th>1959-04-01</th>\n",
       "      <td>4.0</td>\n",
       "    </tr>\n",
       "    <tr>\n",
       "      <th>1959-05-01</th>\n",
       "      <td>9.0</td>\n",
       "    </tr>\n",
       "    <tr>\n",
       "      <th>1959-06-01</th>\n",
       "      <td>-20.0</td>\n",
       "    </tr>\n",
       "    <tr>\n",
       "      <th>1959-07-01</th>\n",
       "      <td>20.0</td>\n",
       "    </tr>\n",
       "    <tr>\n",
       "      <th>1959-08-01</th>\n",
       "      <td>-3.0</td>\n",
       "    </tr>\n",
       "    <tr>\n",
       "      <th>1959-09-01</th>\n",
       "      <td>5.0</td>\n",
       "    </tr>\n",
       "    <tr>\n",
       "      <th>1959-10-01</th>\n",
       "      <td>-11.0</td>\n",
       "    </tr>\n",
       "    <tr>\n",
       "      <th>1959-11-01</th>\n",
       "      <td>4.0</td>\n",
       "    </tr>\n",
       "    <tr>\n",
       "      <th>1959-12-01</th>\n",
       "      <td>16.0</td>\n",
       "    </tr>\n",
       "    <tr>\n",
       "      <th>1960-01-01</th>\n",
       "      <td>-11.0</td>\n",
       "    </tr>\n",
       "    <tr>\n",
       "      <th>1960-02-01</th>\n",
       "      <td>-8.0</td>\n",
       "    </tr>\n",
       "    <tr>\n",
       "      <th>1960-03-01</th>\n",
       "      <td>-36.0</td>\n",
       "    </tr>\n",
       "    <tr>\n",
       "      <th>1960-04-01</th>\n",
       "      <td>52.0</td>\n",
       "    </tr>\n",
       "    <tr>\n",
       "      <th>1960-05-01</th>\n",
       "      <td>-13.0</td>\n",
       "    </tr>\n",
       "    <tr>\n",
       "      <th>1960-06-01</th>\n",
       "      <td>11.0</td>\n",
       "    </tr>\n",
       "    <tr>\n",
       "      <th>1960-07-01</th>\n",
       "      <td>11.0</td>\n",
       "    </tr>\n",
       "    <tr>\n",
       "      <th>1960-08-01</th>\n",
       "      <td>-27.0</td>\n",
       "    </tr>\n",
       "    <tr>\n",
       "      <th>1960-09-01</th>\n",
       "      <td>-2.0</td>\n",
       "    </tr>\n",
       "    <tr>\n",
       "      <th>1960-10-01</th>\n",
       "      <td>9.0</td>\n",
       "    </tr>\n",
       "    <tr>\n",
       "      <th>1960-11-01</th>\n",
       "      <td>-26.0</td>\n",
       "    </tr>\n",
       "    <tr>\n",
       "      <th>1960-12-01</th>\n",
       "      <td>-1.0</td>\n",
       "    </tr>\n",
       "  </tbody>\n",
       "</table>\n",
       "<p>144 rows × 1 columns</p>\n",
       "</div>"
      ],
      "text/plain": [
       "            Passengers\n",
       "Month                 \n",
       "1949-01-01         NaN\n",
       "1949-02-01         NaN\n",
       "1949-03-01         NaN\n",
       "1949-04-01         NaN\n",
       "1949-05-01         NaN\n",
       "1949-06-01         NaN\n",
       "1949-07-01         NaN\n",
       "1949-08-01         NaN\n",
       "1949-09-01         NaN\n",
       "1949-10-01         NaN\n",
       "1949-11-01         NaN\n",
       "1949-12-01         NaN\n",
       "1950-01-01         NaN\n",
       "1950-02-01         5.0\n",
       "1950-03-01         1.0\n",
       "1950-04-01        -3.0\n",
       "1950-05-01        -2.0\n",
       "1950-06-01        10.0\n",
       "1950-07-01         8.0\n",
       "1950-08-01         0.0\n",
       "1950-09-01         0.0\n",
       "1950-10-01        -8.0\n",
       "1950-11-01        -4.0\n",
       "1950-12-01        12.0\n",
       "1951-01-01         8.0\n",
       "1951-02-01        -6.0\n",
       "1951-03-01        13.0\n",
       "1951-04-01        -9.0\n",
       "1951-05-01        19.0\n",
       "1951-06-01       -18.0\n",
       "...                ...\n",
       "1958-07-01        13.0\n",
       "1958-08-01        12.0\n",
       "1958-09-01       -38.0\n",
       "1958-10-01        12.0\n",
       "1958-11-01        -7.0\n",
       "1958-12-01        -4.0\n",
       "1959-01-01        19.0\n",
       "1959-02-01         4.0\n",
       "1959-03-01        20.0\n",
       "1959-04-01         4.0\n",
       "1959-05-01         9.0\n",
       "1959-06-01       -20.0\n",
       "1959-07-01        20.0\n",
       "1959-08-01        -3.0\n",
       "1959-09-01         5.0\n",
       "1959-10-01       -11.0\n",
       "1959-11-01         4.0\n",
       "1959-12-01        16.0\n",
       "1960-01-01       -11.0\n",
       "1960-02-01        -8.0\n",
       "1960-03-01       -36.0\n",
       "1960-04-01        52.0\n",
       "1960-05-01       -13.0\n",
       "1960-06-01        11.0\n",
       "1960-07-01        11.0\n",
       "1960-08-01       -27.0\n",
       "1960-09-01        -2.0\n",
       "1960-10-01         9.0\n",
       "1960-11-01       -26.0\n",
       "1960-12-01        -1.0\n",
       "\n",
       "[144 rows x 1 columns]"
      ]
     },
     "execution_count": 22,
     "metadata": {},
     "output_type": "execute_result"
    }
   ],
   "source": [
    "flights.diff().diff(periods=12)"
   ]
  },
  {
   "cell_type": "code",
   "execution_count": 23,
   "metadata": {},
   "outputs": [],
   "source": [
    "msft = pd.read_csv('data/msft.csv', index_col='Date', parse_dates=True)"
   ]
  },
  {
   "cell_type": "code",
   "execution_count": 24,
   "metadata": {},
   "outputs": [
    {
     "data": {
      "text/html": [
       "<div>\n",
       "<style scoped>\n",
       "    .dataframe tbody tr th:only-of-type {\n",
       "        vertical-align: middle;\n",
       "    }\n",
       "\n",
       "    .dataframe tbody tr th {\n",
       "        vertical-align: top;\n",
       "    }\n",
       "\n",
       "    .dataframe thead th {\n",
       "        text-align: right;\n",
       "    }\n",
       "</style>\n",
       "<table border=\"1\" class=\"dataframe\">\n",
       "  <thead>\n",
       "    <tr style=\"text-align: right;\">\n",
       "      <th></th>\n",
       "      <th>Close</th>\n",
       "    </tr>\n",
       "    <tr>\n",
       "      <th>Date</th>\n",
       "      <th></th>\n",
       "    </tr>\n",
       "  </thead>\n",
       "  <tbody>\n",
       "    <tr>\n",
       "      <th>1986-03-01</th>\n",
       "      <td>0.095486</td>\n",
       "    </tr>\n",
       "    <tr>\n",
       "      <th>1986-04-01</th>\n",
       "      <td>0.111979</td>\n",
       "    </tr>\n",
       "    <tr>\n",
       "      <th>1986-05-01</th>\n",
       "      <td>0.121528</td>\n",
       "    </tr>\n",
       "    <tr>\n",
       "      <th>1986-06-01</th>\n",
       "      <td>0.106771</td>\n",
       "    </tr>\n",
       "    <tr>\n",
       "      <th>1986-07-01</th>\n",
       "      <td>0.098958</td>\n",
       "    </tr>\n",
       "  </tbody>\n",
       "</table>\n",
       "</div>"
      ],
      "text/plain": [
       "               Close\n",
       "Date                \n",
       "1986-03-01  0.095486\n",
       "1986-04-01  0.111979\n",
       "1986-05-01  0.121528\n",
       "1986-06-01  0.106771\n",
       "1986-07-01  0.098958"
      ]
     },
     "execution_count": 24,
     "metadata": {},
     "output_type": "execute_result"
    }
   ],
   "source": [
    "msft.head()"
   ]
  },
  {
   "cell_type": "code",
   "execution_count": 25,
   "metadata": {},
   "outputs": [
    {
     "data": {
      "image/png": "[encoded data removed]",
      "text/plain": [
       "<Figure size 432x288 with 1 Axes>"
      ]
     },
     "metadata": {
      "needs_background": "light"
     },
     "output_type": "display_data"
    }
   ],
   "source": [
    "msft.plot();"
   ]
  },
  {
   "cell_type": "code",
   "execution_count": 26,
   "metadata": {},
   "outputs": [
    {
     "data": {
      "text/plain": [
       "<matplotlib.axes._subplots.AxesSubplot at 0x1810194e518>"
      ]
     },
     "execution_count": 26,
     "metadata": {},
     "output_type": "execute_result"
    },
    {
     "data": {
      "image/png": "[encoded data removed]",
      "text/plain": [
       "<Figure size 432x288 with 1 Axes>"
      ]
     },
     "metadata": {
      "needs_background": "light"
     },
     "output_type": "display_data"
    }
   ],
   "source": [
    "autocorrelation_plot(msft)"
   ]
  },
  {
   "cell_type": "code",
   "execution_count": 27,
   "metadata": {},
   "outputs": [
    {
     "data": {
      "text/plain": [
       "<matplotlib.axes._subplots.AxesSubplot at 0x1810191c630>"
      ]
     },
     "execution_count": 27,
     "metadata": {},
     "output_type": "execute_result"
    },
    {
     "data": {
      "image/png": "[encoded data removed]",
      "text/plain": [
       "<Figure size 432x288 with 1 Axes>"
      ]
     },
     "metadata": {
      "needs_background": "light"
     },
     "output_type": "display_data"
    }
   ],
   "source": [
    "msft.Close.diff().plot()"
   ]
  },
  {
   "cell_type": "code",
   "execution_count": 28,
   "metadata": {},
   "outputs": [
    {
     "data": {
      "text/plain": [
       "<matplotlib.axes._subplots.AxesSubplot at 0x18101a20cf8>"
      ]
     },
     "execution_count": 28,
     "metadata": {},
     "output_type": "execute_result"
    },
    {
     "data": {
      "image/png": "[encoded data removed]",
      "text/plain": [
       "<Figure size 432x288 with 1 Axes>"
      ]
     },
     "metadata": {
      "needs_background": "light"
     },
     "output_type": "display_data"
    }
   ],
   "source": [
    "autocorrelation_plot(msft.Close.diff()[1:])"
   ]
  },
  {
   "cell_type": "code",
   "execution_count": 29,
   "metadata": {},
   "outputs": [],
   "source": [
    "msft['LogPrice'] = np.log(msft.Close)"
   ]
  },
  {
   "cell_type": "code",
   "execution_count": 30,
   "metadata": {},
   "outputs": [
    {
     "data": {
      "text/plain": [
       "<matplotlib.axes._subplots.AxesSubplot at 0x18101aae6d8>"
      ]
     },
     "execution_count": 30,
     "metadata": {},
     "output_type": "execute_result"
    },
    {
     "data": {
      "image/png": "[encoded data removed]",
      "text/plain": [
       "<Figure size 432x288 with 1 Axes>"
      ]
     },
     "metadata": {
      "needs_background": "light"
     },
     "output_type": "display_data"
    }
   ],
   "source": [
    "autocorrelation_plot(msft.LogPrice.diff()[1:])"
   ]
  },
  {
   "cell_type": "code",
   "execution_count": 31,
   "metadata": {},
   "outputs": [
    {
     "data": {
      "text/plain": [
       "<matplotlib.axes._subplots.AxesSubplot at 0x18101b28e80>"
      ]
     },
     "execution_count": 31,
     "metadata": {},
     "output_type": "execute_result"
    },
    {
     "data": {
      "image/png": "[encoded data removed]",
      "text/plain": [
       "<Figure size 432x288 with 1 Axes>"
      ]
     },
     "metadata": {
      "needs_background": "light"
     },
     "output_type": "display_data"
    }
   ],
   "source": [
    "msft.LogPrice.diff().plot()"
   ]
  },
  {
   "cell_type": "code",
   "execution_count": 32,
   "metadata": {},
   "outputs": [
    {
     "data": {
      "text/plain": [
       "array([[<matplotlib.axes._subplots.AxesSubplot object at 0x0000018101B28B00>,\n",
       "        <matplotlib.axes._subplots.AxesSubplot object at 0x0000018101BB4470>]],\n",
       "      dtype=object)"
      ]
     },
     "execution_count": 32,
     "metadata": {},
     "output_type": "execute_result"
    },
    {
     "data": {
      "image/png": "[encoded data removed]",
      "text/plain": [
       "<Figure size 432x288 with 2 Axes>"
      ]
     },
     "metadata": {
      "needs_background": "light"
     },
     "output_type": "display_data"
    }
   ],
   "source": [
    "msft.diff().hist()"
   ]
  },
  {
   "cell_type": "code",
   "execution_count": 33,
   "metadata": {},
   "outputs": [],
   "source": [
    "from scipy.stats import shapiro"
   ]
  },
  {
   "cell_type": "code",
   "execution_count": 45,
   "metadata": {},
   "outputs": [
    {
     "data": {
      "text/plain": [
       "(0.9727300405502319, 7.605570999658084e-07)"
      ]
     },
     "execution_count": 45,
     "metadata": {},
     "output_type": "execute_result"
    }
   ],
   "source": [
    "shapiro(data)"
   ]
  },
  {
   "cell_type": "code",
   "execution_count": 38,
   "metadata": {},
   "outputs": [
    {
     "data": {
      "text/plain": [
       "(0.9964325428009033, 0.9266334772109985)"
      ]
     },
     "execution_count": 38,
     "metadata": {},
     "output_type": "execute_result"
    }
   ],
   "source": [
    "shapiro(np.random.randn(200))"
   ]
  },
  {
   "cell_type": "code",
   "execution_count": 41,
   "metadata": {},
   "outputs": [],
   "source": [
    "data = (msft.LogPrice.diff()[1:] - msft.LogPrice.diff().mean()) / msft.LogPrice.std()"
   ]
  },
  {
   "cell_type": "code",
   "execution_count": 42,
   "metadata": {},
   "outputs": [
    {
     "data": {
      "text/plain": [
       "9.666120861164299e-18"
      ]
     },
     "execution_count": 42,
     "metadata": {},
     "output_type": "execute_result"
    }
   ],
   "source": [
    "data.mean()"
   ]
  },
  {
   "cell_type": "code",
   "execution_count": 44,
   "metadata": {},
   "outputs": [
    {
     "data": {
      "image/png": "[encoded data removed]",
      "text/plain": [
       "<Figure size 432x288 with 1 Axes>"
      ]
     },
     "metadata": {
      "needs_background": "light"
     },
     "output_type": "display_data"
    }
   ],
   "source": [
    "data.hist();"
   ]
  },
  {
   "cell_type": "code",
   "execution_count": 47,
   "metadata": {},
   "outputs": [
    {
     "data": {
      "text/plain": [
       "<matplotlib.axes._subplots.AxesSubplot at 0x18102c0d2b0>"
      ]
     },
     "execution_count": 47,
     "metadata": {},
     "output_type": "execute_result"
    },
    {
     "data": {
      "image/png": "[encoded data removed]",
      "text/plain": [
       "<Figure size 432x288 with 1 Axes>"
      ]
     },
     "metadata": {
      "needs_background": "light"
     },
     "output_type": "display_data"
    }
   ],
   "source": [
    "data.plot(kind='box')"
   ]
  },
  {
   "cell_type": "code",
   "execution_count": 49,
   "metadata": {},
   "outputs": [
    {
     "data": {
      "image/png": "[encoded data removed]",
      "text/plain": [
       "<Figure size 432x288 with 1 Axes>"
      ]
     },
     "execution_count": 49,
     "metadata": {},
     "output_type": "execute_result"
    },
    {
     "data": {
      "image/png": "[encoded data removed]",
      "text/plain": [
       "<Figure size 432x288 with 1 Axes>"
      ]
     },
     "metadata": {
      "needs_background": "light"
     },
     "output_type": "display_data"
    }
   ],
   "source": [
    "from statsmodels.graphics.gofplots import qqplot\n",
    "\n",
    "qqplot(data, line='s')"
   ]
  },
  {
   "cell_type": "code",
   "execution_count": 52,
   "metadata": {},
   "outputs": [
    {
     "data": {
      "text/plain": [
       "((array([-2.92491329, -2.63704988, -2.47473077, -2.35940482, -2.26889212,\n",
       "         -2.19385968, -2.12946134, -2.07284485, -2.02218414, -1.97623698,\n",
       "         -1.93411854, -1.89517542, -1.85891084, -1.82493798, -1.7929495 ,\n",
       "         -1.76269698, -1.73397667, -1.70661931, -1.68048266, -1.65544603,\n",
       "         -1.63140606, -1.60827356, -1.58597099, -1.56443051, -1.54359238,\n",
       "         -1.52340375, -1.50381761, -1.48479195, -1.46628905, -1.44827496,\n",
       "         -1.43071895, -1.41359316, -1.39687221, -1.38053294, -1.36455415,\n",
       "         -1.34891635, -1.33360163, -1.31859347, -1.30387657, -1.28943678,\n",
       "         -1.27526096, -1.26133687, -1.24765312, -1.23419909, -1.22096483,\n",
       "         -1.20794102, -1.19511895, -1.1824904 , -1.17004768, -1.15778351,\n",
       "         -1.14569106, -1.13376385, -1.1219958 , -1.1103811 , -1.0989143 ,\n",
       "         -1.08759019, -1.07640387, -1.06535064, -1.05442606, -1.0436259 ,\n",
       "         -1.03294611, -1.02238286, -1.01193248, -1.00159145, -0.99135644,\n",
       "         -0.98122424, -0.97119178, -0.96125614, -0.95141449, -0.94166414,\n",
       "         -0.93200251, -0.9224271 , -0.91293552, -0.90352549, -0.8941948 ,\n",
       "         -0.88494131, -0.87576298, -0.86665784, -0.857624  , -0.8486596 ,\n",
       "         -0.83976289, -0.83093216, -0.82216576, -0.81346208, -0.8048196 ,\n",
       "         -0.79623682, -0.7877123 , -0.77924463, -0.77083248, -0.76247452,\n",
       "         -0.75416949, -0.74591615, -0.73771332, -0.72955982, -0.72145454,\n",
       "         -0.71339638, -0.70538428, -0.69741721, -0.68949416, -0.68161416,\n",
       "         -0.67377626, -0.66597954, -0.65822309, -0.65050604, -0.64282754,\n",
       "         -0.63518675, -0.62758287, -0.6200151 , -0.61248267, -0.60498484,\n",
       "         -0.59752086, -0.59009003, -0.58269164, -0.575325  , -0.56798946,\n",
       "         -0.56068435, -0.55340904, -0.54616291, -0.53894534, -0.53175574,\n",
       "         -0.52459352, -0.51745811, -0.51034895, -0.50326549, -0.49620719,\n",
       "         -0.48917353, -0.48216398, -0.47517805, -0.46821523, -0.46127503,\n",
       "         -0.45435699, -0.44746062, -0.44058546, -0.43373107, -0.426897  ,\n",
       "         -0.42008281, -0.41328806, -0.40651235, -0.39975525, -0.39301635,\n",
       "         -0.38629525, -0.37959156, -0.37290488, -0.36623483, -0.35958104,\n",
       "         -0.35294313, -0.34632074, -0.3397135 , -0.33312105, -0.32654305,\n",
       "         -0.31997916, -0.31342902, -0.3068923 , -0.30036866, -0.29385779,\n",
       "         -0.28735934, -0.28087301, -0.27439848, -0.26793543, -0.26148355,\n",
       "         -0.25504254, -0.24861209, -0.24219191, -0.23578169, -0.22938115,\n",
       "         -0.22298999, -0.21660792, -0.21023467, -0.20386994, -0.19751347,\n",
       "         -0.19116496, -0.18482415, -0.17849076, -0.17216452, -0.16584517,\n",
       "         -0.15953243, -0.15322604, -0.14692574, -0.14063127, -0.13434236,\n",
       "         -0.12805876, -0.12178022, -0.11550647, -0.10923727, -0.10297235,\n",
       "         -0.09671148, -0.09045439, -0.08420084, -0.07795059, -0.07170337,\n",
       "         -0.06545896, -0.0592171 , -0.05297754, -0.04674004, -0.04050437,\n",
       "         -0.03427026, -0.02803749, -0.02180581, -0.01557497, -0.00934474,\n",
       "         -0.00311487,  0.00311487,  0.00934474,  0.01557497,  0.02180581,\n",
       "          0.02803749,  0.03427026,  0.04050437,  0.04674004,  0.05297754,\n",
       "          0.0592171 ,  0.06545896,  0.07170337,  0.07795059,  0.08420084,\n",
       "          0.09045439,  0.09671148,  0.10297235,  0.10923727,  0.11550647,\n",
       "          0.12178022,  0.12805876,  0.13434236,  0.14063127,  0.14692574,\n",
       "          0.15322604,  0.15953243,  0.16584517,  0.17216452,  0.17849076,\n",
       "          0.18482415,  0.19116496,  0.19751347,  0.20386994,  0.21023467,\n",
       "          0.21660792,  0.22298999,  0.22938115,  0.23578169,  0.24219191,\n",
       "          0.24861209,  0.25504254,  0.26148355,  0.26793543,  0.27439848,\n",
       "          0.28087301,  0.28735934,  0.29385779,  0.30036866,  0.3068923 ,\n",
       "          0.31342902,  0.31997916,  0.32654305,  0.33312105,  0.3397135 ,\n",
       "          0.34632074,  0.35294313,  0.35958104,  0.36623483,  0.37290488,\n",
       "          0.37959156,  0.38629525,  0.39301635,  0.39975525,  0.40651235,\n",
       "          0.41328806,  0.42008281,  0.426897  ,  0.43373107,  0.44058546,\n",
       "          0.44746062,  0.45435699,  0.46127503,  0.46821523,  0.47517805,\n",
       "          0.48216398,  0.48917353,  0.49620719,  0.50326549,  0.51034895,\n",
       "          0.51745811,  0.52459352,  0.53175574,  0.53894534,  0.54616291,\n",
       "          0.55340904,  0.56068435,  0.56798946,  0.575325  ,  0.58269164,\n",
       "          0.59009003,  0.59752086,  0.60498484,  0.61248267,  0.6200151 ,\n",
       "          0.62758287,  0.63518675,  0.64282754,  0.65050604,  0.65822309,\n",
       "          0.66597954,  0.67377626,  0.68161416,  0.68949416,  0.69741721,\n",
       "          0.70538428,  0.71339638,  0.72145454,  0.72955982,  0.73771332,\n",
       "          0.74591615,  0.75416949,  0.76247452,  0.77083248,  0.77924463,\n",
       "          0.7877123 ,  0.79623682,  0.8048196 ,  0.81346208,  0.82216576,\n",
       "          0.83093216,  0.83976289,  0.8486596 ,  0.857624  ,  0.86665784,\n",
       "          0.87576298,  0.88494131,  0.8941948 ,  0.90352549,  0.91293552,\n",
       "          0.9224271 ,  0.93200251,  0.94166414,  0.95141449,  0.96125614,\n",
       "          0.97119178,  0.98122424,  0.99135644,  1.00159145,  1.01193248,\n",
       "          1.02238286,  1.03294611,  1.0436259 ,  1.05442606,  1.06535064,\n",
       "          1.07640387,  1.08759019,  1.0989143 ,  1.1103811 ,  1.1219958 ,\n",
       "          1.13376385,  1.14569106,  1.15778351,  1.17004768,  1.1824904 ,\n",
       "          1.19511895,  1.20794102,  1.22096483,  1.23419909,  1.24765312,\n",
       "          1.26133687,  1.27526096,  1.28943678,  1.30387657,  1.31859347,\n",
       "          1.33360163,  1.34891635,  1.36455415,  1.38053294,  1.39687221,\n",
       "          1.41359316,  1.43071895,  1.44827496,  1.46628905,  1.48479195,\n",
       "          1.50381761,  1.52340375,  1.54359238,  1.56443051,  1.58597099,\n",
       "          1.60827356,  1.63140606,  1.65544603,  1.68048266,  1.70661931,\n",
       "          1.73397667,  1.76269698,  1.7929495 ,  1.82493798,  1.85891084,\n",
       "          1.89517542,  1.93411854,  1.97623698,  2.02218414,  2.07284485,\n",
       "          2.12946134,  2.19385968,  2.26889212,  2.35940482,  2.47473077,\n",
       "          2.63704988,  2.92491329]),\n",
       "  array([-2.51377541e-01, -1.74377861e-01, -1.70541464e-01, -1.14967314e-01,\n",
       "         -1.14057094e-01, -1.12489484e-01, -1.11400178e-01, -1.11335980e-01,\n",
       "         -1.09966756e-01, -1.09576669e-01, -1.06937239e-01, -9.81492307e-02,\n",
       "         -9.54482347e-02, -9.41152166e-02, -9.23931663e-02, -9.15703990e-02,\n",
       "         -9.02627163e-02, -8.92774477e-02, -8.83547664e-02, -8.83538920e-02,\n",
       "         -8.68181574e-02, -8.61415687e-02, -8.54136496e-02, -8.44852547e-02,\n",
       "         -8.37957679e-02, -8.02889180e-02, -7.86677729e-02, -7.83343104e-02,\n",
       "         -7.63131441e-02, -7.58876078e-02, -7.30282680e-02, -7.26399745e-02,\n",
       "         -7.26266143e-02, -7.10041746e-02, -6.88098304e-02, -6.71903923e-02,\n",
       "         -6.64293554e-02, -6.60883343e-02, -6.47737083e-02, -6.33393994e-02,\n",
       "         -6.26001038e-02, -6.25770418e-02, -6.23748003e-02, -6.22035954e-02,\n",
       "         -6.07732307e-02, -6.07616526e-02, -6.06225692e-02, -6.01063967e-02,\n",
       "         -5.93512220e-02, -5.71223771e-02, -5.69597960e-02, -5.58737110e-02,\n",
       "         -5.54121218e-02, -5.52780874e-02, -5.51097388e-02, -5.38650431e-02,\n",
       "         -5.38143278e-02, -5.36010502e-02, -5.16725688e-02, -5.12335567e-02,\n",
       "         -5.07340113e-02, -5.02301676e-02, -5.01464244e-02, -4.95105848e-02,\n",
       "         -4.88768581e-02, -4.88275041e-02, -4.83983341e-02, -4.71230647e-02,\n",
       "         -4.70693471e-02, -4.59696596e-02, -4.59415113e-02, -4.56060062e-02,\n",
       "         -4.55469985e-02, -4.51394618e-02, -4.44618708e-02, -4.30799348e-02,\n",
       "         -4.29095752e-02, -4.15240919e-02, -4.14528170e-02, -3.96803246e-02,\n",
       "         -3.88235659e-02, -3.87696251e-02, -3.69971149e-02, -3.65772211e-02,\n",
       "         -3.61859251e-02, -3.52881586e-02, -3.47805753e-02, -3.46036568e-02,\n",
       "         -3.46026545e-02, -3.43178889e-02, -3.40263672e-02, -3.40142279e-02,\n",
       "         -3.35765872e-02, -3.34467715e-02, -3.33838362e-02, -3.33355419e-02,\n",
       "         -3.28751443e-02, -3.27346153e-02, -3.25601197e-02, -3.22609766e-02,\n",
       "         -3.20618596e-02, -3.17074797e-02, -3.16968089e-02, -3.14185117e-02,\n",
       "         -3.11736780e-02, -3.09858037e-02, -3.08133593e-02, -3.04694045e-02,\n",
       "         -3.03983815e-02, -3.03892798e-02, -3.00238279e-02, -2.82839385e-02,\n",
       "         -2.78774896e-02, -2.73157633e-02, -2.70744785e-02, -2.69812469e-02,\n",
       "         -2.69646460e-02, -2.68728228e-02, -2.65116399e-02, -2.58216379e-02,\n",
       "         -2.53342940e-02, -2.30776252e-02, -2.28642549e-02, -2.28557093e-02,\n",
       "         -2.12633379e-02, -2.11744414e-02, -2.04436932e-02, -1.98549414e-02,\n",
       "         -1.98449812e-02, -1.98008325e-02, -1.97505635e-02, -1.86490141e-02,\n",
       "         -1.78695154e-02, -1.78569910e-02, -1.64775837e-02, -1.64011033e-02,\n",
       "         -1.63120178e-02, -1.62840610e-02, -1.55053682e-02, -1.53914165e-02,\n",
       "         -1.47648923e-02, -1.46224163e-02, -1.43859424e-02, -1.43761739e-02,\n",
       "         -1.40513801e-02, -1.24946103e-02, -1.24072985e-02, -1.22717029e-02,\n",
       "         -1.17513298e-02, -1.17344038e-02, -1.16801448e-02, -1.15491513e-02,\n",
       "         -1.14833213e-02, -1.12400490e-02, -1.10704184e-02, -1.10140747e-02,\n",
       "         -1.09346413e-02, -1.03459791e-02, -1.03459791e-02, -1.03459791e-02,\n",
       "         -1.03459791e-02, -9.80468576e-03, -9.55447705e-03, -8.95234389e-03,\n",
       "         -8.41307634e-03, -8.15845140e-03, -7.96563504e-03, -7.52780334e-03,\n",
       "         -7.10559711e-03, -6.36065810e-03, -6.25245946e-03, -5.88929502e-03,\n",
       "         -4.51706099e-03, -3.80089854e-03, -3.75620155e-03, -3.75291003e-03,\n",
       "         -3.57015707e-03, -3.56830788e-03, -3.27657672e-03, -3.14496403e-03,\n",
       "         -3.10365562e-03, -3.09014394e-03, -3.05046691e-03, -2.84891502e-03,\n",
       "         -2.74198323e-03, -2.51869206e-03, -2.14818215e-03, -1.90108446e-03,\n",
       "         -1.70514717e-03, -1.09959693e-03, -1.03962468e-03, -6.90060726e-04,\n",
       "         -6.75227580e-04, -5.54760794e-04, -4.73534984e-04, -3.88220935e-05,\n",
       "          4.92396360e-05,  1.87818971e-04,  5.19127612e-04,  8.61586763e-04,\n",
       "          1.08329663e-03,  1.25918325e-03,  1.31813725e-03,  1.43881175e-03,\n",
       "          1.48548383e-03,  1.61595861e-03,  1.84692126e-03,  1.90663878e-03,\n",
       "          2.16375113e-03,  2.17229671e-03,  2.47524006e-03,  2.61591240e-03,\n",
       "          2.63537784e-03,  3.26682182e-03,  3.45418363e-03,  3.60079762e-03,\n",
       "          3.82318246e-03,  4.02363211e-03,  4.92676479e-03,  5.06371290e-03,\n",
       "          5.27425897e-03,  5.30457014e-03,  5.55687361e-03,  5.73244672e-03,\n",
       "          5.85735812e-03,  6.10183393e-03,  6.23950839e-03,  6.59937178e-03,\n",
       "          7.13686779e-03,  7.19089903e-03,  7.24780047e-03,  7.56570875e-03,\n",
       "          7.96189778e-03,  8.03579896e-03,  8.25686785e-03,  8.51897747e-03,\n",
       "          8.67299767e-03,  9.36193680e-03,  9.87120614e-03,  9.88201484e-03,\n",
       "          1.01195981e-02,  1.11224872e-02,  1.16946301e-02,  1.17219260e-02,\n",
       "          1.18275540e-02,  1.18862355e-02,  1.22682070e-02,  1.23314750e-02,\n",
       "          1.25326416e-02,  1.27185907e-02,  1.29532176e-02,  1.31346358e-02,\n",
       "          1.35873171e-02,  1.39747343e-02,  1.39886699e-02,  1.40172721e-02,\n",
       "          1.43072482e-02,  1.48429088e-02,  1.48619926e-02,  1.53053416e-02,\n",
       "          1.58213879e-02,  1.61784369e-02,  1.64827155e-02,  1.65278653e-02,\n",
       "          1.65773263e-02,  1.66487266e-02,  1.68124348e-02,  1.70471914e-02,\n",
       "          1.72111997e-02,  1.73628905e-02,  1.74459723e-02,  1.90091875e-02,\n",
       "          1.90955572e-02,  1.94396077e-02,  1.96895045e-02,  1.98443061e-02,\n",
       "          1.99799658e-02,  2.01495857e-02,  2.01940429e-02,  2.04346649e-02,\n",
       "          2.07578656e-02,  2.08843635e-02,  2.09537622e-02,  2.13391791e-02,\n",
       "          2.15768083e-02,  2.18111649e-02,  2.24389610e-02,  2.27666155e-02,\n",
       "          2.33394863e-02,  2.35866688e-02,  2.35922917e-02,  2.45148839e-02,\n",
       "          2.47597008e-02,  2.51822755e-02,  2.52898365e-02,  2.53001161e-02,\n",
       "          2.53001161e-02,  2.54857413e-02,  2.57301404e-02,  2.67354106e-02,\n",
       "          2.68785957e-02,  2.70981550e-02,  2.74172956e-02,  2.79266917e-02,\n",
       "          2.83518796e-02,  2.83776004e-02,  2.98851993e-02,  3.00367874e-02,\n",
       "          3.06840090e-02,  3.07755283e-02,  3.09855010e-02,  3.10357748e-02,\n",
       "          3.14722135e-02,  3.18600983e-02,  3.18860817e-02,  3.20370418e-02,\n",
       "          3.21584322e-02,  3.27465254e-02,  3.30176414e-02,  3.30579003e-02,\n",
       "          3.31445647e-02,  3.40133462e-02,  3.42051623e-02,  3.51977161e-02,\n",
       "          3.53795837e-02,  3.54934948e-02,  3.65190158e-02,  3.65828725e-02,\n",
       "          3.66352772e-02,  3.81980986e-02,  3.83916913e-02,  3.84897119e-02,\n",
       "          3.97658002e-02,  4.29368839e-02,  4.32834222e-02,  4.32896273e-02,\n",
       "          4.55291720e-02,  4.57371271e-02,  4.64263594e-02,  4.67870856e-02,\n",
       "          4.68199605e-02,  4.80471686e-02,  4.82217273e-02,  4.84771641e-02,\n",
       "          4.86898784e-02,  4.91334547e-02,  4.97851806e-02,  5.23990010e-02,\n",
       "          5.28456368e-02,  5.33983354e-02,  5.38880349e-02,  5.44121557e-02,\n",
       "          5.47103188e-02,  5.53319523e-02,  5.54175788e-02,  5.58300100e-02,\n",
       "          5.81166480e-02,  5.89574357e-02,  5.91235638e-02,  6.13331479e-02,\n",
       "          6.27571093e-02,  6.28851244e-02,  6.30738976e-02,  6.34156482e-02,\n",
       "          6.34448395e-02,  6.36188665e-02,  6.56806216e-02,  6.61911114e-02,\n",
       "          6.66775241e-02,  6.83135905e-02,  6.93875852e-02,  7.08393998e-02,\n",
       "          7.18092623e-02,  7.22640439e-02,  7.31387367e-02,  7.45853575e-02,\n",
       "          7.57188826e-02,  7.75856903e-02,  8.09014316e-02,  8.87026451e-02,\n",
       "          8.89552990e-02,  9.09238768e-02,  9.11992181e-02,  9.22805738e-02,\n",
       "          9.99027611e-02,  1.04682893e-01,  1.10296836e-01,  1.12317728e-01,\n",
       "          1.17212439e-01,  1.21381490e-01,  1.22276403e-01,  1.22840004e-01,\n",
       "          1.23505241e-01,  1.30051137e-01,  1.30455501e-01,  1.32058927e-01,\n",
       "          1.32755370e-01,  1.41660391e-01,  1.50881910e-01,  1.70648166e-01,\n",
       "          1.85521838e-01,  2.27761693e-01])),\n",
       " (0.05371233569283615, 8.837596215921644e-18, 0.984317107132858))"
      ]
     },
     "execution_count": 52,
     "metadata": {},
     "output_type": "execute_result"
    }
   ],
   "source": [
    "from scipy.stats import probplot\n",
    "\n",
    "probplot(data)"
   ]
  },
  {
   "cell_type": "code",
   "execution_count": null,
   "metadata": {},
   "outputs": [],
   "source": []
  }
 ],
 "metadata": {
  "kernelspec": {
   "display_name": "Python 3",
   "language": "python",
   "name": "python3"
  },
  "language_info": {
   "codemirror_mode": {
    "name": "ipython",
    "version": 3
   },
   "file_extension": ".py",
   "mimetype": "text/x-python",
   "name": "python",
   "nbconvert_exporter": "python",
   "pygments_lexer": "ipython3",
   "version": "3.7.1"
  }
 },
 "nbformat": 4,
 "nbformat_minor": 2
}
