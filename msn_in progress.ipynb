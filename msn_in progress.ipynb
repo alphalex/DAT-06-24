{
 "cells": [
  {
   "cell_type": "code",
   "execution_count": 1,
   "metadata": {},
   "outputs": [],
   "source": [
    "import pandas as pd\n",
    "import requests\n",
    "import re\n",
    "from bs4 import BeautifulSoup"
   ]
  },
  {
   "cell_type": "code",
   "execution_count": 2,
   "metadata": {},
   "outputs": [],
   "source": [
    "headers = {\n",
    "    # 'Host': 'i.meizitu.net',\n",
    "    'Accept': 'text/html,application/xhtml+xml,application/xml;q=0.9,image/webp,image/apng,*/*;q=0.8,application/signed-exchange;v=b3',\n",
    "    'User-Agent': 'Mozilla/5.0 (Windows NT 10.0; Win64; x64) AppleWebKit/537.36 (KHTML, like Gecko) Chrome/76.0.3809.100 Safari/537.36',\n",
    "    'Accept-Language': 'en-US,en;q=0.9,zh-CN;q=0.8,zh;q=0.7',\n",
    "    'Connection': 'keep-alive',\n",
    "    'Accept-Encoding':'gzip, deflate, br'#,\n",
    "#     'Upgrade-Insecure-Requests':'1'\n",
    "}"
   ]
  },
  {
   "cell_type": "code",
   "execution_count": 3,
   "metadata": {},
   "outputs": [],
   "source": [
    "s = requests.session()"
   ]
  },
  {
   "cell_type": "code",
   "execution_count": 4,
   "metadata": {},
   "outputs": [],
   "source": [
    "url_re = s.get('https://www.msn.com/', headers=headers)"
   ]
  },
  {
   "cell_type": "code",
   "execution_count": 5,
   "metadata": {},
   "outputs": [
    {
     "data": {
      "text/plain": [
       "<Response [200]>"
      ]
     },
     "execution_count": 5,
     "metadata": {},
     "output_type": "execute_result"
    }
   ],
   "source": [
    "url_re"
   ]
  },
  {
   "cell_type": "code",
   "execution_count": 33,
   "metadata": {},
   "outputs": [],
   "source": [
    "df = []"
   ]
  },
  {
   "cell_type": "code",
   "execution_count": 6,
   "metadata": {},
   "outputs": [],
   "source": [
    "soup = BeautifulSoup(url_re.text)"
   ]
  },
  {
   "cell_type": "code",
   "execution_count": 30,
   "metadata": {},
   "outputs": [
    {
     "data": {
      "text/plain": [
       "[<img alt=\"Business Insider Logo\" data-src='{\"default\":\"//static-global-s-msn-com.akamaized.net/img-resizer/tenant/amp/entityid/AAywSGf.img?h=16&amp;w=16&amp;m=6&amp;q=60&amp;u=t&amp;o=t&amp;l=f&amp;f=png\"}' src=\"//static-global-s-msn-com.akamaized.net/hp-eus/sc/9b/e151e5.gif\"/>]"
      ]
     },
     "execution_count": 30,
     "metadata": {},
     "output_type": "execute_result"
    }
   ],
   "source": [
    "soup.select('img[alt=\"Business Insider Logo\"]')"
   ]
  },
  {
   "cell_type": "code",
   "execution_count": null,
   "metadata": {},
   "outputs": [],
   "source": [
    "soup"
   ]
  },
  {
   "cell_type": "code",
   "execution_count": 116,
   "metadata": {},
   "outputs": [
    {
     "name": "stdout",
     "output_type": "stream",
     "text": [
      "new york\n",
      "news\n",
      "from our partners\n",
      "entertainment\n",
      "sports\n",
      "money\n",
      "lifestyle\n",
      "autos\n",
      "health & fitness\n",
      "food & drink\n",
      "travel\n",
      "causes\n",
      "video\n",
      "promotions\n"
     ]
    }
   ],
   "source": [
    "for index, item in enumerate(soup.select('.stripecontainer[aria-label]'), start = 2):\n",
    "\n",
    "        print(item['aria-label'])\n"
   ]
  },
  {
   "cell_type": "code",
   "execution_count": 101,
   "metadata": {},
   "outputs": [
    {
     "data": {
      "text/plain": [
       "{'class': ['tertiary'],\n",
       " 'data-aop': 'tertiary',\n",
       " 'data-id': '621',\n",
       " 'data-m': '{\"i\":621,\"p\":618,\"n\":\"tertiary\",\"y\":8,\"o\":2}'}"
      ]
     },
     "execution_count": 101,
     "metadata": {},
     "output_type": "execute_result"
    }
   ],
   "source": [
    "ib.attrs"
   ]
  },
  {
   "cell_type": "code",
   "execution_count": 109,
   "metadata": {},
   "outputs": [
    {
     "data": {
      "text/plain": [
       "'2'"
      ]
     },
     "execution_count": 109,
     "metadata": {},
     "output_type": "execute_result"
    }
   ],
   "source": [
    "re.findall(\"\\\"o\\\":(\\d+)\",ib['data-m'])[0]"
   ]
  },
  {
   "cell_type": "code",
   "execution_count": 110,
   "metadata": {},
   "outputs": [
    {
     "data": {
      "text/plain": [
       "<li data-id=\"624\" data-m='{\"i\":624,\"p\":621,\"n\":\"HeadlineItemViewModel\",\"y\":13,\"l\":\"AAGh0FD\",\"h\":0,\"v\":\"foodanddrink\",\"c\":\"foodnews\",\"o\":3}'>\n",
       "<a href=\"/en-us/foodanddrink/foodnews/the-ceo-of-popeyes-parent-company-breaks-down-the-massive-success-of-its-chicken-sandwich/ar-AAGh0FD?li=BBnb7Kw\">\n",
       "<img alt=\"\" data-src='{\"default\":\"//static-global-s-msn-com.akamaized.net/img-resizer/tenant/amp/entityid/AAGgYGw.img?h=75&amp;w=100&amp;m=6&amp;q=60&amp;u=t&amp;o=t&amp;l=f&amp;x=902&amp;y=1027\"}' src=\"//static-global-s-msn-com.akamaized.net/hp-eus/sc/9b/e151e5.gif\" title=\"The CEO of Popeyes' parent company breaks down the massive success of its chicke... - Irene Jiang / Business Insider\"/> <div>\n",
       "<h3 aria-label=\"popeyes' parent company ceo on chicken sandwich success-article\">Popeyes' parent company CEO on chicken sandwich success</h3>\n",
       "<img alt=\"Business Insider Logo\" data-src='{\"default\":\"//static-global-s-msn-com.akamaized.net/img-resizer/tenant/amp/entityid/AAywSGf.img?h=16&amp;w=16&amp;m=6&amp;q=60&amp;u=t&amp;o=t&amp;l=f&amp;f=png\"}' src=\"//static-global-s-msn-com.akamaized.net/hp-eus/sc/9b/e151e5.gif\"/> <span>Business Insider</span>\n",
       "</div>\n",
       "</a>\n",
       "</li>"
      ]
     },
     "execution_count": 110,
     "metadata": {},
     "output_type": "execute_result"
    }
   ],
   "source": [
    "ibl"
   ]
  },
  {
   "cell_type": "code",
   "execution_count": 111,
   "metadata": {},
   "outputs": [
    {
     "data": {
      "text/plain": [
       "{'data-id': '624',\n",
       " 'data-m': '{\"i\":624,\"p\":621,\"n\":\"HeadlineItemViewModel\",\"y\":13,\"l\":\"AAGh0FD\",\"h\":0,\"v\":\"foodanddrink\",\"c\":\"foodnews\",\"o\":3}'}"
      ]
     },
     "execution_count": 111,
     "metadata": {},
     "output_type": "execute_result"
    }
   ],
   "source": [
    "ibl.attrs"
   ]
  },
  {
   "cell_type": "code",
   "execution_count": 115,
   "metadata": {},
   "outputs": [
    {
     "name": "stdout",
     "output_type": "stream",
     "text": [
      "***\n",
      "***\n",
      "***\n",
      "***\n",
      "***\n",
      "***\n",
      "***\n",
      "***\n",
      "***\n",
      "11\n",
      "<li data-id=\"624\" data-m='{\"i\":624,\"p\":621,\"n\":\"HeadlineItemViewModel\",\"y\":13,\"l\":\"AAGh0FD\",\"h\":0,\"v\":\"foodanddrink\",\"c\":\"foodnews\",\"o\":3}'>\n",
      "<a href=\"/en-us/foodanddrink/foodnews/the-ceo-of-popeyes-parent-company-breaks-down-the-massive-success-of-its-chicken-sandwich/ar-AAGh0FD?li=BBnb7Kw\">\n",
      "<img alt=\"\" data-src='{\"default\":\"//static-global-s-msn-com.akamaized.net/img-resizer/tenant/amp/entityid/AAGgYGw.img?h=75&amp;w=100&amp;m=6&amp;q=60&amp;u=t&amp;o=t&amp;l=f&amp;x=902&amp;y=1027\"}' src=\"//static-global-s-msn-com.akamaized.net/hp-eus/sc/9b/e151e5.gif\" title=\"The CEO of Popeyes' parent company breaks down the massive success of its chicke... - Irene Jiang / Business Insider\"/> <div>\n",
      "<h3 aria-label=\"popeyes' parent company ceo on chicken sandwich success-article\">Popeyes' parent company CEO on chicken sandwich success</h3>\n",
      "<img alt=\"Business Insider Logo\" data-src='{\"default\":\"//static-global-s-msn-com.akamaized.net/img-resizer/tenant/amp/entityid/AAywSGf.img?h=16&amp;w=16&amp;m=6&amp;q=60&amp;u=t&amp;o=t&amp;l=f&amp;f=png\"}' src=\"//static-global-s-msn-com.akamaized.net/hp-eus/sc/9b/e151e5.gif\"/> <span>Business Insider</span>\n",
      "</div>\n",
      "</a>\n",
      "</li>\n",
      "3\n",
      "***\n",
      "***\n",
      "***\n",
      "***\n"
     ]
    },
    {
     "data": {
      "text/html": [
       "<div>\n",
       "<style scoped>\n",
       "    .dataframe tbody tr th:only-of-type {\n",
       "        vertical-align: middle;\n",
       "    }\n",
       "\n",
       "    .dataframe tbody tr th {\n",
       "        vertical-align: top;\n",
       "    }\n",
       "\n",
       "    .dataframe thead th {\n",
       "        text-align: right;\n",
       "    }\n",
       "</style>\n",
       "<table border=\"1\" class=\"dataframe\">\n",
       "  <thead>\n",
       "    <tr style=\"text-align: right;\">\n",
       "      <th></th>\n",
       "      <th>river_position</th>\n",
       "      <th>river_name</th>\n",
       "      <th>item_block_position</th>\n",
       "      <th>item_block_type</th>\n",
       "      <th>item_block_link_position</th>\n",
       "      <th>artile_title</th>\n",
       "      <th>artile_img</th>\n",
       "    </tr>\n",
       "  </thead>\n",
       "  <tbody>\n",
       "    <tr>\n",
       "      <th>0</th>\n",
       "      <td>11</td>\n",
       "      <td>food &amp; drink</td>\n",
       "      <td>2</td>\n",
       "      <td>tertiary</td>\n",
       "      <td>3</td>\n",
       "      <td>popeyes' parent company ceo on chicken sandwic...</td>\n",
       "      <td>static-global-s-msn-com.akamaized.net/img-resi...</td>\n",
       "    </tr>\n",
       "  </tbody>\n",
       "</table>\n",
       "</div>"
      ],
      "text/plain": [
       "   river_position    river_name item_block_position item_block_type  \\\n",
       "0              11  food & drink                   2        tertiary   \n",
       "\n",
       "  item_block_link_position                                       artile_title  \\\n",
       "0                        3  popeyes' parent company ceo on chicken sandwic...   \n",
       "\n",
       "                                          artile_img  \n",
       "0  static-global-s-msn-com.akamaized.net/img-resi...  "
      ]
     },
     "execution_count": 115,
     "metadata": {},
     "output_type": "execute_result"
    }
   ],
   "source": [
    "df = []\n",
    "for index, item in enumerate(soup.select('.stripecontainer[aria-label]'), start = 2):\n",
    "    if item.select('img[alt=\"Business Insider Logo\"]'):\n",
    "#         print(item)\n",
    "        print(index)\n",
    "        river_position = index\n",
    "        river_name = item['aria-label']\n",
    "        a = item\n",
    "\n",
    "        for item_block in item.find_all('ul'):\n",
    "            if item_block.select('img[alt=\"Business Insider Logo\"]'):\n",
    "                ib = item_block\n",
    "                item_block_type = item_block['data-aop']\n",
    "                item_block_position = re.findall(\"\\\"o\\\":(\\d+)\",item_block['data-m'])[0]\n",
    "#                 print(item_block)\n",
    "                for item_block_link in item_block.select('li'):\n",
    "                    if item_block_link.select('img[alt=\"Business Insider Logo\"]'):\n",
    "                        ibl = item_block_link\n",
    "                        x = item_block_link\n",
    "                        print(item_block_link)\n",
    "                        print(len(item_block_link))\n",
    "                        item_block_link_position = re.findall(\"\\\"o\\\":(\\d+)\",item_block_link['data-m'])[0]\n",
    "                        artile_tile = item_block_link.select('h3[aria-label]')[0]['aria-label']\n",
    "                        artile_img = re.findall(r'\\/\\/(.*)\\?',item_block_link.select('img[alt=\"\"]')[0]['data-src'])[0]\n",
    "                        df.append([river_position, \n",
    "                                   river_name,\n",
    "                                   item_block_position,\n",
    "                                   item_block_type,\n",
    "                                   item_block_link_position,\n",
    "                                   artile_tile,\n",
    "                                   artile_img])\n",
    "        \n",
    "        \n",
    "    else:\n",
    "        print('***')\n",
    "pd.DataFrame(df, columns = ['river_position',\n",
    "                           'river_name',\n",
    "                           'item_block_position',\n",
    "                           'item_block_type',\n",
    "                           'item_block_link_position',\n",
    "                           'artile_title',\n",
    "                           'artile_img'])"
   ]
  },
  {
   "cell_type": "code",
   "execution_count": 77,
   "metadata": {},
   "outputs": [
    {
     "data": {
      "text/plain": [
       "<li data-id=\"624\" data-m='{\"i\":624,\"p\":621,\"n\":\"HeadlineItemViewModel\",\"y\":13,\"l\":\"AAGh0FD\",\"h\":0,\"v\":\"foodanddrink\",\"c\":\"foodnews\",\"o\":3}'>\n",
       "<a href=\"/en-us/foodanddrink/foodnews/the-ceo-of-popeyes-parent-company-breaks-down-the-massive-success-of-its-chicken-sandwich/ar-AAGh0FD?li=BBnb7Kw\">\n",
       "<img alt=\"\" data-src='{\"default\":\"//static-global-s-msn-com.akamaized.net/img-resizer/tenant/amp/entityid/AAGgYGw.img?h=75&amp;w=100&amp;m=6&amp;q=60&amp;u=t&amp;o=t&amp;l=f&amp;x=902&amp;y=1027\"}' src=\"//static-global-s-msn-com.akamaized.net/hp-eus/sc/9b/e151e5.gif\" title=\"The CEO of Popeyes' parent company breaks down the massive success of its chicke... - Irene Jiang / Business Insider\"/> <div>\n",
       "<h3 aria-label=\"popeyes' parent company ceo on chicken sandwich success-article\">Popeyes' parent company CEO on chicken sandwich success</h3>\n",
       "<img alt=\"Business Insider Logo\" data-src='{\"default\":\"//static-global-s-msn-com.akamaized.net/img-resizer/tenant/amp/entityid/AAywSGf.img?h=16&amp;w=16&amp;m=6&amp;q=60&amp;u=t&amp;o=t&amp;l=f&amp;f=png\"}' src=\"//static-global-s-msn-com.akamaized.net/hp-eus/sc/9b/e151e5.gif\"/> <span>Business Insider</span>\n",
       "</div>\n",
       "</a>\n",
       "</li>"
      ]
     },
     "execution_count": 77,
     "metadata": {},
     "output_type": "execute_result"
    }
   ],
   "source": [
    "x"
   ]
  },
  {
   "cell_type": "code",
   "execution_count": 82,
   "metadata": {},
   "outputs": [
    {
     "data": {
      "text/plain": [
       "\"popeyes' parent company ceo on chicken sandwich success-article\""
      ]
     },
     "execution_count": 82,
     "metadata": {},
     "output_type": "execute_result"
    }
   ],
   "source": [
    "x.select('h3[aria-label]')[0]['aria-label']"
   ]
  },
  {
   "cell_type": "code",
   "execution_count": 97,
   "metadata": {},
   "outputs": [
    {
     "data": {
      "text/plain": [
       "'static-global-s-msn-com.akamaized.net/img-resizer/tenant/amp/entityid/AAGgYGw.img'"
      ]
     },
     "execution_count": 97,
     "metadata": {},
     "output_type": "execute_result"
    }
   ],
   "source": [
    "re.findall(r'\\/\\/(.*)\\?',x.select('img[alt=\"\"]')[0]['data-src'])[0]"
   ]
  },
  {
   "cell_type": "code",
   "execution_count": 92,
   "metadata": {},
   "outputs": [
    {
     "data": {
      "text/plain": [
       "'{\"default\":\"//static-global-s-msn-com.akamaized.net/img-resizer/tenant/amp/entityid/AAGgYGw.img?h=75&w=100&m=6&q=60&u=t&o=t&l=f&x=902&y=1027\"}'"
      ]
     },
     "execution_count": 92,
     "metadata": {},
     "output_type": "execute_result"
    }
   ],
   "source": [
    "x.select('img[alt=\"\"]')[0]['data-src']"
   ]
  },
  {
   "cell_type": "code",
   "execution_count": 57,
   "metadata": {},
   "outputs": [
    {
     "data": {
      "text/plain": [
       "[]"
      ]
     },
     "execution_count": 57,
     "metadata": {},
     "output_type": "execute_result"
    }
   ],
   "source": [
    "a.select('.stripecontainer[aria-label]')"
   ]
  },
  {
   "cell_type": "code",
   "execution_count": 63,
   "metadata": {},
   "outputs": [
    {
     "data": {
      "text/plain": [
       "[<ul>\n",
       " <li data-id=\"604\" data-m='{\"i\":604,\"p\":603,\"n\":\"foodanddrink\",\"y\":4,\"o\":1}'>\n",
       " <h2><a data-id=\"605\" data-m='{\"i\":605,\"p\":603,\"n\":\"foodanddrink\",\"y\":4,\"o\":2}' href=\"/en-us/foodanddrink\">Food &amp; Drink</a></h2>\n",
       " </li>\n",
       " <li class=\"hide12\" data-id=\"606\" data-m='{\"i\":606,\"p\":603,\"n\":\"Food News\",\"y\":4,\"o\":3}'><a href=\"/en-us/foodanddrink/restaurantsandnews\">FOOD NEWS</a></li>\n",
       " <li class=\"hide12\" data-id=\"607\" data-m='{\"i\":607,\"p\":603,\"n\":\"Restaurants\",\"y\":4,\"o\":4}'><a href=\"/en-us/foodanddrink/restaurantsandnews/casual\">RESTAURANTS</a></li>\n",
       " <li class=\"hide12\" data-id=\"608\" data-m='{\"i\":608,\"p\":603,\"n\":\"Recipes\",\"y\":4,\"o\":5}'><a href=\"/en-us/foodanddrink/cooking/recipes\">RECIPES</a></li>\n",
       " <li class=\"hide12\" data-id=\"609\" data-m='{\"i\":609,\"p\":603,\"n\":\"Quick \\u0026 Easy\",\"y\":4,\"o\":6}'><a href=\"/en-us/foodanddrink/cooking/quickandeasy\">QUICK &amp; EASY</a></li>\n",
       " <li class=\"hide12\" data-id=\"610\" data-m='{\"i\":610,\"p\":603,\"n\":\"Tips \\u0026 Tricks\",\"y\":4,\"o\":7}'><a href=\"/en-us/foodanddrink/cooking/tipsandtricks\">TIPS &amp; TRICKS</a></li>\n",
       " <li class=\"hide123\" data-id=\"611\" data-m='{\"i\":611,\"p\":603,\"n\":\"Drinks\",\"y\":4,\"o\":8}'><a href=\"/en-us/foodanddrink/beverages\">DRINKS</a></li>\n",
       " <li class=\"hide123\" data-id=\"612\" data-m='{\"i\":612,\"p\":603,\"n\":\"videos\",\"y\":4,\"o\":9}'><a href=\"/en-us/foodanddrink/video\">VIDEO</a></li>\n",
       " </ul>,\n",
       " <ul class=\"secondary\" data-aop=\"secondary\" data-id=\"619\" data-m='{\"i\":619,\"p\":618,\"n\":\"secondary\",\"y\":8,\"o\":1}'>\n",
       " <li class=\"media photo\" data-id=\"620\" data-m='{\"i\":620,\"p\":619,\"n\":\"HeadlineItemViewModel\",\"y\":13,\"l\":\"AAEUc5d\",\"h\":0,\"v\":\"foodanddrink\",\"c\":\"tipsandtricks\",\"o\":1}'>\n",
       " <a href=\"/en-us/foodanddrink/tipsandtricks/10-mistakes-everyone-makes-when-buying-bread/ss-AAEUc5d?li=BBnb7Kw\">\n",
       " <img alt=\"While bread does need a pinch of sugar to activate the yeast, it shouldn't be de...\" data-src='{\"default\":\"//static-global-s-msn-com.akamaized.net/img-resizer/tenant/amp/entityid/AAEUnWr.img?h=194&amp;w=300&amp;m=6&amp;q=60&amp;u=t&amp;o=t&amp;l=f&amp;x=541&amp;y=555\"}' src=\"//static-global-s-msn-com.akamaized.net/hp-eus/sc/9b/e151e5.gif\" title=\"Not checking for hidden sugar - TY Lim/Shutterstock\"/> <div>\n",
       " <h3 aria-label=\"10 mistakes everyone makes when buying bread-slideshow\">10 mistakes everyone makes when buying bread</h3>\n",
       " <img alt=\"Taste of Home Logo\" data-src='{\"default\":\"//static-global-s-msn-com.akamaized.net/img-resizer/tenant/amp/entityid/AADeDDC.img?h=16&amp;w=16&amp;m=6&amp;q=60&amp;u=t&amp;o=t&amp;l=f&amp;f=png\"}' src=\"//static-global-s-msn-com.akamaized.net/hp-eus/sc/9b/e151e5.gif\"/> <span>Taste of Home</span>\n",
       " </div>\n",
       " </a>\n",
       " </li>\n",
       " </ul>,\n",
       " <ul class=\"tertiary\" data-aop=\"tertiary\" data-id=\"621\" data-m='{\"i\":621,\"p\":618,\"n\":\"tertiary\",\"y\":8,\"o\":2}'>\n",
       " <li class=\"media photo\" data-id=\"622\" data-m='{\"i\":622,\"p\":621,\"n\":\"HeadlineItemViewModel\",\"y\":13,\"l\":\"AAGbZsZ\",\"h\":0,\"v\":\"foodanddrink\",\"c\":\"recipes\",\"o\":1}'>\n",
       " <a href=\"/en-us/foodanddrink/recipes/the-most-in-demand-cake-of-every-decade/ss-AAGbZsZ?li=BBnb7Kw\">\n",
       " <img alt=\"The turn of the century saw the first chocol...\" data-src='{\"default\":\"//static-global-s-msn-com.akamaized.net/img-resizer/tenant/amp/entityid/AACT56D.img?h=75&amp;w=100&amp;m=6&amp;q=60&amp;u=t&amp;o=t&amp;l=f&amp;x=691&amp;y=507\"}' src=\"//static-global-s-msn-com.akamaized.net/hp-eus/sc/9b/e151e5.gif\" title=\"Classic Chocolate Cake - Taste of Home\"/> <div>\n",
       " <h3 aria-label=\"the most in-demand cake of every decade-slideshow\">The most in-demand cake of every decade</h3>\n",
       " <img alt=\"Taste of Home Logo\" data-src='{\"default\":\"//static-global-s-msn-com.akamaized.net/img-resizer/tenant/amp/entityid/AADeDDC.img?h=16&amp;w=16&amp;m=6&amp;q=60&amp;u=t&amp;o=t&amp;l=f&amp;f=png\"}' src=\"//static-global-s-msn-com.akamaized.net/hp-eus/sc/9b/e151e5.gif\"/> <span>Taste of Home</span>\n",
       " </div>\n",
       " </a>\n",
       " </li>\n",
       " <li data-id=\"623\" data-m='{\"i\":623,\"p\":621,\"n\":\"HeadlineItemViewModel\",\"y\":13,\"l\":\"AAGeg96\",\"h\":0,\"v\":\"foodanddrink\",\"c\":\"tipsandtricks\",\"o\":2}'>\n",
       " <a href=\"/en-us/foodanddrink/tipsandtricks/pork-shoulder-is-the-new-steak/ar-AAGeg96?li=BBnb7Kw\">\n",
       " <img alt=\"Pork Shoulder Is the New Steak\" data-src='{\"default\":\"//static-global-s-msn-com.akamaized.net/img-resizer/tenant/amp/entityid/AAGeg8N.img?h=75&amp;w=100&amp;m=6&amp;q=60&amp;u=t&amp;o=t&amp;l=f&amp;x=2096&amp;y=1515\"}' src=\"//static-global-s-msn-com.akamaized.net/hp-eus/sc/9b/e151e5.gif\" title=\"Pork Shoulder Is the New Steak - Photo by Joseph De Leo, Food Styling by Erika Joyce\"/> <div>\n",
       " <h3 aria-label=\"pork shoulder is the new steak-article\">Pork shoulder is the new steak</h3>\n",
       " <img alt=\"Epicurious Logo\" data-src='{\"default\":\"//static-global-s-msn-com.akamaized.net/img-resizer/tenant/amp/entityid/AA9Aicg.img?h=16&amp;w=16&amp;m=6&amp;q=60&amp;u=t&amp;o=t&amp;l=f&amp;f=png\"}' src=\"//static-global-s-msn-com.akamaized.net/hp-eus/sc/9b/e151e5.gif\"/> <span>Epicurious</span>\n",
       " </div>\n",
       " </a>\n",
       " </li>\n",
       " <li data-id=\"624\" data-m='{\"i\":624,\"p\":621,\"n\":\"HeadlineItemViewModel\",\"y\":13,\"l\":\"AAGh0FD\",\"h\":0,\"v\":\"foodanddrink\",\"c\":\"foodnews\",\"o\":3}'>\n",
       " <a href=\"/en-us/foodanddrink/foodnews/the-ceo-of-popeyes-parent-company-breaks-down-the-massive-success-of-its-chicken-sandwich/ar-AAGh0FD?li=BBnb7Kw\">\n",
       " <img alt=\"\" data-src='{\"default\":\"//static-global-s-msn-com.akamaized.net/img-resizer/tenant/amp/entityid/AAGgYGw.img?h=75&amp;w=100&amp;m=6&amp;q=60&amp;u=t&amp;o=t&amp;l=f&amp;x=902&amp;y=1027\"}' src=\"//static-global-s-msn-com.akamaized.net/hp-eus/sc/9b/e151e5.gif\" title=\"The CEO of Popeyes' parent company breaks down the massive success of its chicke... - Irene Jiang / Business Insider\"/> <div>\n",
       " <h3 aria-label=\"popeyes' parent company ceo on chicken sandwich success-article\">Popeyes' parent company CEO on chicken sandwich success</h3>\n",
       " <img alt=\"Business Insider Logo\" data-src='{\"default\":\"//static-global-s-msn-com.akamaized.net/img-resizer/tenant/amp/entityid/AAywSGf.img?h=16&amp;w=16&amp;m=6&amp;q=60&amp;u=t&amp;o=t&amp;l=f&amp;f=png\"}' src=\"//static-global-s-msn-com.akamaized.net/hp-eus/sc/9b/e151e5.gif\"/> <span>Business Insider</span>\n",
       " </div>\n",
       " </a>\n",
       " </li>\n",
       " </ul>,\n",
       " <ul class=\"tertiary\" data-aop=\"tertiary\" data-id=\"625\" data-m='{\"i\":625,\"p\":618,\"n\":\"tertiary\",\"y\":8,\"o\":3}'>\n",
       " <li class=\"media photo\" data-id=\"626\" data-m='{\"i\":626,\"p\":625,\"n\":\"HeadlineItemViewModel\",\"y\":13,\"l\":\"AAGegWs\",\"h\":0,\"v\":\"foodanddrink\",\"c\":\"tipsandtricks\",\"o\":1}'>\n",
       " <a href=\"/en-us/foodanddrink/tipsandtricks/17-secret-waiter-tricks-that-diners-never-notice/ss-AAGegWs?li=BBnb7Kw\">\n",
       " <img alt=\"When you’re a server or bartender wanting to rake in some tips, it’s in your ...\" data-src='{\"default\":\"//static-global-s-msn-com.akamaized.net/img-resizer/tenant/amp/entityid/AAGeuHT.img?h=75&amp;w=100&amp;m=6&amp;q=60&amp;u=t&amp;o=t&amp;l=f&amp;x=662&amp;y=172\"}' src=\"//static-global-s-msn-com.akamaized.net/hp-eus/sc/9b/e151e5.gif\" title=\"17 Secret Waiter Tricks That Diners Never Notice - Provided by Eat This, Not That!\"/> <div>\n",
       " <h3 aria-label=\"17 secret waiter tricks that diners never notice-slideshow\">17 secret waiter tricks that diners never notice</h3>\n",
       " <img alt=\"Eat This, Not That! Logo\" data-src='{\"default\":\"//static-global-s-msn-com.akamaized.net/img-resizer/tenant/amp/entityid/AA9YFNL.img?h=16&amp;w=16&amp;m=6&amp;q=60&amp;u=t&amp;o=t&amp;l=f&amp;f=png\"}' src=\"//static-global-s-msn-com.akamaized.net/hp-eus/sc/9b/e151e5.gif\"/> <span>Eat This, Not That!</span>\n",
       " </div>\n",
       " </a>\n",
       " </li>\n",
       " <li data-id=\"627\" data-m='{\"i\":627,\"p\":625,\"n\":\"HeadlineItemViewModel\",\"y\":13,\"l\":\"AAGbbAS\",\"h\":0,\"v\":\"foodanddrink\",\"c\":\"tipsandtricks\",\"o\":2}'>\n",
       " <a href=\"/en-us/foodanddrink/tipsandtricks/we-tried-13-popular-potato-chip-brands-and-our-top-and-bottom-picks-might-just-surprise-you/ar-AAGbbAS?li=BBnb7Kw\">\n",
       " <img alt=\"From left to right: Utz, Herr’s and Route 11.\" data-src='{\"default\":\"//static-global-s-msn-com.akamaized.net/img-resizer/tenant/amp/entityid/AAGaXIx.img?h=75&amp;w=100&amp;m=6&amp;q=60&amp;u=t&amp;o=t&amp;l=f&amp;x=417&amp;y=313\"}' src=\"//static-global-s-msn-com.akamaized.net/hp-eus/sc/9b/e151e5.gif\" title=\"From left to right: Utz, Herr’s and Route 11.\"/> <div>\n",
       " <h3 aria-label=\"we tried 13 popular chips. our best &amp; worst picks might surprise-article\">We tried 13 popular chips. Our best &amp; worst picks might surprise</h3>\n",
       " <img alt=\"The Washington Post Logo\" data-src='{\"default\":\"//static-global-s-msn-com.akamaized.net/img-resizer/tenant/amp/entityid/AAyxkRJ.img?h=16&amp;w=16&amp;m=6&amp;q=60&amp;u=t&amp;o=t&amp;l=f&amp;f=png\"}' src=\"//static-global-s-msn-com.akamaized.net/hp-eus/sc/9b/e151e5.gif\"/> <span>The Washington Post</span>\n",
       " </div>\n",
       " </a>\n",
       " </li>\n",
       " <li data-id=\"628\" data-m='{\"i\":628,\"p\":625,\"n\":\"HeadlineItemViewModel\",\"y\":13,\"l\":\"AAGasWk\",\"h\":0,\"v\":\"foodanddrink\",\"c\":\"tipsandtricks\",\"o\":3}'>\n",
       " <a href=\"/en-us/foodanddrink/tipsandtricks/the-one-dish-you-should-bring-to-your-next-potluck-according-to-ree-drummond/ar-AAGasWk?li=BBnb7Kw\">\n",
       " <img alt=\"Ree Drummond is pictured during an interview in Pawhuska, Okla, Wednesday, June ...\" data-src='{\"default\":\"//static-global-s-msn-com.akamaized.net/img-resizer/tenant/amp/entityid/AAGjhNv.img?h=75&amp;w=100&amp;m=6&amp;q=60&amp;u=t&amp;o=t&amp;l=f&amp;x=2825&amp;y=799\"}' src=\"//static-global-s-msn-com.akamaized.net/hp-eus/sc/9b/e151e5.gif\" title=\"Hearst Magazines' Unbound Access MagFront - 2017 Getty Images\"/> <div>\n",
       " <h3 aria-label=\"ree drummond on the one dish you should bring to your next potluck-article\">Ree Drummond on the one dish you should bring to your next potluck</h3>\n",
       " <img alt=\"Taste of Home Logo\" data-src='{\"default\":\"//static-global-s-msn-com.akamaized.net/img-resizer/tenant/amp/entityid/AADeDDC.img?h=16&amp;w=16&amp;m=6&amp;q=60&amp;u=t&amp;o=t&amp;l=f&amp;f=png\"}' src=\"//static-global-s-msn-com.akamaized.net/hp-eus/sc/9b/e151e5.gif\"/> <span>Taste of Home</span>\n",
       " </div>\n",
       " </a>\n",
       " </li>\n",
       " </ul>,\n",
       " <ul class=\"secondary\" data-aop=\"secondary\" data-id=\"629\" data-m='{\"i\":629,\"p\":618,\"n\":\"secondary\",\"y\":8,\"o\":4}'>\n",
       " <li data-id=\"630\" data-m='{\"i\":630,\"p\":629,\"n\":\"HeadlineItemViewModel\",\"y\":13,\"l\":\"AAGeulV\",\"h\":0,\"v\":\"foodanddrink\",\"c\":\"tipsandtricks\",\"o\":1}'>\n",
       " <a href=\"/en-us/foodanddrink/tipsandtricks/heres-the-secret-to-making-the-best-apple-pie/ar-AAGeulV?li=BBnb7Kw\">\n",
       " <img alt=\"Here’s the Secret to Making the Best Apple Pie\" data-src='{\"default\":\"//static-global-s-msn-com.akamaized.net/img-resizer/tenant/amp/entityid/AAGewYp.img?h=194&amp;w=300&amp;m=6&amp;q=60&amp;u=t&amp;o=t&amp;l=f&amp;x=362&amp;y=766\"}' src=\"//static-global-s-msn-com.akamaized.net/hp-eus/sc/9b/e151e5.gif\" title=\"Here’s the Secret to Making the Best Apple Pie - Ted + Chelsea Cavanaugh\"/> <div>\n",
       " <h3 aria-label=\"here's the secret to making the best apple pie-article\">Here's the secret to making the best apple pie</h3>\n",
       " <img alt=\"Real Simple Logo\" data-src='{\"default\":\"//static-global-s-msn-com.akamaized.net/img-resizer/tenant/amp/entityid/AAfojr6.img?h=16&amp;w=16&amp;m=6&amp;q=60&amp;u=t&amp;o=t&amp;l=f&amp;f=png\"}' src=\"//static-global-s-msn-com.akamaized.net/hp-eus/sc/9b/e151e5.gif\"/> <span>Real Simple</span>\n",
       " </div>\n",
       " </a>\n",
       " </li>\n",
       " </ul>]"
      ]
     },
     "execution_count": 63,
     "metadata": {},
     "output_type": "execute_result"
    }
   ],
   "source": [
    "a.find_all('ul')"
   ]
  },
  {
   "cell_type": "code",
   "execution_count": 62,
   "metadata": {},
   "outputs": [
    {
     "data": {
      "text/plain": [
       "<div aria-label=\"food &amp; drink\" class=\"stripecontainer\" data-section-id=\"stripe.foodanddrink\" role=\"region\">\n",
       "<div class=\"fooddrink stripeouter\" data-aop=\"stripe.foodanddrink_stripe\" data-id=\"601\" data-m='{\"i\":601,\"p\":25,\"n\":\"stripe.foodanddrink\",\"t\":\"stripe\",\"o\":14}'>\n",
       "<button class=\"leftarrow\" data-id=\"602\" data-m='{\"i\":602,\"p\":601,\"n\":\"leftarrow\",\"y\":12,\"o\":1}' tabindex=\"-1\" title=\"previous\"></button>\n",
       "<div class=\"stripe full-width\">\n",
       "<div class=\"stripenav\" data-aop=\"stripe.foodanddrink.navigation_stripenavigation\" data-id=\"603\" data-m='{\"i\":603,\"p\":601,\"n\":\"stripe.foodanddrink.navigation\",\"t\":\"stripeNavigation\",\"o\":2}'>\n",
       "<ul>\n",
       "<li data-id=\"604\" data-m='{\"i\":604,\"p\":603,\"n\":\"foodanddrink\",\"y\":4,\"o\":1}'>\n",
       "<h2><a data-id=\"605\" data-m='{\"i\":605,\"p\":603,\"n\":\"foodanddrink\",\"y\":4,\"o\":2}' href=\"/en-us/foodanddrink\">Food &amp; Drink</a></h2>\n",
       "</li>\n",
       "<li class=\"hide12\" data-id=\"606\" data-m='{\"i\":606,\"p\":603,\"n\":\"Food News\",\"y\":4,\"o\":3}'><a href=\"/en-us/foodanddrink/restaurantsandnews\">FOOD NEWS</a></li>\n",
       "<li class=\"hide12\" data-id=\"607\" data-m='{\"i\":607,\"p\":603,\"n\":\"Restaurants\",\"y\":4,\"o\":4}'><a href=\"/en-us/foodanddrink/restaurantsandnews/casual\">RESTAURANTS</a></li>\n",
       "<li class=\"hide12\" data-id=\"608\" data-m='{\"i\":608,\"p\":603,\"n\":\"Recipes\",\"y\":4,\"o\":5}'><a href=\"/en-us/foodanddrink/cooking/recipes\">RECIPES</a></li>\n",
       "<li class=\"hide12\" data-id=\"609\" data-m='{\"i\":609,\"p\":603,\"n\":\"Quick \\u0026 Easy\",\"y\":4,\"o\":6}'><a href=\"/en-us/foodanddrink/cooking/quickandeasy\">QUICK &amp; EASY</a></li>\n",
       "<li class=\"hide12\" data-id=\"610\" data-m='{\"i\":610,\"p\":603,\"n\":\"Tips \\u0026 Tricks\",\"y\":4,\"o\":7}'><a href=\"/en-us/foodanddrink/cooking/tipsandtricks\">TIPS &amp; TRICKS</a></li>\n",
       "<li class=\"hide123\" data-id=\"611\" data-m='{\"i\":611,\"p\":603,\"n\":\"Drinks\",\"y\":4,\"o\":8}'><a href=\"/en-us/foodanddrink/beverages\">DRINKS</a></li>\n",
       "<li class=\"hide123\" data-id=\"612\" data-m='{\"i\":612,\"p\":603,\"n\":\"videos\",\"y\":4,\"o\":9}'><a href=\"/en-us/foodanddrink/video\">VIDEO</a></li>\n",
       "</ul>\n",
       "<div class=\"stripemenu\" role=\"menu\">\n",
       "<button class=\"edit\" data-id=\"613\" data-m='{\"i\":613,\"p\":603,\"n\":\"personalization\",\"t\":\"dropdown\",\"o\":10}'>Edit</button>\n",
       "<button class=\"remove\" data-id=\"614\" data-m='{\"i\":614,\"p\":603,\"n\":\"remove\",\"t\":\"dropdownitem\",\"o\":11}' role=\"menuitem\">Remove Section</button>\n",
       "<button class=\"up\" data-id=\"615\" data-m='{\"i\":615,\"p\":603,\"n\":\"moveup\",\"t\":\"dropdownitem\",\"o\":12}' role=\"menuitem\">Move Section Up</button>\n",
       "<button class=\"down\" data-id=\"616\" data-m='{\"i\":616,\"p\":603,\"n\":\"movedown\",\"t\":\"dropdownitem\",\"o\":13}' role=\"menuitem\">Move Section Down</button>\n",
       "<button class=\"add\" data-id=\"617\" data-m='{\"i\":617,\"p\":603,\"n\":\"addbelow\",\"t\":\"dropdownitem\",\"o\":14}' role=\"menuitem\">Add Section Below</button>\n",
       "</div>\n",
       "</div>\n",
       "<div class=\"paging-container\">\n",
       "<div class=\"stripecontent normaldensity\" data-aop=\"top stories\" data-id=\"618\" data-m='{\"i\":618,\"p\":601,\"n\":\"stripe.foodanddrink.topstories\",\"t\":\"headlines\",\"o\":3}' data-module-id=\"startpage|stripe.foodanddrink|stripe|stripe.foodanddrink.topstories|headlines\">\n",
       "<ul class=\"secondary\" data-aop=\"secondary\" data-id=\"619\" data-m='{\"i\":619,\"p\":618,\"n\":\"secondary\",\"y\":8,\"o\":1}'>\n",
       "<li class=\"media photo\" data-id=\"620\" data-m='{\"i\":620,\"p\":619,\"n\":\"HeadlineItemViewModel\",\"y\":13,\"l\":\"AAEUc5d\",\"h\":0,\"v\":\"foodanddrink\",\"c\":\"tipsandtricks\",\"o\":1}'>\n",
       "<a href=\"/en-us/foodanddrink/tipsandtricks/10-mistakes-everyone-makes-when-buying-bread/ss-AAEUc5d?li=BBnb7Kw\">\n",
       "<img alt=\"While bread does need a pinch of sugar to activate the yeast, it shouldn't be de...\" data-src='{\"default\":\"//static-global-s-msn-com.akamaized.net/img-resizer/tenant/amp/entityid/AAEUnWr.img?h=194&amp;w=300&amp;m=6&amp;q=60&amp;u=t&amp;o=t&amp;l=f&amp;x=541&amp;y=555\"}' src=\"//static-global-s-msn-com.akamaized.net/hp-eus/sc/9b/e151e5.gif\" title=\"Not checking for hidden sugar - TY Lim/Shutterstock\"/> <div>\n",
       "<h3 aria-label=\"10 mistakes everyone makes when buying bread-slideshow\">10 mistakes everyone makes when buying bread</h3>\n",
       "<img alt=\"Taste of Home Logo\" data-src='{\"default\":\"//static-global-s-msn-com.akamaized.net/img-resizer/tenant/amp/entityid/AADeDDC.img?h=16&amp;w=16&amp;m=6&amp;q=60&amp;u=t&amp;o=t&amp;l=f&amp;f=png\"}' src=\"//static-global-s-msn-com.akamaized.net/hp-eus/sc/9b/e151e5.gif\"/> <span>Taste of Home</span>\n",
       "</div>\n",
       "</a>\n",
       "</li>\n",
       "</ul>\n",
       "<ul class=\"tertiary\" data-aop=\"tertiary\" data-id=\"621\" data-m='{\"i\":621,\"p\":618,\"n\":\"tertiary\",\"y\":8,\"o\":2}'>\n",
       "<li class=\"media photo\" data-id=\"622\" data-m='{\"i\":622,\"p\":621,\"n\":\"HeadlineItemViewModel\",\"y\":13,\"l\":\"AAGbZsZ\",\"h\":0,\"v\":\"foodanddrink\",\"c\":\"recipes\",\"o\":1}'>\n",
       "<a href=\"/en-us/foodanddrink/recipes/the-most-in-demand-cake-of-every-decade/ss-AAGbZsZ?li=BBnb7Kw\">\n",
       "<img alt=\"The turn of the century saw the first chocol...\" data-src='{\"default\":\"//static-global-s-msn-com.akamaized.net/img-resizer/tenant/amp/entityid/AACT56D.img?h=75&amp;w=100&amp;m=6&amp;q=60&amp;u=t&amp;o=t&amp;l=f&amp;x=691&amp;y=507\"}' src=\"//static-global-s-msn-com.akamaized.net/hp-eus/sc/9b/e151e5.gif\" title=\"Classic Chocolate Cake - Taste of Home\"/> <div>\n",
       "<h3 aria-label=\"the most in-demand cake of every decade-slideshow\">The most in-demand cake of every decade</h3>\n",
       "<img alt=\"Taste of Home Logo\" data-src='{\"default\":\"//static-global-s-msn-com.akamaized.net/img-resizer/tenant/amp/entityid/AADeDDC.img?h=16&amp;w=16&amp;m=6&amp;q=60&amp;u=t&amp;o=t&amp;l=f&amp;f=png\"}' src=\"//static-global-s-msn-com.akamaized.net/hp-eus/sc/9b/e151e5.gif\"/> <span>Taste of Home</span>\n",
       "</div>\n",
       "</a>\n",
       "</li>\n",
       "<li data-id=\"623\" data-m='{\"i\":623,\"p\":621,\"n\":\"HeadlineItemViewModel\",\"y\":13,\"l\":\"AAGeg96\",\"h\":0,\"v\":\"foodanddrink\",\"c\":\"tipsandtricks\",\"o\":2}'>\n",
       "<a href=\"/en-us/foodanddrink/tipsandtricks/pork-shoulder-is-the-new-steak/ar-AAGeg96?li=BBnb7Kw\">\n",
       "<img alt=\"Pork Shoulder Is the New Steak\" data-src='{\"default\":\"//static-global-s-msn-com.akamaized.net/img-resizer/tenant/amp/entityid/AAGeg8N.img?h=75&amp;w=100&amp;m=6&amp;q=60&amp;u=t&amp;o=t&amp;l=f&amp;x=2096&amp;y=1515\"}' src=\"//static-global-s-msn-com.akamaized.net/hp-eus/sc/9b/e151e5.gif\" title=\"Pork Shoulder Is the New Steak - Photo by Joseph De Leo, Food Styling by Erika Joyce\"/> <div>\n",
       "<h3 aria-label=\"pork shoulder is the new steak-article\">Pork shoulder is the new steak</h3>\n",
       "<img alt=\"Epicurious Logo\" data-src='{\"default\":\"//static-global-s-msn-com.akamaized.net/img-resizer/tenant/amp/entityid/AA9Aicg.img?h=16&amp;w=16&amp;m=6&amp;q=60&amp;u=t&amp;o=t&amp;l=f&amp;f=png\"}' src=\"//static-global-s-msn-com.akamaized.net/hp-eus/sc/9b/e151e5.gif\"/> <span>Epicurious</span>\n",
       "</div>\n",
       "</a>\n",
       "</li>\n",
       "<li data-id=\"624\" data-m='{\"i\":624,\"p\":621,\"n\":\"HeadlineItemViewModel\",\"y\":13,\"l\":\"AAGh0FD\",\"h\":0,\"v\":\"foodanddrink\",\"c\":\"foodnews\",\"o\":3}'>\n",
       "<a href=\"/en-us/foodanddrink/foodnews/the-ceo-of-popeyes-parent-company-breaks-down-the-massive-success-of-its-chicken-sandwich/ar-AAGh0FD?li=BBnb7Kw\">\n",
       "<img alt=\"\" data-src='{\"default\":\"//static-global-s-msn-com.akamaized.net/img-resizer/tenant/amp/entityid/AAGgYGw.img?h=75&amp;w=100&amp;m=6&amp;q=60&amp;u=t&amp;o=t&amp;l=f&amp;x=902&amp;y=1027\"}' src=\"//static-global-s-msn-com.akamaized.net/hp-eus/sc/9b/e151e5.gif\" title=\"The CEO of Popeyes' parent company breaks down the massive success of its chicke... - Irene Jiang / Business Insider\"/> <div>\n",
       "<h3 aria-label=\"popeyes' parent company ceo on chicken sandwich success-article\">Popeyes' parent company CEO on chicken sandwich success</h3>\n",
       "<img alt=\"Business Insider Logo\" data-src='{\"default\":\"//static-global-s-msn-com.akamaized.net/img-resizer/tenant/amp/entityid/AAywSGf.img?h=16&amp;w=16&amp;m=6&amp;q=60&amp;u=t&amp;o=t&amp;l=f&amp;f=png\"}' src=\"//static-global-s-msn-com.akamaized.net/hp-eus/sc/9b/e151e5.gif\"/> <span>Business Insider</span>\n",
       "</div>\n",
       "</a>\n",
       "</li>\n",
       "</ul>\n",
       "<ul class=\"tertiary\" data-aop=\"tertiary\" data-id=\"625\" data-m='{\"i\":625,\"p\":618,\"n\":\"tertiary\",\"y\":8,\"o\":3}'>\n",
       "<li class=\"media photo\" data-id=\"626\" data-m='{\"i\":626,\"p\":625,\"n\":\"HeadlineItemViewModel\",\"y\":13,\"l\":\"AAGegWs\",\"h\":0,\"v\":\"foodanddrink\",\"c\":\"tipsandtricks\",\"o\":1}'>\n",
       "<a href=\"/en-us/foodanddrink/tipsandtricks/17-secret-waiter-tricks-that-diners-never-notice/ss-AAGegWs?li=BBnb7Kw\">\n",
       "<img alt=\"When you’re a server or bartender wanting to rake in some tips, it’s in your ...\" data-src='{\"default\":\"//static-global-s-msn-com.akamaized.net/img-resizer/tenant/amp/entityid/AAGeuHT.img?h=75&amp;w=100&amp;m=6&amp;q=60&amp;u=t&amp;o=t&amp;l=f&amp;x=662&amp;y=172\"}' src=\"//static-global-s-msn-com.akamaized.net/hp-eus/sc/9b/e151e5.gif\" title=\"17 Secret Waiter Tricks That Diners Never Notice - Provided by Eat This, Not That!\"/> <div>\n",
       "<h3 aria-label=\"17 secret waiter tricks that diners never notice-slideshow\">17 secret waiter tricks that diners never notice</h3>\n",
       "<img alt=\"Eat This, Not That! Logo\" data-src='{\"default\":\"//static-global-s-msn-com.akamaized.net/img-resizer/tenant/amp/entityid/AA9YFNL.img?h=16&amp;w=16&amp;m=6&amp;q=60&amp;u=t&amp;o=t&amp;l=f&amp;f=png\"}' src=\"//static-global-s-msn-com.akamaized.net/hp-eus/sc/9b/e151e5.gif\"/> <span>Eat This, Not That!</span>\n",
       "</div>\n",
       "</a>\n",
       "</li>\n",
       "<li data-id=\"627\" data-m='{\"i\":627,\"p\":625,\"n\":\"HeadlineItemViewModel\",\"y\":13,\"l\":\"AAGbbAS\",\"h\":0,\"v\":\"foodanddrink\",\"c\":\"tipsandtricks\",\"o\":2}'>\n",
       "<a href=\"/en-us/foodanddrink/tipsandtricks/we-tried-13-popular-potato-chip-brands-and-our-top-and-bottom-picks-might-just-surprise-you/ar-AAGbbAS?li=BBnb7Kw\">\n",
       "<img alt=\"From left to right: Utz, Herr’s and Route 11.\" data-src='{\"default\":\"//static-global-s-msn-com.akamaized.net/img-resizer/tenant/amp/entityid/AAGaXIx.img?h=75&amp;w=100&amp;m=6&amp;q=60&amp;u=t&amp;o=t&amp;l=f&amp;x=417&amp;y=313\"}' src=\"//static-global-s-msn-com.akamaized.net/hp-eus/sc/9b/e151e5.gif\" title=\"From left to right: Utz, Herr’s and Route 11.\"/> <div>\n",
       "<h3 aria-label=\"we tried 13 popular chips. our best &amp; worst picks might surprise-article\">We tried 13 popular chips. Our best &amp; worst picks might surprise</h3>\n",
       "<img alt=\"The Washington Post Logo\" data-src='{\"default\":\"//static-global-s-msn-com.akamaized.net/img-resizer/tenant/amp/entityid/AAyxkRJ.img?h=16&amp;w=16&amp;m=6&amp;q=60&amp;u=t&amp;o=t&amp;l=f&amp;f=png\"}' src=\"//static-global-s-msn-com.akamaized.net/hp-eus/sc/9b/e151e5.gif\"/> <span>The Washington Post</span>\n",
       "</div>\n",
       "</a>\n",
       "</li>\n",
       "<li data-id=\"628\" data-m='{\"i\":628,\"p\":625,\"n\":\"HeadlineItemViewModel\",\"y\":13,\"l\":\"AAGasWk\",\"h\":0,\"v\":\"foodanddrink\",\"c\":\"tipsandtricks\",\"o\":3}'>\n",
       "<a href=\"/en-us/foodanddrink/tipsandtricks/the-one-dish-you-should-bring-to-your-next-potluck-according-to-ree-drummond/ar-AAGasWk?li=BBnb7Kw\">\n",
       "<img alt=\"Ree Drummond is pictured during an interview in Pawhuska, Okla, Wednesday, June ...\" data-src='{\"default\":\"//static-global-s-msn-com.akamaized.net/img-resizer/tenant/amp/entityid/AAGjhNv.img?h=75&amp;w=100&amp;m=6&amp;q=60&amp;u=t&amp;o=t&amp;l=f&amp;x=2825&amp;y=799\"}' src=\"//static-global-s-msn-com.akamaized.net/hp-eus/sc/9b/e151e5.gif\" title=\"Hearst Magazines' Unbound Access MagFront - 2017 Getty Images\"/> <div>\n",
       "<h3 aria-label=\"ree drummond on the one dish you should bring to your next potluck-article\">Ree Drummond on the one dish you should bring to your next potluck</h3>\n",
       "<img alt=\"Taste of Home Logo\" data-src='{\"default\":\"//static-global-s-msn-com.akamaized.net/img-resizer/tenant/amp/entityid/AADeDDC.img?h=16&amp;w=16&amp;m=6&amp;q=60&amp;u=t&amp;o=t&amp;l=f&amp;f=png\"}' src=\"//static-global-s-msn-com.akamaized.net/hp-eus/sc/9b/e151e5.gif\"/> <span>Taste of Home</span>\n",
       "</div>\n",
       "</a>\n",
       "</li>\n",
       "</ul>\n",
       "<ul class=\"secondary\" data-aop=\"secondary\" data-id=\"629\" data-m='{\"i\":629,\"p\":618,\"n\":\"secondary\",\"y\":8,\"o\":4}'>\n",
       "<li data-id=\"630\" data-m='{\"i\":630,\"p\":629,\"n\":\"HeadlineItemViewModel\",\"y\":13,\"l\":\"AAGeulV\",\"h\":0,\"v\":\"foodanddrink\",\"c\":\"tipsandtricks\",\"o\":1}'>\n",
       "<a href=\"/en-us/foodanddrink/tipsandtricks/heres-the-secret-to-making-the-best-apple-pie/ar-AAGeulV?li=BBnb7Kw\">\n",
       "<img alt=\"Here’s the Secret to Making the Best Apple Pie\" data-src='{\"default\":\"//static-global-s-msn-com.akamaized.net/img-resizer/tenant/amp/entityid/AAGewYp.img?h=194&amp;w=300&amp;m=6&amp;q=60&amp;u=t&amp;o=t&amp;l=f&amp;x=362&amp;y=766\"}' src=\"//static-global-s-msn-com.akamaized.net/hp-eus/sc/9b/e151e5.gif\" title=\"Here’s the Secret to Making the Best Apple Pie - Ted + Chelsea Cavanaugh\"/> <div>\n",
       "<h3 aria-label=\"here's the secret to making the best apple pie-article\">Here's the secret to making the best apple pie</h3>\n",
       "<img alt=\"Real Simple Logo\" data-src='{\"default\":\"//static-global-s-msn-com.akamaized.net/img-resizer/tenant/amp/entityid/AAfojr6.img?h=16&amp;w=16&amp;m=6&amp;q=60&amp;u=t&amp;o=t&amp;l=f&amp;f=png\"}' src=\"//static-global-s-msn-com.akamaized.net/hp-eus/sc/9b/e151e5.gif\"/> <span>Real Simple</span>\n",
       "</div>\n",
       "</a>\n",
       "</li>\n",
       "</ul>\n",
       "</div>\n",
       "</div>\n",
       "<div class=\"paging\"></div>\n",
       "</div>\n",
       "<button class=\"rightarrow\" data-id=\"631\" data-m='{\"i\":631,\"p\":601,\"n\":\"rightarrow\",\"y\":12,\"o\":4}' tabindex=\"-1\" title=\"next\"></button>\n",
       "</div>\n",
       "</div>"
      ]
     },
     "execution_count": 62,
     "metadata": {},
     "output_type": "execute_result"
    }
   ],
   "source": [
    "a"
   ]
  },
  {
   "cell_type": "code",
   "execution_count": 59,
   "metadata": {},
   "outputs": [
    {
     "data": {
      "text/plain": [
       "{'class': ['stripecontainer'],\n",
       " 'role': 'region',\n",
       " 'aria-label': 'food & drink',\n",
       " 'data-section-id': 'stripe.foodanddrink'}"
      ]
     },
     "execution_count": 59,
     "metadata": {},
     "output_type": "execute_result"
    }
   ],
   "source": [
    "a.attrs"
   ]
  },
  {
   "cell_type": "code",
   "execution_count": 61,
   "metadata": {},
   "outputs": [
    {
     "data": {
      "text/plain": [
       "[<img alt=\"Business Insider Logo\" data-src='{\"default\":\"//static-global-s-msn-com.akamaized.net/img-resizer/tenant/amp/entityid/AAywSGf.img?h=16&amp;w=16&amp;m=6&amp;q=60&amp;u=t&amp;o=t&amp;l=f&amp;f=png\"}' src=\"//static-global-s-msn-com.akamaized.net/hp-eus/sc/9b/e151e5.gif\"/>]"
      ]
     },
     "execution_count": 61,
     "metadata": {},
     "output_type": "execute_result"
    }
   ],
   "source": [
    "a.select('img[alt=\"Business Insider Logo\"]')"
   ]
  },
  {
   "cell_type": "code",
   "execution_count": 38,
   "metadata": {},
   "outputs": [
    {
     "data": {
      "text/plain": [
       "[[11, 'food & drink'], {11, 'food & drink'}]"
      ]
     },
     "execution_count": 38,
     "metadata": {},
     "output_type": "execute_result"
    }
   ],
   "source": [
    "df"
   ]
  },
  {
   "cell_type": "code",
   "execution_count": 39,
   "metadata": {},
   "outputs": [
    {
     "data": {
      "text/html": [
       "<div>\n",
       "<style scoped>\n",
       "    .dataframe tbody tr th:only-of-type {\n",
       "        vertical-align: middle;\n",
       "    }\n",
       "\n",
       "    .dataframe tbody tr th {\n",
       "        vertical-align: top;\n",
       "    }\n",
       "\n",
       "    .dataframe thead th {\n",
       "        text-align: right;\n",
       "    }\n",
       "</style>\n",
       "<table border=\"1\" class=\"dataframe\">\n",
       "  <thead>\n",
       "    <tr style=\"text-align: right;\">\n",
       "      <th></th>\n",
       "      <th>0</th>\n",
       "      <th>1</th>\n",
       "    </tr>\n",
       "  </thead>\n",
       "  <tbody>\n",
       "    <tr>\n",
       "      <th>0</th>\n",
       "      <td>11</td>\n",
       "      <td>food &amp; drink</td>\n",
       "    </tr>\n",
       "    <tr>\n",
       "      <th>1</th>\n",
       "      <td>food &amp; drink</td>\n",
       "      <td>11</td>\n",
       "    </tr>\n",
       "  </tbody>\n",
       "</table>\n",
       "</div>"
      ],
      "text/plain": [
       "              0             1\n",
       "0            11  food & drink\n",
       "1  food & drink            11"
      ]
     },
     "execution_count": 39,
     "metadata": {},
     "output_type": "execute_result"
    }
   ],
   "source": [
    "pd.DataFrame(df)"
   ]
  },
  {
   "cell_type": "code",
   "execution_count": 44,
   "metadata": {},
   "outputs": [
    {
     "data": {
      "text/plain": [
       "[<img alt=\"Business Insider Logo\" data-src='{\"default\":\"//static-global-s-msn-com.akamaized.net/img-resizer/tenant/amp/entityid/AAywSGf.img?h=16&amp;w=16&amp;m=6&amp;q=60&amp;u=t&amp;o=t&amp;l=f&amp;f=png\"}' src=\"//static-global-s-msn-com.akamaized.net/hp-eus/sc/9b/e151e5.gif\"/>]"
      ]
     },
     "execution_count": 44,
     "metadata": {},
     "output_type": "execute_result"
    }
   ],
   "source": [
    "soup.select('.stripecontainer[aria-label]')[9].select('img[alt=\"Business Insider Logo\"]')"
   ]
  },
  {
   "cell_type": "code",
   "execution_count": null,
   "metadata": {},
   "outputs": [],
   "source": []
  }
 ],
 "metadata": {
  "kernelspec": {
   "display_name": "Python 3",
   "language": "python",
   "name": "python3"
  },
  "language_info": {
   "codemirror_mode": {
    "name": "ipython",
    "version": 3
   },
   "file_extension": ".py",
   "mimetype": "text/x-python",
   "name": "python",
   "nbconvert_exporter": "python",
   "pygments_lexer": "ipython3",
   "version": "3.7.3"
  }
 },
 "nbformat": 4,
 "nbformat_minor": 2
}
